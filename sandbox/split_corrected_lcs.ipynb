{
 "cells": [
  {
   "cell_type": "code",
   "execution_count": 1,
   "metadata": {},
   "outputs": [],
   "source": [
    "import os, glob\n",
    "\n",
    "import pickle\n",
    "import numpy as np\n",
    "import pandas as pd\n",
    "import lightkurve as lk\n",
    "import matplotlib.pyplot as plt\n",
    "from matplotlib import colors\n",
    "from matplotlib import patches\n",
    "from tqdm.auto import tqdm\n",
    "\n",
    "from astropy.io import fits\n",
    "from astropy.table import Table\n",
    "\n",
    "path = os.path.dirname(os.getcwd())\n",
    "sys.path.append(path)\n",
    "from kepler_apertures import EXBAMachine\n",
    "\n",
    "%matplotlib inline"
   ]
  },
  {
   "cell_type": "code",
   "execution_count": 2,
   "metadata": {},
   "outputs": [
    {
     "data": {
      "text/plain": [
       "(array([ 5,  6,  7,  8,  9, 10, 11, 12, 13, 14, 15, 16, 17]),\n",
       " array([ 1,  2,  3,  4,  9, 10, 11, 12, 13, 14, 15, 16, 17, 18, 19, 20, 21,\n",
       "        22, 23, 24, 25, 26, 27, 28, 29, 30, 31, 32, 33, 34, 35, 36, 37, 38,\n",
       "        39, 40, 41, 42, 43, 44, 45, 46, 47, 48, 49, 50, 51, 52, 53, 54, 55,\n",
       "        56, 57, 58, 59, 60, 61, 62, 63, 64, 65, 66, 67, 68, 69, 70, 71, 72,\n",
       "        73, 74, 75, 76, 77, 78, 79, 80, 81, 82, 83, 84]))"
      ]
     },
     "execution_count": 2,
     "metadata": {},
     "output_type": "execute_result"
    }
   ],
   "source": [
    "Q = 6\n",
    "quarters = np.arange(5, 18)\n",
    "channels = np.arange(1, 85)\n",
    "channels = np.delete(channels, [4,5,6,7])\n",
    "quarters, channels"
   ]
  },
  {
   "cell_type": "code",
   "execution_count": 39,
   "metadata": {},
   "outputs": [
    {
     "data": {
      "application/vnd.jupyter.widget-view+json": {
       "model_id": "0b9cf791a01a4390b1e4b567eeb3903a",
       "version_major": 2,
       "version_minor": 0
      },
      "text/plain": [
       "Loading pkls 5:   0%|          | 0/80 [00:00<?, ?it/s]"
      ]
     },
     "metadata": {},
     "output_type": "display_data"
    },
    {
     "data": {
      "application/vnd.jupyter.widget-view+json": {
       "model_id": "70e4de9c8c96438db1b21091ac9b063a",
       "version_major": 2,
       "version_minor": 0
      },
      "text/plain": [
       "Loading pkls 6:   0%|          | 0/80 [00:00<?, ?it/s]"
      ]
     },
     "metadata": {},
     "output_type": "display_data"
    },
    {
     "data": {
      "application/vnd.jupyter.widget-view+json": {
       "model_id": "43b623d3f1974679b63dc0060cfd1be9",
       "version_major": 2,
       "version_minor": 0
      },
      "text/plain": [
       "Loading pkls 7:   0%|          | 0/80 [00:00<?, ?it/s]"
      ]
     },
     "metadata": {},
     "output_type": "display_data"
    },
    {
     "data": {
      "application/vnd.jupyter.widget-view+json": {
       "model_id": "6a1a47b1b93d4765a46dac53560d6b04",
       "version_major": 2,
       "version_minor": 0
      },
      "text/plain": [
       "Loading pkls 8:   0%|          | 0/80 [00:00<?, ?it/s]"
      ]
     },
     "metadata": {},
     "output_type": "display_data"
    }
   ],
   "source": [
    "for Q in quarters[:4]:\n",
    "    # Load EXBA stamp, catalo, and metadata\n",
    "    bls_results = {}\n",
    "    clcs = {}\n",
    "    for ch in tqdm(channels, desc=\"Loading pkls %i\" % Q):\n",
    "        aux = pickle.load(open(\"../data/export/%i/%02i/bls_results_q%i_ch%02i.pkl\" % (Q, ch, Q, ch), \"rb\"))\n",
    "        clcs[ch] = aux[\"lc_corrected\"]\n",
    "        df_ = aux[\"table\"]\n",
    "        df_[\"channel\"] = ch\n",
    "        bls_results[ch] = df_\n",
    "\n",
    "    df = pd.concat(list(bls_results.values()), axis=0)\n",
    "    df = df.reset_index()\n",
    "    df.to_csv(\"../data/export/corrected/%i/bls_shortP_q%i.csv\" % (Q, Q))\n",
    "    \n",
    "    if True:\n",
    "        continue\n",
    "    \n",
    "    quarter_path = \"../data/export/corrected/%i\" % (Q)\n",
    "    for ch, lcs in tqdm(clcs.items(), desc=\"Writing FITS\"):\n",
    "        channel_path = \"%s/%02i\" % (quarter_path, ch)\n",
    "        if not os.path.isdir(channel_path):\n",
    "            os.mkdir(channel_path)\n",
    "        for lc in lcs:\n",
    "            fname = \"%s/%s\" % (channel_path, lc.meta[\"FILENAME\"].split(\"/\")[-1])\n",
    "            if True:\n",
    "                lk.LightCurve(lc).to_fits(path=fname, overwrite=True)\n"
   ]
  },
  {
   "cell_type": "code",
   "execution_count": 34,
   "metadata": {},
   "outputs": [],
   "source": []
  },
  {
   "cell_type": "code",
   "execution_count": 29,
   "metadata": {},
   "outputs": [
    {
     "data": {
      "application/vnd.jupyter.widget-view+json": {
       "model_id": "36afb339c5074c0880c77b625623febd",
       "version_major": 2,
       "version_minor": 0
      },
      "text/plain": [
       "  0%|          | 0/80 [00:00<?, ?it/s]"
      ]
     },
     "metadata": {},
     "output_type": "display_data"
    }
   ],
   "source": [
    "quarter_path = \"../data/export/corrected/%i\" % (Q)\n",
    "for ch, lcs in tqdm(clcs.items()):\n",
    "    channel_path = \"%s/%02i\" % (quarter_path, ch)\n",
    "    if not os.path.isdir(channel_path):\n",
    "        os.mkdir(channel_path)\n",
    "    for lc in lcs:\n",
    "        fname = \"%s/%s\" % (channel_path, lc.meta[\"FILENAME\"].split(\"/\")[-1])\n",
    "        if True:\n",
    "            lk.LightCurve(lc).to_fits(path=fname, overwrite=True)"
   ]
  },
  {
   "cell_type": "markdown",
   "metadata": {},
   "source": [
    "# Long BLS"
   ]
  },
  {
   "cell_type": "code",
   "execution_count": 3,
   "metadata": {},
   "outputs": [
    {
     "data": {
      "text/plain": [
       "array([ 1,  2,  3,  4,  5,  6,  7,  8,  9, 10, 11, 12, 13, 14, 15, 16, 17,\n",
       "       18, 19, 20, 21, 22, 23, 24, 25, 26, 27, 28, 29, 30, 31, 32, 33, 34,\n",
       "       35, 36, 37, 38, 39, 40, 41, 42, 43, 44, 45, 46, 47, 48, 49, 50, 51,\n",
       "       52, 53, 54, 55, 56, 57, 58, 59, 60, 61, 62, 63, 64, 65, 66, 67, 68,\n",
       "       69, 70, 71, 72, 73, 74, 75, 76, 77, 78, 79, 80, 81, 82, 83, 84, 85,\n",
       "       86, 87, 88, 89, 90, 91, 92, 93, 94])"
      ]
     },
     "execution_count": 3,
     "metadata": {},
     "output_type": "execute_result"
    }
   ],
   "source": [
    "batches = np.arange(1, 95)\n",
    "batches"
   ]
  },
  {
   "cell_type": "code",
   "execution_count": 4,
   "metadata": {},
   "outputs": [
    {
     "data": {
      "application/vnd.jupyter.widget-view+json": {
       "model_id": "1802a2938f0740559b883b8026412e48",
       "version_major": 2,
       "version_minor": 0
      },
      "text/plain": [
       "Batches:   0%|          | 0/94 [00:00<?, ?it/s]"
      ]
     },
     "metadata": {},
     "output_type": "display_data"
    }
   ],
   "source": [
    "bls_results = []\n",
    "for batch in tqdm(batches, desc=\"Batches\"):\n",
    "    aux = pd.read_csv(\"../data/export/long_bls/bls_longP_results_%02i.csv\" % (batch), index_col=0)\n",
    "    bls_results.append(aux)\n",
    "    \n",
    "bls_results = pd.concat(bls_results, axis=0).reset_index()"
   ]
  },
  {
   "cell_type": "code",
   "execution_count": 5,
   "metadata": {},
   "outputs": [
    {
     "data": {
      "text/html": [
       "<div>\n",
       "<style scoped>\n",
       "    .dataframe tbody tr th:only-of-type {\n",
       "        vertical-align: middle;\n",
       "    }\n",
       "\n",
       "    .dataframe tbody tr th {\n",
       "        vertical-align: top;\n",
       "    }\n",
       "\n",
       "    .dataframe thead th {\n",
       "        text-align: right;\n",
       "    }\n",
       "</style>\n",
       "<table border=\"1\" class=\"dataframe\">\n",
       "  <thead>\n",
       "    <tr style=\"text-align: right;\">\n",
       "      <th></th>\n",
       "      <th>index</th>\n",
       "      <th>designation</th>\n",
       "      <th>BLS_period</th>\n",
       "      <th>BLS_period_SNR</th>\n",
       "      <th>BLS_duration</th>\n",
       "      <th>BLS_depth</th>\n",
       "      <th>BLS_transit_time</th>\n",
       "    </tr>\n",
       "  </thead>\n",
       "  <tbody>\n",
       "    <tr>\n",
       "      <th>0</th>\n",
       "      <td>0</td>\n",
       "      <td>Gaia EDR3 2105384211065299328</td>\n",
       "      <td>348.161331</td>\n",
       "      <td>22.951149</td>\n",
       "      <td>0.450</td>\n",
       "      <td>0.075552</td>\n",
       "      <td>2.455372e+06</td>\n",
       "    </tr>\n",
       "    <tr>\n",
       "      <th>1</th>\n",
       "      <td>1</td>\n",
       "      <td>Gaia EDR3 2105384241127278208</td>\n",
       "      <td>348.161331</td>\n",
       "      <td>21.194797</td>\n",
       "      <td>0.450</td>\n",
       "      <td>0.046263</td>\n",
       "      <td>2.455372e+06</td>\n",
       "    </tr>\n",
       "    <tr>\n",
       "      <th>2</th>\n",
       "      <td>2</td>\n",
       "      <td>Gaia EDR3 2105384245425035392</td>\n",
       "      <td>348.161331</td>\n",
       "      <td>25.194258</td>\n",
       "      <td>0.450</td>\n",
       "      <td>0.017081</td>\n",
       "      <td>2.455372e+06</td>\n",
       "    </tr>\n",
       "    <tr>\n",
       "      <th>3</th>\n",
       "      <td>3</td>\n",
       "      <td>Gaia EDR3 2105384245425036032</td>\n",
       "      <td>350.876304</td>\n",
       "      <td>8.739377</td>\n",
       "      <td>0.330</td>\n",
       "      <td>0.002874</td>\n",
       "      <td>2.455363e+06</td>\n",
       "    </tr>\n",
       "    <tr>\n",
       "      <th>4</th>\n",
       "      <td>4</td>\n",
       "      <td>Gaia EDR3 2105384275487021696</td>\n",
       "      <td>304.306366</td>\n",
       "      <td>17.942446</td>\n",
       "      <td>0.030</td>\n",
       "      <td>0.102101</td>\n",
       "      <td>2.455403e+06</td>\n",
       "    </tr>\n",
       "    <tr>\n",
       "      <th>...</th>\n",
       "      <td>...</td>\n",
       "      <td>...</td>\n",
       "      <td>...</td>\n",
       "      <td>...</td>\n",
       "      <td>...</td>\n",
       "      <td>...</td>\n",
       "      <td>...</td>\n",
       "    </tr>\n",
       "    <tr>\n",
       "      <th>9322</th>\n",
       "      <td>22</td>\n",
       "      <td>Gaia EDR3 2086539951857563136</td>\n",
       "      <td>79.904992</td>\n",
       "      <td>7.173632</td>\n",
       "      <td>0.249</td>\n",
       "      <td>0.062134</td>\n",
       "      <td>2.456065e+06</td>\n",
       "    </tr>\n",
       "    <tr>\n",
       "      <th>9323</th>\n",
       "      <td>23</td>\n",
       "      <td>Gaia EDR3 2129526011778662272</td>\n",
       "      <td>86.448762</td>\n",
       "      <td>4.412601</td>\n",
       "      <td>0.030</td>\n",
       "      <td>0.125105</td>\n",
       "      <td>2.456110e+06</td>\n",
       "    </tr>\n",
       "    <tr>\n",
       "      <th>9324</th>\n",
       "      <td>24</td>\n",
       "      <td>Gaia EDR3 2143714973114706560</td>\n",
       "      <td>60.000000</td>\n",
       "      <td>3.672957</td>\n",
       "      <td>0.126</td>\n",
       "      <td>0.002612</td>\n",
       "      <td>2.456422e+06</td>\n",
       "    </tr>\n",
       "    <tr>\n",
       "      <th>9325</th>\n",
       "      <td>25</td>\n",
       "      <td>Gaia EDR3 2076208704382822912</td>\n",
       "      <td>60.000000</td>\n",
       "      <td>16.093070</td>\n",
       "      <td>0.030</td>\n",
       "      <td>0.016267</td>\n",
       "      <td>2.456395e+06</td>\n",
       "    </tr>\n",
       "    <tr>\n",
       "      <th>9326</th>\n",
       "      <td>26</td>\n",
       "      <td>Gaia EDR3 2082091710075415424</td>\n",
       "      <td>60.000000</td>\n",
       "      <td>5.662213</td>\n",
       "      <td>0.174</td>\n",
       "      <td>0.006381</td>\n",
       "      <td>2.456394e+06</td>\n",
       "    </tr>\n",
       "  </tbody>\n",
       "</table>\n",
       "<p>9327 rows × 7 columns</p>\n",
       "</div>"
      ],
      "text/plain": [
       "      index                    designation  BLS_period  BLS_period_SNR  \\\n",
       "0         0  Gaia EDR3 2105384211065299328  348.161331       22.951149   \n",
       "1         1  Gaia EDR3 2105384241127278208  348.161331       21.194797   \n",
       "2         2  Gaia EDR3 2105384245425035392  348.161331       25.194258   \n",
       "3         3  Gaia EDR3 2105384245425036032  350.876304        8.739377   \n",
       "4         4  Gaia EDR3 2105384275487021696  304.306366       17.942446   \n",
       "...     ...                            ...         ...             ...   \n",
       "9322     22  Gaia EDR3 2086539951857563136   79.904992        7.173632   \n",
       "9323     23  Gaia EDR3 2129526011778662272   86.448762        4.412601   \n",
       "9324     24  Gaia EDR3 2143714973114706560   60.000000        3.672957   \n",
       "9325     25  Gaia EDR3 2076208704382822912   60.000000       16.093070   \n",
       "9326     26  Gaia EDR3 2082091710075415424   60.000000        5.662213   \n",
       "\n",
       "      BLS_duration  BLS_depth  BLS_transit_time  \n",
       "0            0.450   0.075552      2.455372e+06  \n",
       "1            0.450   0.046263      2.455372e+06  \n",
       "2            0.450   0.017081      2.455372e+06  \n",
       "3            0.330   0.002874      2.455363e+06  \n",
       "4            0.030   0.102101      2.455403e+06  \n",
       "...            ...        ...               ...  \n",
       "9322         0.249   0.062134      2.456065e+06  \n",
       "9323         0.030   0.125105      2.456110e+06  \n",
       "9324         0.126   0.002612      2.456422e+06  \n",
       "9325         0.030   0.016267      2.456395e+06  \n",
       "9326         0.174   0.006381      2.456394e+06  \n",
       "\n",
       "[9327 rows x 7 columns]"
      ]
     },
     "execution_count": 5,
     "metadata": {},
     "output_type": "execute_result"
    }
   ],
   "source": [
    "bls_results"
   ]
  },
  {
   "cell_type": "code",
   "execution_count": 6,
   "metadata": {},
   "outputs": [],
   "source": [
    "bls_results.to_csv('../data/export/EXBA_BLS_results_longPeriods_longLCs.csv')"
   ]
  },
  {
   "cell_type": "code",
   "execution_count": null,
   "metadata": {},
   "outputs": [],
   "source": []
  }
 ],
 "metadata": {
  "kernelspec": {
   "display_name": "adap",
   "language": "python",
   "name": "adap"
  },
  "language_info": {
   "codemirror_mode": {
    "name": "ipython",
    "version": 3
   },
   "file_extension": ".py",
   "mimetype": "text/x-python",
   "name": "python",
   "nbconvert_exporter": "python",
   "pygments_lexer": "ipython3",
   "version": "3.8.6"
  }
 },
 "nbformat": 4,
 "nbformat_minor": 4
}
