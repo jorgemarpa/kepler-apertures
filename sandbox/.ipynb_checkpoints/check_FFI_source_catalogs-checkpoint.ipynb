{
 "cells": [
  {
   "cell_type": "code",
   "execution_count": 9,
   "metadata": {},
   "outputs": [],
   "source": [
    "import numpy as np\n",
    "import pandas as pd\n",
    "from astropy.io import fits\n",
    "import glob\n",
    "from tqdm.auto import tqdm"
   ]
  },
  {
   "cell_type": "code",
   "execution_count": 10,
   "metadata": {},
   "outputs": [
    {
     "data": {
      "text/plain": [
       "-0.7359428830942997"
      ]
     },
     "execution_count": 10,
     "metadata": {},
     "output_type": "execute_result"
    }
   ],
   "source": [
    "depth_odd_mean = 0.00503922\n",
    "depth_odd_err = 5.58157271e-05\n",
    "depth_even_mean = 0.00509802\n",
    "depth_even_err = 5.71683118e-05\n",
    "\n",
    "(depth_odd_mean - depth_even_mean)/(depth_odd_err**2 + depth_even_err**2)**0.5"
   ]
  },
  {
   "cell_type": "code",
   "execution_count": 11,
   "metadata": {},
   "outputs": [],
   "source": [
    "mjd_done = [\n",
    "    55307.51459974,\n",
    "    55399.03668604,\n",
    "    55492.78603754,\n",
    "    55585.55556804,\n",
    "    55677.42404264,\n",
    "    55769.45696544,\n",
    "    55864.77969804,\n",
    "    55958.40644554,\n",
    "    56047.49693394,\n",
    "    56137.50692204,\n",
    "    56236.81420744,\n",
    "    56330.54311544,\n",
    "    56390.47480454,\n",
    "]"
   ]
  },
  {
   "cell_type": "code",
   "execution_count": 12,
   "metadata": {},
   "outputs": [],
   "source": [
    "fnames = glob.glob(\"../data/fits/ffi/*.fits\")"
   ]
  },
  {
   "cell_type": "code",
   "execution_count": 40,
   "metadata": {},
   "outputs": [
    {
     "name": "stdout",
     "output_type": "stream",
     "text": [
      "kplr2009115131122 54946.52913182\n",
      "kplr2009292020429 55123.06602474\n",
      "kplr2011271191331 55832.78062804\n",
      "kplr2009115173611 54946.71303422\n",
      "kplr2009260000800 55090.98512704\n",
      "kplr2010203012215 55399.03668604\n",
      "kplr2012004204112 55930.84151904\n",
      "kplr2010078174524 55274.71942834\n",
      "kplr2012211123923 56137.50692204\n",
      "kplr2012088132324 56014.53748484\n",
      "kplr2010326181728 55522.74170174\n",
      "kplr2010356020128 55552.06392474\n",
      "kplr2012341215621 56267.89370604\n",
      "kplr2009170043915 55001.17349214\n",
      "kplr2011145152723 55706.62358874\n",
      "kplr2011303191211 55864.77969804\n",
      "kplr2009115002613 54945.99778262\n",
      "kplr2012032101442 55958.40644554\n",
      "kplr2011208112727 55769.45696544\n",
      "kplr2010019225502 55215.93445914\n",
      "kplr2010265195356 55461.80869384\n",
      "kplr2010111125026 55307.51459974\n",
      "kplr2013011160902 56303.65251524\n",
      "kplr2012277203051 56203.83432484\n",
      "kplr2010140101631 55336.40771054\n",
      "kplr2009114204835 54945.84664962\n",
      "kplr2010049182302 55245.74556834\n",
      "kplr2012151105138 56077.43209024\n",
      "kplr2009322233047 55153.95927784\n",
      "kplr2013098115308 56390.47480454\n",
      "kplr2013065115251 56357.47460744\n",
      "kplr2011116104002 55677.42404264\n",
      "kplr2012179140901 56105.56916384\n",
      "kplr2012060123308 55986.50257794\n",
      "kplr2009116035924 54947.14581722\n",
      "kplr2011177110110 55738.43871074\n",
      "kplr2009115053616 54946.21309222\n",
      "kplr2009115080620 54946.31730352\n",
      "kplr2010020005046 55216.01483134\n",
      "kplr2012242195726 56168.81112794\n",
      "kplr2011334181008 55895.73660944\n",
      "kplr2010174164113 55370.67486344\n",
      "kplr2013038133130 56330.54311544\n",
      "kplr2012310200152 56236.81420744\n",
      "kplr2009351005245 55182.01619934\n",
      "kplr2011053174401 55614.71846884\n",
      "kplr2009114174833 54945.72162632\n",
      "kplr2012121122500 56047.49693394\n",
      "kplr2011024134926 55585.55556804\n",
      "kplr2011240181752 55801.74198404\n",
      "kplr2010296192119 55492.78603754\n",
      "kplr2009231194831 55062.80492724\n",
      "kplr2010234192745 55430.79050564\n"
     ]
    }
   ],
   "source": [
    "mjds = []\n",
    "for f in fnames:\n",
    "    hdr = fits.open(f)[10].header\n",
    "    mjds.append(float(hdr[\"MJDSTART\"]))\n",
    "    # if mjds[-1] in mjd_done:\n",
    "    print(f.split(\"/\")[-1].split(\"_\")[0], mjds[-1])"
   ]
  },
  {
   "cell_type": "code",
   "execution_count": 41,
   "metadata": {},
   "outputs": [
    {
     "data": {
      "text/plain": [
       "53"
      ]
     },
     "execution_count": 41,
     "metadata": {},
     "output_type": "execute_result"
    }
   ],
   "source": [
    "len(mjds)"
   ]
  },
  {
   "cell_type": "code",
   "execution_count": 42,
   "metadata": {},
   "outputs": [],
   "source": [
    "ch = 84\n",
    "missing = []\n",
    "for ch in range(1,85):\n",
    "    if ch in [5, 6, 7, 8]:\n",
    "        continue\n",
    "    fnames_csv = glob.glob(\"../data/catalogs/ffi/source_catalog/channel_%i_*\" % (ch))\n",
    "\n",
    "    cat_mjds = []\n",
    "\n",
    "    for f in fnames_csv:\n",
    "        aux = f.split(\"/\")[-1].split(\"_\")[-1][:-4]\n",
    "        cat_mjds.append(float(aux))\n",
    "    cat_mjds = sorted(cat_mjds)\n",
    "\n",
    "    for mjd, f in zip(mjds, fnames):\n",
    "        if mjd in cat_mjds:\n",
    "            continue\n",
    "        missing.append([f.split(\"/\")[-1].split(\"_\")[0], ch])\n",
    "        print(ch, mjd, f.split(\"/\")[-1].split(\"_\")[0])"
   ]
  },
  {
   "cell_type": "raw",
   "metadata": {},
   "source": [
    "np.savetxt(\"missing2.txt\", np.array(missing), fmt=\"%s %s\")"
   ]
  },
  {
   "cell_type": "markdown",
   "metadata": {},
   "source": [
    "# Concat catalogs"
   ]
  },
  {
   "cell_type": "code",
   "execution_count": 44,
   "metadata": {},
   "outputs": [
    {
     "data": {
      "text/plain": [
       "(53,)"
      ]
     },
     "execution_count": 44,
     "metadata": {},
     "output_type": "execute_result"
    }
   ],
   "source": [
    "mjds = np.sort(mjds)\n",
    "mjds.shape"
   ]
  },
  {
   "cell_type": "code",
   "execution_count": 45,
   "metadata": {},
   "outputs": [
    {
     "data": {
      "application/vnd.jupyter.widget-view+json": {
       "model_id": "d4030385239b454b847e95bc87ac30a9",
       "version_major": 2,
       "version_minor": 0
      },
      "text/plain": [
       "  0%|          | 0/53 [00:00<?, ?it/s]"
      ]
     },
     "metadata": {},
     "output_type": "display_data"
    }
   ],
   "source": [
    "df_flux = []\n",
    "df_flux_err = []\n",
    "df_coord = []\n",
    "for mjd in tqdm(mjds):\n",
    "    names = np.sort(glob.glob(\n",
    "        \"../data/catalogs/ffi/source_catalog/channel_*_source_catalog_mjd_%s.csv\" % str(mjd)))\n",
    "    full_cat = []\n",
    "    for f in names:\n",
    "        cat = pd.read_csv(f)\n",
    "        if \"DR2\" in cat.Gaia_source_id[0]:\n",
    "            print(f)\n",
    "        cat[\"Gaia_source_id\"] = cat[\"Gaia_source_id\"].map(lambda x: x.replace(\"DR2\", \"EDR3\"))\n",
    "        cat = cat.set_index('Gaia_source_id').drop('Unnamed: 0', axis=1)\n",
    "        full_cat.append(cat)\n",
    "    full_cat = pd.concat(full_cat)\n",
    "    df_coord.append(full_cat.loc[:, [\"RA\", \"DEC\"]])\n",
    "    df_flux.append(full_cat.loc[:, \"Flux\"])\n",
    "    df_flux_err.append(full_cat.loc[:, \"Flux_err\"])\n",
    "    # break"
   ]
  },
  {
   "cell_type": "code",
   "execution_count": 46,
   "metadata": {},
   "outputs": [],
   "source": [
    "df_flux_all = pd.concat(df_flux, axis=1, keys=mjds)\n",
    "df_flux_err_all = pd.concat(df_flux_err, axis=1, keys=mjds)\n",
    "df_coord_all = pd.concat(df_coord, axis=0)\n",
    "df_coord_all = df_coord_all[~df_coord_all.index.duplicated(keep=\"first\")]"
   ]
  },
  {
   "cell_type": "code",
   "execution_count": 47,
   "metadata": {},
   "outputs": [],
   "source": [
    "df_coord_all = df_coord_all.sort_index()\n",
    "df_flux_all = df_flux_all.loc[df_coord_all.index]\n",
    "df_flux_err_all = df_flux_err_all.loc[df_coord_all.index]"
   ]
  },
  {
   "cell_type": "code",
   "execution_count": 48,
   "metadata": {},
   "outputs": [
    {
     "data": {
      "text/plain": [
       "((1183578, 2), (1183578, 53), (1183578, 53))"
      ]
     },
     "execution_count": 48,
     "metadata": {},
     "output_type": "execute_result"
    }
   ],
   "source": [
    "df_coord_all.shape, df_flux_all.shape, df_flux_err_all.shape"
   ]
  },
  {
   "cell_type": "code",
   "execution_count": 49,
   "metadata": {},
   "outputs": [],
   "source": [
    "df_flux_all_nonan = df_flux_all.dropna(axis=0, how=\"any\")\n",
    "df_flux_err_all_nonan = df_flux_err_all.loc[df_flux_all_nonan.index]\n",
    "df_coord_all_nonan = df_coord_all.loc[df_flux_all_nonan.index]"
   ]
  },
  {
   "cell_type": "code",
   "execution_count": 50,
   "metadata": {},
   "outputs": [
    {
     "data": {
      "text/plain": [
       "((123220, 53), (123220, 53), (123220, 2))"
      ]
     },
     "execution_count": 50,
     "metadata": {},
     "output_type": "execute_result"
    }
   ],
   "source": [
    "df_flux_all_nonan.shape, df_flux_err_all_nonan.shape, df_coord_all_nonan.shape"
   ]
  },
  {
   "cell_type": "code",
   "execution_count": 52,
   "metadata": {},
   "outputs": [
    {
     "data": {
      "text/plain": [
       "(826856, 53)"
      ]
     },
     "execution_count": 52,
     "metadata": {},
     "output_type": "execute_result"
    }
   ],
   "source": [
    "df_flux_all.dropna(axis=0, how=\"any\", thresh=52).shape"
   ]
  },
  {
   "cell_type": "code",
   "execution_count": 53,
   "metadata": {},
   "outputs": [
    {
     "data": {
      "text/plain": [
       "54945.721626             NaN\n",
       "54945.846650             NaN\n",
       "54945.997783             NaN\n",
       "54946.213092             NaN\n",
       "54946.317304             NaN\n",
       "54946.529132             NaN\n",
       "54946.713034             NaN\n",
       "54947.145817             NaN\n",
       "55001.173492             NaN\n",
       "55062.804927             NaN\n",
       "55090.985127             NaN\n",
       "55123.066025    11652.397140\n",
       "55153.959278    12122.962290\n",
       "55182.016199    12460.018633\n",
       "55215.934459    12305.927442\n",
       "55216.014831    12304.686741\n",
       "55245.745568    12551.781940\n",
       "55274.719428    12352.567789\n",
       "55307.514600             NaN\n",
       "55336.407711             NaN\n",
       "55370.674863             NaN\n",
       "55399.036686             NaN\n",
       "55430.790506             NaN\n",
       "55461.808694             NaN\n",
       "55492.786038    12941.786133\n",
       "55522.741702    12031.247884\n",
       "55552.063925    12344.267247\n",
       "55585.555568    13421.165176\n",
       "55614.718469    12546.262647\n",
       "55677.424043             NaN\n",
       "55706.623589             NaN\n",
       "55738.438711             NaN\n",
       "55769.456965             NaN\n",
       "55801.741984             NaN\n",
       "55832.780628             NaN\n",
       "55864.779698    13004.154181\n",
       "55895.736609    12061.872839\n",
       "55930.841519    12414.052109\n",
       "55958.406446    13400.010620\n",
       "55986.502578    12548.200624\n",
       "56014.537485    12221.474333\n",
       "56047.496934             NaN\n",
       "56077.432090             NaN\n",
       "56105.569164             NaN\n",
       "56137.506922             NaN\n",
       "56168.811128             NaN\n",
       "56203.834325             NaN\n",
       "56236.814207    12988.342735\n",
       "56267.893706    12073.316389\n",
       "56303.652515    12422.810999\n",
       "56330.543115    13440.329447\n",
       "56357.474607    12494.750502\n",
       "56390.474805    13357.341464\n",
       "Name: Gaia EDR3 2049128965649366016, dtype: float64"
      ]
     },
     "execution_count": 53,
     "metadata": {},
     "output_type": "execute_result"
    }
   ],
   "source": [
    "df_flux_all.iloc[0]"
   ]
  },
  {
   "cell_type": "code",
   "execution_count": 33,
   "metadata": {},
   "outputs": [],
   "source": [
    "df_flux_all_nonan.to_csv(\"../data/catalogs/ffi/ffi_sources_flux_01.csv\")\n",
    "df_flux_err_all_nonan.to_csv(\"../data/catalogs/ffi/ffi_sources_flux_err_01.csv\")\n",
    "df_coord_all_nonan.to_csv(\"../data/catalogs/ffi/ffi_sources_coord_01.csv\")"
   ]
  },
  {
   "cell_type": "code",
   "execution_count": 35,
   "metadata": {},
   "outputs": [],
   "source": [
    "import matplotlib.pyplot as plt"
   ]
  },
  {
   "cell_type": "code",
   "execution_count": 43,
   "metadata": {},
   "outputs": [
    {
     "data": {
      "image/png": "[encoded data removed]",
      "text/plain": [
       "<Figure size 432x288 with 1 Axes>"
      ]
     },
     "metadata": {
      "needs_background": "light"
     },
     "output_type": "display_data"
    }
   ],
   "source": [
    "plt.scatter(df_coord_all_nonan.RA, df_coord_all_nonan.DEC, marker=\".\");"
   ]
  },
  {
   "cell_type": "code",
   "execution_count": 49,
   "metadata": {},
   "outputs": [
    {
     "data": {
      "image/png": "[encoded data removed]",
      "text/plain": [
       "<Figure size 432x288 with 1 Axes>"
      ]
     },
     "metadata": {
      "needs_background": "light"
     },
     "output_type": "display_data"
    }
   ],
   "source": [
    "for k in range(0, 1000, 10):\n",
    "    plt.errorbar(df_flux_all_nonan.columns, df_flux_all_nonan.iloc[k], yerr=df_flux_err_all_nonan.iloc[k])\n",
    "# plt.yscale(\"log\")\n",
    "plt.show()"
   ]
  },
  {
   "cell_type": "code",
   "execution_count": 50,
   "metadata": {},
   "outputs": [
    {
     "data": {
      "text/plain": [
       "54945.721626    12930.650873\n",
       "54945.846650    12867.500130\n",
       "54945.997783    12903.127177\n",
       "54946.213092    12811.214969\n",
       "54946.317304    12836.478444\n",
       "54946.529132    12810.012246\n",
       "54946.713034    12810.146703\n",
       "54947.145817    12835.554171\n",
       "55001.173492     2827.741769\n",
       "55062.804927    10898.807277\n",
       "55090.985127    11636.271282\n",
       "55123.066025    18581.313463\n",
       "55153.959278    25737.668938\n",
       "55182.016199    25307.744785\n",
       "55215.934459    24217.355384\n",
       "55216.014831    24222.160125\n",
       "55245.745568    24290.599417\n",
       "55274.719428    24228.313173\n",
       "55307.514600    12872.802765\n",
       "55336.407711    13635.038174\n",
       "55370.674863    12637.799046\n",
       "55399.036686    14061.990214\n",
       "55430.790506    10656.129943\n",
       "55461.808694    12061.881097\n",
       "55492.786038    18109.706346\n",
       "55522.741702    25789.558573\n",
       "55552.063925    25601.221735\n",
       "55585.555568    24306.337578\n",
       "55614.718469    24108.478658\n",
       "55677.424043    12865.095794\n",
       "55706.623589    13770.718573\n",
       "55738.438711    12688.895639\n",
       "55769.456965    14083.586572\n",
       "55801.741984    10764.083995\n",
       "55832.780628    12167.805256\n",
       "55864.779698    18152.816939\n",
       "55895.736609    25891.873941\n",
       "55930.841519    25606.355075\n",
       "55958.406446    23414.044569\n",
       "55986.502578    36774.568712\n",
       "56014.537485    23738.542020\n",
       "56047.496934    12980.048540\n",
       "56077.432090    13791.724332\n",
       "56105.569164    12511.446386\n",
       "56137.506922    13982.767629\n",
       "56168.811128    10200.501017\n",
       "56203.834325    12129.641488\n",
       "56236.814207    18524.751670\n",
       "56267.893706    26133.814311\n",
       "56303.652515    25625.034842\n",
       "56330.543115    20974.261350\n",
       "56357.474607    37136.265654\n",
       "56390.474805    20889.430344\n",
       "Name: Gaia EDR3 2050190960739979136, dtype: float64"
      ]
     },
     "execution_count": 50,
     "metadata": {},
     "output_type": "execute_result"
    }
   ],
   "source": [
    "df_flux_all_nonan.iloc[0]"
   ]
  },
  {
   "cell_type": "code",
   "execution_count": 155,
   "metadata": {},
   "outputs": [],
   "source": [
    "np.save(\"../data/catalogs/ffi/ffi_sources_coord.npy\", df_coord_all.reset_index().to_numpy())"
   ]
  },
  {
   "cell_type": "code",
   "execution_count": 156,
   "metadata": {},
   "outputs": [],
   "source": [
    "np.save(\"../data/catalogs/ffi/ffi_sources_flux.npy\", df_flux_all.reset_index().to_numpy())"
   ]
  },
  {
   "cell_type": "code",
   "execution_count": 157,
   "metadata": {},
   "outputs": [],
   "source": [
    "np.save(\"../data/catalogs/ffi/ffi_sources_flux_err.npy\", df_flux_err_all.reset_index().to_numpy())"
   ]
  }
 ],
 "metadata": {
  "kernelspec": {
   "display_name": "adap",
   "language": "python",
   "name": "adap"
  },
  "language_info": {
   "codemirror_mode": {
    "name": "ipython",
    "version": 3
   },
   "file_extension": ".py",
   "mimetype": "text/x-python",
   "name": "python",
   "nbconvert_exporter": "python",
   "pygments_lexer": "ipython3",
   "version": "3.8.6"
  }
 },
 "nbformat": 4,
 "nbformat_minor": 4
}
