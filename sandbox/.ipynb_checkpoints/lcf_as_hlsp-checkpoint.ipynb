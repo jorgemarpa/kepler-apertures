{
 "cells": [
  {
   "cell_type": "code",
   "execution_count": 12,
   "metadata": {},
   "outputs": [],
   "source": [
    "import os, glob\n",
    "import numpy as np\n",
    "import pandas as pd\n",
    "import lightkurve as lk\n",
    "from astropy.io import fits\n",
    "from astropy.table import Table\n",
    "import astropy.units as u\n",
    "from tqdm.auto import tqdm"
   ]
  },
  {
   "cell_type": "code",
   "execution_count": 52,
   "metadata": {},
   "outputs": [],
   "source": [
    "project_name = \"kbonus-apexba\"\n",
    "channel = 27\n",
    "quarter = 5\n",
    "\n",
    "ap_names = [\"O\", 1, 2, 3, 4, 5, 6, 7]\n",
    "ap_percut = [\"op\", 0 , 15, 30, 45, 60, 75, 90]"
   ]
  },
  {
   "cell_type": "code",
   "execution_count": 144,
   "metadata": {},
   "outputs": [],
   "source": [
    "cat = Table.read(\"../../EXBA_LCFs/data/hlsp_kbonus-apexba_kepler_v1.0_cat.fits\")#.to_pandas().set_index(\"Gaia_designation\")"
   ]
  },
  {
   "cell_type": "code",
   "execution_count": 145,
   "metadata": {},
   "outputs": [
    {
     "data": {
      "text/html": [
       "<i>Table masked=True length=9327</i>\n",
       "<table id=\"table5156372736\" class=\"table-striped table-bordered table-condensed\">\n",
       "<thead><tr><th>Gaia_designation</th><th>ra</th><th>ra_error</th><th>dec</th><th>dec_error</th><th>pmra</th><th>pmdec</th><th>parallax</th><th>parallax_error</th><th>phot_g_mean_mag</th><th>phot_bp_mean_mag</th><th>phot_rp_mean_mag</th><th>KIC</th><th>umag</th><th>gmag</th><th>rmag</th><th>imag</th><th>zmag</th><th>Jmag</th><th>Hmag</th><th>Kmag</th><th>kepmag</th><th>angDist</th></tr></thead>\n",
       "<thead><tr><th></th><th>deg</th><th>mas</th><th>deg</th><th>mas</th><th>mas / yr</th><th>mas / yr</th><th>mas</th><th>mas</th><th>mag</th><th>mag</th><th>mag</th><th></th><th>mag</th><th>mag</th><th>mag</th><th>mag</th><th>mag</th><th>mag</th><th>mag</th><th>mag</th><th>mag</th><th>arcsec</th></tr></thead>\n",
       "<thead><tr><th>bytes29</th><th>float64</th><th>float64</th><th>float64</th><th>float64</th><th>float64</th><th>float64</th><th>float64</th><th>float64</th><th>float64</th><th>float64</th><th>float64</th><th>int32</th><th>float32</th><th>float32</th><th>float32</th><th>float32</th><th>float32</th><th>float32</th><th>float32</th><th>float32</th><th>float32</th><th>float64</th></tr></thead>\n",
       "<tr><td>Gaia EDR3 2105384211065299328</td><td>282.02601422275194</td><td>0.19085671</td><td>44.25377944557144</td><td>0.22391872</td><td>-19.973062525408807</td><td>-18.944104549054543</td><td>0.5892298715885553</td><td>0.22106487</td><td>19.495558</td><td>20.573519</td><td>18.441187</td><td>8278800</td><td>nan</td><td>nan</td><td>19.63</td><td>18.36</td><td>nan</td><td>nan</td><td>nan</td><td>nan</td><td>19.63</td><td>0.456638</td></tr>\n",
       "<tr><td>Gaia EDR3 2105384241127278208</td><td>282.00675214953424</td><td>0.13252868</td><td>44.25354519592058</td><td>0.15323067</td><td>-1.7719406349189692</td><td>-2.529980358977672</td><td>0.1500959224388817</td><td>0.15502745</td><td>19.065722</td><td>19.520166</td><td>18.487371</td><td>8278766</td><td>nan</td><td>19.869</td><td>19.221</td><td>18.988</td><td>nan</td><td>nan</td><td>nan</td><td>nan</td><td>19.254</td><td>0.326691</td></tr>\n",
       "<tr><td>Gaia EDR3 2105384245425035392</td><td>282.0141527165855</td><td>0.05810274</td><td>44.25357179111208</td><td>0.06556623</td><td>-1.1884323904997922</td><td>-1.3311902001283102</td><td>0.6496634574414855</td><td>0.06638684</td><td>17.68509</td><td>18.431139</td><td>16.906893</td><td>8278780</td><td>nan</td><td>18.595</td><td>17.742</td><td>17.418</td><td>nan</td><td>15.89</td><td>15.292</td><td>15.129</td><td>17.772</td><td>0.285838</td></tr>\n",
       "<tr><td>Gaia EDR3 2105384245425036032</td><td>282.0115846417504</td><td>0.046779666</td><td>44.25693434951504</td><td>0.052581493</td><td>-0.1485608838175161</td><td>2.350118651573734</td><td>0.4188690082459329</td><td>0.052441496</td><td>17.299631</td><td>17.762989</td><td>16.70236</td><td>8278774</td><td>nan</td><td>17.952</td><td>17.244</td><td>17.068</td><td>17.049</td><td>15.903</td><td>15.364</td><td>15.289</td><td>17.333</td><td>0.065174</td></tr>\n",
       "<tr><td>Gaia EDR3 2105384275487021696</td><td>282.01759328547774</td><td>0.11267807</td><td>44.257040875289896</td><td>0.13129382</td><td>-3.5800351772400383</td><td>-7.079612589511583</td><td>0.0743769441101454</td><td>0.12939464</td><td>18.775005</td><td>19.093567</td><td>18.251266</td><td>8278784</td><td>nan</td><td>19.363</td><td>18.906</td><td>18.765</td><td>nan</td><td>nan</td><td>nan</td><td>nan</td><td>18.947</td><td>0.376572</td></tr>\n",
       "<tr><td>Gaia EDR3 2105384275487028864</td><td>282.022582665752</td><td>0.22320406</td><td>44.26418381452679</td><td>0.26284742</td><td>-2.499486775535332</td><td>-6.307408380364082</td><td>0.0193874303894036</td><td>0.2625386</td><td>19.846481</td><td>20.185364</td><td>19.209179</td><td>8278794</td><td>nan</td><td>20.815</td><td>20.158</td><td>19.915</td><td>nan</td><td>nan</td><td>nan</td><td>nan</td><td>20.187</td><td>0.433469</td></tr>\n",
       "<tr><td>Gaia EDR3 2105384275487765888</td><td>282.01554846672286</td><td>0.25413236</td><td>44.26914439033675</td><td>0.29134235</td><td>0.3888750505490295</td><td>-7.9497518322893</td><td>0.4233887386813281</td><td>0.2960355</td><td>19.950417</td><td>20.695883</td><td>19.023285</td><td>8278782</td><td>nan</td><td>21.453</td><td>20.275</td><td>19.783</td><td>nan</td><td>nan</td><td>nan</td><td>nan</td><td>20.284</td><td>0.724755</td></tr>\n",
       "<tr><td>Gaia EDR3 2105384279784776448</td><td>282.0092266244273</td><td>0.054246727</td><td>44.26875069041165</td><td>0.061871875</td><td>-6.340516887731038</td><td>-7.520252684424294</td><td>0.0962676785583503</td><td>0.061771583</td><td>17.606903</td><td>17.885267</td><td>17.148752</td><td>8278771</td><td>nan</td><td>17.928</td><td>17.507</td><td>17.391</td><td>nan</td><td>nan</td><td>nan</td><td>nan</td><td>17.555</td><td>0.389761</td></tr>\n",
       "<tr><td>Gaia EDR3 2105384279784776704</td><td>282.0184317908144</td><td>0.023118896</td><td>44.262211684053696</td><td>0.026202345</td><td>3.879033359655384</td><td>-5.6729656497714105</td><td>0.5755172079978582</td><td>0.026283344</td><td>16.01134</td><td>16.37253</td><td>15.470577</td><td>8278786</td><td>nan</td><td>16.495</td><td>15.967</td><td>15.834</td><td>15.802</td><td>14.819</td><td>14.426</td><td>14.657</td><td>16.032</td><td>0.25923</td></tr>\n",
       "<tr><td>...</td><td>...</td><td>...</td><td>...</td><td>...</td><td>...</td><td>...</td><td>...</td><td>...</td><td>...</td><td>...</td><td>...</td><td>...</td><td>...</td><td>...</td><td>...</td><td>...</td><td>...</td><td>...</td><td>...</td><td>...</td><td>...</td><td>...</td></tr>\n",
       "<tr><td>Gaia EDR3 2086539200245894912</td><td>298.0863671719377</td><td>0.4237506</td><td>48.20053863378098</td><td>0.4998722</td><td>-0.3477623058792001</td><td>-10.247133986940032</td><td>0.0864974123173173</td><td>0.50303876</td><td>20.166496</td><td>20.98951</td><td>19.197947</td><td>10878645</td><td>nan</td><td>21.221</td><td>20.224</td><td>19.776</td><td>nan</td><td>nan</td><td>nan</td><td>nan</td><td>20.212</td><td>0.897402</td></tr>\n",
       "<tr><td>Gaia EDR3 2086539234599529856</td><td>298.10464898226786</td><td>0.33985242</td><td>48.19648005449239</td><td>0.3973321</td><td>-1.032891548687528</td><td>-1.6572569407838778</td><td>0.9269412411410464</td><td>0.44073108</td><td>20.00715</td><td>21.212496</td><td>19.00728</td><td>--</td><td>nan</td><td>nan</td><td>nan</td><td>nan</td><td>nan</td><td>nan</td><td>nan</td><td>nan</td><td>nan</td><td>nan</td></tr>\n",
       "<tr><td>Gaia EDR3 2086539234599536256</td><td>298.10109090057205</td><td>0.41609782</td><td>48.20390488304712</td><td>0.48210657</td><td>-5.444412538473982</td><td>0.3492145259623579</td><td>0.6815736516222294</td><td>0.51896226</td><td>20.233068</td><td>21.076794</td><td>19.284527</td><td>10878688</td><td>nan</td><td>nan</td><td>19.69</td><td>17.5</td><td>nan</td><td>nan</td><td>nan</td><td>nan</td><td>19.69</td><td>0.496672</td></tr>\n",
       "<tr><td>Gaia EDR3 2086539234603578112</td><td>298.1058113647864</td><td>1.1122135</td><td>48.20562879938864</td><td>2.8302817</td><td>1e+20</td><td>1e+20</td><td>1e+20</td><td>1e+20</td><td>20.866219</td><td>21.148895</td><td>20.21719</td><td>--</td><td>nan</td><td>nan</td><td>nan</td><td>nan</td><td>nan</td><td>nan</td><td>nan</td><td>nan</td><td>nan</td><td>nan</td></tr>\n",
       "<tr><td>Gaia EDR3 2086539303319000576</td><td>298.0856545333235</td><td>0.5296042</td><td>48.21318045932709</td><td>0.72872174</td><td>-4.247232100701635</td><td>-7.158413982483765</td><td>-0.1849612946076112</td><td>0.72220147</td><td>20.27816</td><td>20.901196</td><td>19.39313</td><td>--</td><td>nan</td><td>nan</td><td>nan</td><td>nan</td><td>nan</td><td>nan</td><td>nan</td><td>nan</td><td>nan</td><td>nan</td></tr>\n",
       "<tr><td>Gaia EDR3 2086539951857563136</td><td>298.0648469872005</td><td>0.35256994</td><td>48.20459789008029</td><td>0.47598833</td><td>-1.4186082762693375</td><td>-6.318063709322501</td><td>0.5421878194213952</td><td>0.45801622</td><td>20.171392</td><td>20.968971</td><td>19.526728</td><td>10878576</td><td>nan</td><td>21.274</td><td>20.294</td><td>19.855</td><td>nan</td><td>nan</td><td>nan</td><td>nan</td><td>20.283</td><td>0.491628</td></tr>\n",
       "<tr><td>Gaia EDR3 2129526011778662272</td><td>290.69729389301824</td><td>0.13590771</td><td>48.6158137739752</td><td>0.1332609</td><td>-3.1015185172546307</td><td>-4.253411649646504</td><td>0.1151262051750913</td><td>0.14186148</td><td>18.787304</td><td>19.355474</td><td>18.164618</td><td>11081936</td><td>nan</td><td>19.183</td><td>18.63</td><td>18.422</td><td>nan</td><td>nan</td><td>nan</td><td>nan</td><td>18.661</td><td>0.220906</td></tr>\n",
       "<tr><td>Gaia EDR3 2143714973114706560</td><td>282.74053036815104</td><td>0.021522546</td><td>48.26248902172327</td><td>0.022694735</td><td>-3.1883202740429017</td><td>-5.866774777895644</td><td>0.5884404261552625</td><td>0.023252616</td><td>15.417315</td><td>15.777968</td><td>14.891897</td><td>10843995</td><td>nan</td><td>15.645</td><td>15.162</td><td>15.031</td><td>nan</td><td>14.322</td><td>14.068</td><td>14.005</td><td>15.216</td><td>0.136016</td></tr>\n",
       "<tr><td>Gaia EDR3 2076208704382822912</td><td>295.76662757170647</td><td>0.12125051</td><td>39.44553905240039</td><td>0.1209651</td><td>-5.7051348594792906</td><td>-8.953973492388219</td><td>0.6927382763215332</td><td>0.14172465</td><td>18.638466</td><td>19.238277</td><td>17.677736</td><td>--</td><td>nan</td><td>nan</td><td>nan</td><td>nan</td><td>nan</td><td>nan</td><td>nan</td><td>nan</td><td>nan</td><td>nan</td></tr>\n",
       "<tr><td>Gaia EDR3 2082091710075415424</td><td>300.7241523433139</td><td>0.09935167</td><td>44.61432886129422</td><td>0.10809291</td><td>-2.552809336415596</td><td>-1.6549952946224955</td><td>0.2397695528076012</td><td>0.11388309</td><td>18.259747</td><td>18.712301</td><td>17.280407</td><td>8589522</td><td>nan</td><td>18.265</td><td>nan</td><td>17.152</td><td>16.889</td><td>15.848</td><td>15.34</td><td>15.064</td><td>18.265</td><td>0.927771</td></tr>\n",
       "</table>"
      ],
      "text/plain": [
       "<Table masked=True length=9327>\n",
       "       Gaia_designation               ra         ...  kepmag angDist \n",
       "                                     deg         ...   mag    arcsec \n",
       "           bytes29                 float64       ... float32 float64 \n",
       "----------------------------- ------------------ ... ------- --------\n",
       "Gaia EDR3 2105384211065299328 282.02601422275194 ...   19.63 0.456638\n",
       "Gaia EDR3 2105384241127278208 282.00675214953424 ...  19.254 0.326691\n",
       "Gaia EDR3 2105384245425035392  282.0141527165855 ...  17.772 0.285838\n",
       "Gaia EDR3 2105384245425036032  282.0115846417504 ...  17.333 0.065174\n",
       "Gaia EDR3 2105384275487021696 282.01759328547774 ...  18.947 0.376572\n",
       "Gaia EDR3 2105384275487028864   282.022582665752 ...  20.187 0.433469\n",
       "Gaia EDR3 2105384275487765888 282.01554846672286 ...  20.284 0.724755\n",
       "Gaia EDR3 2105384279784776448  282.0092266244273 ...  17.555 0.389761\n",
       "Gaia EDR3 2105384279784776704  282.0184317908144 ...  16.032  0.25923\n",
       "                          ...                ... ...     ...      ...\n",
       "Gaia EDR3 2086539200245894912  298.0863671719377 ...  20.212 0.897402\n",
       "Gaia EDR3 2086539234599529856 298.10464898226786 ...     nan      nan\n",
       "Gaia EDR3 2086539234599536256 298.10109090057205 ...   19.69 0.496672\n",
       "Gaia EDR3 2086539234603578112  298.1058113647864 ...     nan      nan\n",
       "Gaia EDR3 2086539303319000576  298.0856545333235 ...     nan      nan\n",
       "Gaia EDR3 2086539951857563136  298.0648469872005 ...  20.283 0.491628\n",
       "Gaia EDR3 2129526011778662272 290.69729389301824 ...  18.661 0.220906\n",
       "Gaia EDR3 2143714973114706560 282.74053036815104 ...  15.216 0.136016\n",
       "Gaia EDR3 2076208704382822912 295.76662757170647 ...     nan      nan\n",
       "Gaia EDR3 2082091710075415424  300.7241523433139 ...  18.265 0.927771"
      ]
     },
     "execution_count": 145,
     "metadata": {},
     "output_type": "execute_result"
    }
   ],
   "source": [
    "cat"
   ]
  },
  {
   "cell_type": "markdown",
   "metadata": {},
   "source": [
    "# rebuild directory tree and LCs"
   ]
  },
  {
   "cell_type": "code",
   "execution_count": 165,
   "metadata": {},
   "outputs": [
    {
     "data": {
      "application/vnd.jupyter.widget-view+json": {
       "model_id": "ad7d156a5f8a469a93e384a69243011a",
       "version_major": 2,
       "version_minor": 0
      },
      "text/plain": [
       "  0%|          | 0/106 [00:00<?, ?it/s]"
      ]
     },
     "metadata": {},
     "output_type": "display_data"
    }
   ],
   "source": [
    "files = np.sort(glob.glob(\"../data/export/%i/%02i/lc_q%i_ch%02i_*.fits.gz\" % (quarter, channel, quarter, channel)))\n",
    "for i, f in tqdm(enumerate(files), total=len(files)):\n",
    "    hdu = fits.open(f)\n",
    "    # update header cards\n",
    "    phdr = hdu[0].header\n",
    "    designation = phdr[\"OBJECT\"]\n",
    "    \n",
    "    phdr.set(\"DOI\", \"\", \"Digital Object Identifier for the HLSP data collection\", before=\"ORIGIN\")\n",
    "    phdr.set(\"HLSPID\", \"\", \"The identifier (acronym) for this HLSP collection\", before=\"ORIGIN\")\n",
    "    phdr.set(\"HLSPLEAD\", \"Jorge Martinez-Palomera\", \"Full name of HLSP project lead\", before=\"ORIGIN\")\n",
    "    phdr.set(\"HLSPVER\", \"1.0\", \"HLSP version\", before=\"ORIGIN\")\n",
    "    phdr.set(\"LICENSE\", \"CC BY 4.0\", \"\", before=\"ORIGIN\")\n",
    "    phdr.set(\"LICENURL\", \"https://creativecommons.org/licenses/by/4.0/\", \"\", before=\"ORIGIN\")\n",
    "    \n",
    "    phdr.set(\"MJD-BEG\", hdu[1].data[\"time\"][0], \"Observation start time [MJD]\", before=\"RADESYS\")\n",
    "    phdr.set(\"MJD-END\", hdu[1].data[\"time\"][-1], \"Observation end time [MJD]\", before=\"RADESYS\")\n",
    "    phdr.set(\"MJD-MED\", hdu[1].data[\"time\"][hdu[1].data[\"time\"].shape[0]//2], \n",
    "             \"Observation mid time [MJD]\", before=\"RADESYS\")\n",
    "    phdr.set(\"XPOSURE\", 1625, \"Duration of exposure [s]\", before=\"RADESYS\")\n",
    "    \n",
    "    phdr.set(\"OBSERVAT\", \"Kepler\", \"Observatory\", before=\"TELESCOP\")\n",
    "    phdr.set(\"FILTER\", \"OPTICAL\", \"\", after=\"INSTRUME\")\n",
    "    phdr.set(\"origin\", \"kepler-apertures\", \"Program used for photometry\")\n",
    "    phdr.set(\"creator\", phdr[\"CREATOR\"], \"Program used to create file\")\n",
    "    phdr.set(\"PROCVER\", \"2.0.10dev\", \"Version of creator program\")\n",
    "    phdr.set(\"version\", \"0.1.0dev\", \"Version of origin program\")\n",
    "    phdr.set(\"aperture\", \"FFI-PRF aperture\", \"Method for aperture creation\")\n",
    "    # kepler cards:\n",
    "    phdr.set(\"module\", phdr[\"MODULE\"], \"\", after=\"SEASON\")\n",
    "    phdr.set(\"output\", phdr[\"output\"], \"\", after=\"MODULE\")\n",
    "    phdr.set(\"channel\", phdr[\"CHANNEL\"], \"\", after=\"OUTPUT\")\n",
    "    phdr.set(\"quarter\", phdr[\"QUARTER\"], \"\", after=\"SEASON\")\n",
    "    phdr.set(\"INVESTID\", phdr[\"CAMPAIGN\"], \"Investigation ID\", after=\"MISSION\")\n",
    "    phdr.set(\"KEPLERID\", cat[cat[\"Gaia_designation\"] == designation][\"KIC\"][0] if type(cat[cat[\"Gaia_designation\"] == designation][\"KIC\"][0]) == np.int32 else \"\", \n",
    "             \"Unique Kepler target identifier (KIC)\", after=\"OBJECT\")\n",
    "    # gaia cards\n",
    "    phdr.set(\"gaiaid\", designation, \"Gaia ID of the object\", before=\"PMRA\")\n",
    "    pmra = phdr[\"PMRA\"]\n",
    "    phdr.set(\"pmra\", pmra, \"Gaia RA proper motion\")\n",
    "    pmdec = phdr[\"PMDEC\"]\n",
    "    phdr.set(\"pmdec\", pmdec, \"Gaia Dec proper motion\")\n",
    "    parallax = phdr[\"PARALLAX\"]\n",
    "    phdr.set(\"parallax\", parallax, \"Gaia parallax\")\n",
    "    gmag = phdr[\"GMAG\"]\n",
    "    phdr.set(\"gmag\", gmag, \"Gaia G magnitude\")\n",
    "    bpmag = phdr[\"BPMAG\"]\n",
    "    phdr.set(\"bpmag\", bpmag, \"Gaia BP magnitude\")\n",
    "    rpmag = phdr[\"RPMAG\"]\n",
    "    phdr.set(\"rpmag\", rpmag, \"Gaia RP magnitude\")\n",
    "    # org cards\n",
    "    tpf_orgn = phdr[\"TPF_ORGN\"]\n",
    "    phdr.set(\"tpf_orgn\", tpf_orgn, \"TPF name of origin\")\n",
    "    kid_orgn = phdr[\"KID_ORGN\"]\n",
    "    phdr.set(\"kid_orgn\", kid_orgn, \"Kepler ID of file of origin\")\n",
    "    # location cards\n",
    "    row = phdr[\"ROW\"]\n",
    "    phdr.set(\"row\", row, \"Object row location in TPF_ORGN\")\n",
    "    column = phdr[\"COLUMN\"]\n",
    "    phdr.set(\"column\", column, \"Object column location in TPF_ORGN\")\n",
    "    # aperture metrics\n",
    "    for k, ap in enumerate(ap_names):\n",
    "        if ap == \"O\":\n",
    "            per = phdr[\"PERCUT%s\" % str(ap)]\n",
    "        else:\n",
    "            per = ap_percut[k]\n",
    "        FLFRSAP = phdr[\"FLFRSAP%s\" % str(ap)]\n",
    "        CRWDSAP = phdr[\"CRWDSAP%s\" % str(ap)]\n",
    "        phdr.set(\"PERCUT%s\" % str(k), int(per), \n",
    "                 \"Flux completeness metric for aperture %s\" % (\"optimal\" if k==0 else str(k)),\n",
    "                before=\"FLFRSAP%s\" % str(k) if k>0 else None)\n",
    "        phdr.set(\"FLFRSAP%s\" % str(k), np.round(FLFRSAP, decimals=4), \n",
    "                 \"Flux completeness metric for aperture %s\" % (\"optimal\" if k==0 else str(k)))\n",
    "        phdr.set(\"CRWDSAP%s\" % str(k), np.round(CRWDSAP, decimals=4), \n",
    "                 \"Flux crowding metric for aperture %s\" % (\"optimal\" if k==0 else str(k)))\n",
    "    del phdr[\"PERCUTO\"], phdr[\"FLFRSAPO\"], phdr[\"CRWDSAPO\"]\n",
    "    \n",
    "    # hlsp keywords\n",
    "    \n",
    "    \n",
    "    # remove SAP_QUALITY header card\n",
    "    # del hdu[1].header[\"TTYPE20\"], hdu[1].header[\"TFORM20\"]\n",
    "\n",
    "    # remove SAP_QUALITY from bintable\n",
    "    new_table = Table(hdu[1].data)\n",
    "    # new_table.remove_column(\"SAP_QUALITY\")\n",
    "\n",
    "    columns = [\"TIME\", \"CADENCENO\", \"FLUX\", \"FLUX1\", \"FLUX2\", \"FLUX3\", \"FLUX4\", \"FLUX5\", \"FLUX6\", \"FLUX7\", \n",
    "               \"FLUX_ERR\", \"FLUX_ERR1\", \"FLUX_ERR2\", \"FLUX_ERR3\", \"FLUX_ERR4\", \"FLUX_ERR5\", \"FLUX_ERR6\", \"FLUX_ERR7\",\n",
    "               \"QUALITY\", \"SAP_QUALITY\"]\n",
    "\n",
    "    for col in columns:\n",
    "        if col.startswith(\"FLUX\"):\n",
    "            new_table[col].unit = 'e-/s'\n",
    "        if col == \"TIME\":\n",
    "            new_table[col].unit = 'jd'\n",
    "            \n",
    "    hdu[1] = fits.BinTableHDU(new_table[columns], name=\"LIGHTCURVE\")\n",
    "    \n",
    "    # update extname for aperture mask\n",
    "    hdu[2].header[\"EXTNAME\"] = \"APERTURE_OPT\"\n",
    "    for k in range(1, 8):\n",
    "        hdu[k+2].header[\"EXTNAME\"] = \"APERTURE_%i\" % k\n",
    "    \n",
    "    # new dir tree\n",
    "    out_dir = \"../../EXBA_LCFs/data/q%02i/ch%02i\" % (quarter, channel)\n",
    "    if not os.path.isdir(out_dir):\n",
    "        os.makedirs(out_dir)\n",
    "    # new file name\n",
    "    fname = \"hlsp_%s_kepler_%s-q%02i_v%s_lc.fits.gz\" % (\n",
    "                project_name,\n",
    "                designation.replace(\" \", \"-\"),\n",
    "                quarter,\n",
    "                \"1.0\",\n",
    "            )\n",
    "    hdu.writeto(\"%s/%s\" % (out_dir, fname), overwrite=True, checksum=True)\n",
    "    # break"
   ]
  },
  {
   "cell_type": "markdown",
   "metadata": {},
   "source": [
    "# test new files"
   ]
  },
  {
   "cell_type": "code",
   "execution_count": 166,
   "metadata": {},
   "outputs": [],
   "source": [
    "# out_dir = \"../../EXBA_LCFs/data/q%02i/ch%02i\" % (quarter, channel)\n",
    "# fname = \"%s/hlsp_exba_kepler_Gaia-EDR3-2101136277956081920-q05_v1.0_lc.fits.gz\" % out_dir\n",
    "\n",
    "test_hdu = fits.open(\"%s/%s\" % (out_dir, fname))"
   ]
  },
  {
   "cell_type": "code",
   "execution_count": 167,
   "metadata": {},
   "outputs": [
    {
     "name": "stdout",
     "output_type": "stream",
     "text": [
      "Filename: ../../EXBA_LCFs/data/q05/ch27/hlsp_kbonus-apexba_kepler_Gaia-EDR3-2101184351529169152-q05_v1.0_lc.fits.gz\n",
      "No.    Name      Ver    Type      Cards   Dimensions   Format\n",
      "  0  PRIMARY       1 PrimaryHDU      81   ()      \n",
      "  1  LIGHTCURVE    1 BinTableHDU     68   4492R x 20C   [D, K, E, E, E, E, E, E, E, E, E, E, E, E, E, E, E, E, K, J]   \n",
      "  2  APERTURE_OPT    1 ImageHDU        10   (36, 60)   uint8   \n",
      "  3  APERTURE_1    1 ImageHDU        10   (36, 60)   uint8   \n",
      "  4  APERTURE_2    1 ImageHDU        10   (36, 60)   uint8   \n",
      "  5  APERTURE_3    1 ImageHDU        10   (36, 60)   uint8   \n",
      "  6  APERTURE_4    1 ImageHDU        10   (36, 60)   uint8   \n",
      "  7  APERTURE_5    1 ImageHDU        10   (36, 60)   uint8   \n",
      "  8  APERTURE_6    1 ImageHDU        10   (36, 60)   uint8   \n",
      "  9  APERTURE_7    1 ImageHDU        10   (36, 60)   uint8   \n"
     ]
    }
   ],
   "source": [
    "test_hdu.info()"
   ]
  },
  {
   "cell_type": "code",
   "execution_count": 168,
   "metadata": {},
   "outputs": [
    {
     "data": {
      "text/plain": [
       "SIMPLE  =                    T / conforms to FITS standards                     \n",
       "BITPIX  =                    8 / array data type                                \n",
       "NAXIS   =                    0 / number of array dimensions                     \n",
       "EXTEND  =                    T / file contains extensions                       \n",
       "NEXTEND =                    2 / number of standard extensions                  \n",
       "EXTNAME = 'PRIMARY '           / name of extension                              \n",
       "EXTVER  =                    1 / extension version number (not format version)  \n",
       "DOI     = '' / Digital Object Identifier for the HLSP data collection           \n",
       "HLSPID  = '' / The identifier (acronym) for this HLSP collection                \n",
       "HLSPLEAD= 'Jorge Martinez-Palomera' / Full name of HLSP project lead            \n",
       "HLSPVER = '1.0     '           / HLSP version                                   \n",
       "LICENSE = 'CC BY 4.0'                                                           \n",
       "LICENURL= 'https://creativecommons.org/licenses/by/4.0/'                        \n",
       "ORIGIN  = 'kepler-apertures'   / Program used for photometry                    \n",
       "DATE    = '2021-04-20'         / file creation date.                            \n",
       "CREATOR = 'lightkurve.LightCurve.to_fits()' / Program used to create file       \n",
       "OBSERVAT= 'Kepler  '           / Observatory                                    \n",
       "TELESCOP= 'Kepler  '           / telescope                                      \n",
       "INSTRUME= 'Kepler Photometer'  / detector type                                  \n",
       "FILTER  = 'OPTICAL '                                                            \n",
       "OBJECT  = 'Gaia EDR3 2101184351529169152' / string version of target id         \n",
       "KEPLERID=              5271127 / Unique Kepler target identifier (KIC)          \n",
       "MJD-BEG =     2455276.49016845 / Observation start time [MJD]                   \n",
       "MJD-END =    2455371.163003198 / Observation end time [MJD]                     \n",
       "MJD-MED =    2455324.143407092 / Observation mid time [MJD]                     \n",
       "XPOSURE =                 1625 / Duration of exposure [s]                       \n",
       "RADESYS = 'ICRS    '           / reference frame of celestial coordinates       \n",
       "RA_OBJ  =    290.5766717390741 / [deg] right ascension                          \n",
       "DEC_OBJ =     40.4370127137783 / [deg] declination                              \n",
       "EQUINOX =                 2000 / equinox of celestial coordinate system         \n",
       "PROCVER = '2.0.10dev'          / Version of creator program                     \n",
       "VERSION = '0.1.0dev'           / Version of origin program                      \n",
       "APERTURE= 'FFI-PRF aperture'   / Method for aperture creation                   \n",
       "LABEL   = 'Gaia EDR3 2101184351529169152'                                       \n",
       "TARGETID=  2101184351529169152                                                  \n",
       "MISSION = 'Kepler  '                                                            \n",
       "INVESTID= 'EXBA    '           / Investigation ID                               \n",
       "OBSMODE = 'long cadence'                                                        \n",
       "SEASON  =                    3                                                  \n",
       "QUARTER =                    5                                                  \n",
       "MODULE  =                    9                                                  \n",
       "OUTPUT  =                    3                                                  \n",
       "CHANNEL =                   27                                                  \n",
       "GAIAID  = 'Gaia EDR3 2101184351529169152' / Gaia ID of the object               \n",
       "PMRA    = -0.00691659851000092 / Gaia RA proper motion                          \n",
       "PMDEC   = -0.00577926004489169 / Gaia Dec proper motion                         \n",
       "PARALLAX=   0.3331810667471996 / Gaia parallax                                  \n",
       "GMAG    =            16.836033 / Gaia G magnitude                               \n",
       "RPMAG   =             16.28466 / Gaia RP magnitude                              \n",
       "BPMAG   =            17.221378 / Gaia BP magnitude                              \n",
       "CAMPAIGN= 'EXBA    '                                                            \n",
       "TPF_ORGN= 'kplr100002309-2010174085026_lpd-targ.fits.gz' / TPF name of origin   \n",
       "KID_ORGN= 'KIC 100002309'      / Kepler ID of file of origin                    \n",
       "ROW     =             615.4561 / Object row location in TPF_ORGN                \n",
       "COLUMN  =              582.797 / Object column location in TPF_ORGN             \n",
       "PERCUT1 =                    0 / Flux completeness metric for aperture 1        \n",
       "FLFRSAP1=                  1.0 / Flux completeness metric for aperture 1        \n",
       "CRWDSAP1=               0.3711 / Flux crowding metric for aperture 1            \n",
       "PERCUT2 =                   15 / Flux completeness metric for aperture 2        \n",
       "FLFRSAP2=               0.9989 / Flux completeness metric for aperture 2        \n",
       "CRWDSAP2=               0.3508 / Flux crowding metric for aperture 2            \n",
       "PERCUT3 =                   30 / Flux completeness metric for aperture 3        \n",
       "FLFRSAP3=                0.997 / Flux completeness metric for aperture 3        \n",
       "CRWDSAP3=               0.3534 / Flux crowding metric for aperture 3            \n",
       "PERCUT4 =                   45 / Flux completeness metric for aperture 4        \n",
       "FLFRSAP4=               0.9942 / Flux completeness metric for aperture 4        \n",
       "CRWDSAP4=               0.3918 / Flux crowding metric for aperture 4            \n",
       "PERCUT5 =                   60 / Flux completeness metric for aperture 5        \n",
       "FLFRSAP5=               0.9898 / Flux completeness metric for aperture 5        \n",
       "CRWDSAP5=               0.4531 / Flux crowding metric for aperture 5            \n",
       "PERCUT6 =                   75 / Flux completeness metric for aperture 6        \n",
       "FLFRSAP6=               0.9771 / Flux completeness metric for aperture 6        \n",
       "CRWDSAP6=               0.6325 / Flux crowding metric for aperture 6            \n",
       "PERCUT7 =                   90 / Flux completeness metric for aperture 7        \n",
       "FLFRSAP7=   0.9239000000000001 / Flux completeness metric for aperture 7        \n",
       "CRWDSAP7=               0.7436 / Flux crowding metric for aperture 7            \n",
       "PERCUT0 =                   93 / Flux completeness metric for aperture optimal  \n",
       "FLFRSAP0=               0.8831 / Flux completeness metric for aperture optimal  \n",
       "CRWDSAP0=               0.9705 / Flux crowding metric for aperture optimal      \n",
       "CHECKSUM= 'kU4AlT36kT3AkT33'   / HDU checksum updated 2021-07-01T12:39:21       \n",
       "DATASUM = '0       '           / data unit checksum updated 2021-07-01T12:39:21 "
      ]
     },
     "execution_count": 168,
     "metadata": {},
     "output_type": "execute_result"
    }
   ],
   "source": [
    "test_hdu[0].header"
   ]
  },
  {
   "cell_type": "code",
   "execution_count": 141,
   "metadata": {},
   "outputs": [
    {
     "data": {
      "text/plain": [
       "XTENSION= 'BINTABLE'           / binary table extension                         \n",
       "BITPIX  =                    8 / array data type                                \n",
       "NAXIS   =                    2 / number of array dimensions                     \n",
       "NAXIS1  =                   92 / length of dimension 1                          \n",
       "NAXIS2  =                 4492 / length of dimension 2                          \n",
       "PCOUNT  =                    0 / number of group parameters                     \n",
       "GCOUNT  =                    1 / number of groups                               \n",
       "TFIELDS =                   20 / number of table fields                         \n",
       "EXTNAME = 'LIGHTCURVE'         / extension name                                 \n",
       "TTYPE1  = 'TIME    '                                                            \n",
       "TFORM1  = 'D       '                                                            \n",
       "TUNIT1  = 'jd      '                                                            \n",
       "TTYPE2  = 'CADENCENO'                                                           \n",
       "TFORM2  = 'K       '                                                            \n",
       "TTYPE3  = 'FLUX    '                                                            \n",
       "TFORM3  = 'E       '                                                            \n",
       "TUNIT3  = 'e-/s    '                                                            \n",
       "TTYPE4  = 'FLUX1   '                                                            \n",
       "TFORM4  = 'E       '                                                            \n",
       "TUNIT4  = 'e-/s    '                                                            \n",
       "TTYPE5  = 'FLUX2   '                                                            \n",
       "TFORM5  = 'E       '                                                            \n",
       "TUNIT5  = 'e-/s    '                                                            \n",
       "TTYPE6  = 'FLUX3   '                                                            \n",
       "TFORM6  = 'E       '                                                            \n",
       "TUNIT6  = 'e-/s    '                                                            \n",
       "TTYPE7  = 'FLUX4   '                                                            \n",
       "TFORM7  = 'E       '                                                            \n",
       "TUNIT7  = 'e-/s    '                                                            \n",
       "TTYPE8  = 'FLUX5   '                                                            \n",
       "TFORM8  = 'E       '                                                            \n",
       "TUNIT8  = 'e-/s    '                                                            \n",
       "TTYPE9  = 'FLUX6   '                                                            \n",
       "TFORM9  = 'E       '                                                            \n",
       "TUNIT9  = 'e-/s    '                                                            \n",
       "TTYPE10 = 'FLUX7   '                                                            \n",
       "TFORM10 = 'E       '                                                            \n",
       "TUNIT10 = 'e-/s    '                                                            \n",
       "TTYPE11 = 'FLUX_ERR'                                                            \n",
       "TFORM11 = 'E       '                                                            \n",
       "TUNIT11 = 'e-/s    '                                                            \n",
       "TTYPE12 = 'FLUX_ERR1'                                                           \n",
       "TFORM12 = 'E       '                                                            \n",
       "TUNIT12 = 'e-/s    '                                                            \n",
       "TTYPE13 = 'FLUX_ERR2'                                                           \n",
       "TFORM13 = 'E       '                                                            \n",
       "TUNIT13 = 'e-/s    '                                                            \n",
       "TTYPE14 = 'FLUX_ERR3'                                                           \n",
       "TFORM14 = 'E       '                                                            \n",
       "TUNIT14 = 'e-/s    '                                                            \n",
       "TTYPE15 = 'FLUX_ERR4'                                                           \n",
       "TFORM15 = 'E       '                                                            \n",
       "TUNIT15 = 'e-/s    '                                                            \n",
       "TTYPE16 = 'FLUX_ERR5'                                                           \n",
       "TFORM16 = 'E       '                                                            \n",
       "TUNIT16 = 'e-/s    '                                                            \n",
       "TTYPE17 = 'FLUX_ERR6'                                                           \n",
       "TFORM17 = 'E       '                                                            \n",
       "TUNIT17 = 'e-/s    '                                                            \n",
       "TTYPE18 = 'FLUX_ERR7'                                                           \n",
       "TFORM18 = 'E       '                                                            \n",
       "TUNIT18 = 'e-/s    '                                                            \n",
       "TTYPE19 = 'QUALITY '                                                            \n",
       "TFORM19 = 'K       '                                                            \n",
       "TTYPE20 = 'SAP_QUALITY'                                                         \n",
       "TFORM20 = 'J       '                                                            \n",
       "CHECKSUM= '9mFNHkCM9kCMGkCM'   / HDU checksum updated 2021-06-14T18:27:38       \n",
       "DATASUM = '1802480699'         / data unit checksum updated 2021-06-14T18:27:38 "
      ]
     },
     "execution_count": 141,
     "metadata": {},
     "output_type": "execute_result"
    }
   ],
   "source": [
    "test_hdu[1].header"
   ]
  },
  {
   "cell_type": "code",
   "execution_count": 142,
   "metadata": {},
   "outputs": [
    {
     "data": {
      "text/plain": [
       "XTENSION= 'IMAGE   '           / Image extension                                \n",
       "BITPIX  =                    8 / array data type                                \n",
       "NAXIS   =                    2 / number of array dimensions                     \n",
       "NAXIS1  =                   36                                                  \n",
       "NAXIS2  =                   60                                                  \n",
       "PCOUNT  =                    0 / number of parameters                           \n",
       "GCOUNT  =                    1 / number of groups                               \n",
       "EXTNAME = 'APERTURE_1'                                                          \n",
       "CHECKSUM= 'WlX2XkU1WkU1WkU1'   / HDU checksum updated 2021-06-14T18:27:39       \n",
       "DATASUM = '84346884'           / data unit checksum updated 2021-06-14T18:27:39 "
      ]
     },
     "execution_count": 142,
     "metadata": {},
     "output_type": "execute_result"
    }
   ],
   "source": [
    "test_hdu[3].header"
   ]
  },
  {
   "cell_type": "code",
   "execution_count": 143,
   "metadata": {},
   "outputs": [],
   "source": [
    "lc = lk.LightCurve.read(fname, format=\"kepler\")"
   ]
  },
  {
   "cell_type": "code",
   "execution_count": 145,
   "metadata": {},
   "outputs": [
    {
     "data": {
      "text/plain": [
       "<AxesSubplot:xlabel='Time - 2454833 [BKJD days]', ylabel='Flux [$\\\\mathrm{e^{-}\\\\,s^{-1}}$]'>"
      ]
     },
     "execution_count": 145,
     "metadata": {},
     "output_type": "execute_result"
    },
    {
     "data": {
      "image/png": "[encoded data removed]",
      "text/plain": [
       "<Figure size 848.5x400 with 1 Axes>"
      ]
     },
     "metadata": {},
     "output_type": "display_data"
    }
   ],
   "source": [
    "lc.plot()"
   ]
  },
  {
   "cell_type": "code",
   "execution_count": 73,
   "metadata": {},
   "outputs": [],
   "source": [
    "lck16 = lk.search_lightcurve('Kepler-16', mission='Kepler', \n",
    "                                 quarter=12, radius=1000, limit=100, \n",
    "                                 cadence='long').download_all(quality_bitmask=None)"
   ]
  },
  {
   "cell_type": "code",
   "execution_count": 83,
   "metadata": {},
   "outputs": [
    {
     "data": {
      "text/plain": [
       "{'INHERIT': True,\n",
       " 'EXTNAME': 'PRIMARY',\n",
       " 'EXTVER': 1,\n",
       " 'TELESCOP': 'Kepler',\n",
       " 'INSTRUME': 'Kepler Photometer',\n",
       " 'OBJECT': 'KIC 12644769',\n",
       " 'KEPLERID': 12644769,\n",
       " 'RADESYS': 'ICRS',\n",
       " 'RA_OBJ': 289.07571,\n",
       " 'DEC_OBJ': 51.75744,\n",
       " 'EQUINOX': 2000.0,\n",
       " 'EXPOSURE': 76.07514665,\n",
       " 'TIMEREF': 'SOLARSYSTEM',\n",
       " 'TASSIGN': 'SPACECRAFT',\n",
       " 'TIMESYS': 'TDB',\n",
       " 'BJDREFI': 2454833,\n",
       " 'BJDREFF': 0.0,\n",
       " 'TIMEUNIT': 'd',\n",
       " 'TELAPSE': 82.63334895,\n",
       " 'LIVETIME': 76.07514665,\n",
       " 'TSTART': 1099.39897776,\n",
       " 'TSTOP': 1182.03232671,\n",
       " 'LC_START': 55931.90965952,\n",
       " 'LC_END': 56014.52272722,\n",
       " 'DEADC': 0.92063492,\n",
       " 'TIMEPIXR': 0.5,\n",
       " 'TIERRELA': 5.78e-07,\n",
       " 'TIERABSO': <astropy.io.fits.card.Undefined at 0x12a3241c0>,\n",
       " 'INT_TIME': 6.01980290327,\n",
       " 'READTIME': 0.518948526144,\n",
       " 'FRAMETIM': 6.538751429414,\n",
       " 'NUM_FRM': 270,\n",
       " 'TIMEDEL': 0.02043359821692,\n",
       " 'DATE-OBS': '2012-01-05T21:35:11.852Z',\n",
       " 'DATE-END': '2012-03-28T12:47:26.361Z',\n",
       " 'BACKAPP': True,\n",
       " 'DEADAPP': True,\n",
       " 'VIGNAPP': True,\n",
       " 'GAIN': 104.76,\n",
       " 'READNOIS': 111.024648,\n",
       " 'NREADOUT': 270,\n",
       " 'TIMSLICE': 4,\n",
       " 'MEANBLCK': 721,\n",
       " 'LCFXDOFF': 419400,\n",
       " 'SCFXDOFF': 219400,\n",
       " 'CDPP3_0': 59.68142318725586,\n",
       " 'CDPP6_0': 54.89545822143555,\n",
       " 'CDPP12_0': 53.49321746826172,\n",
       " 'CROWDSAP': 0.994,\n",
       " 'FLFRCSAP': 0.9344,\n",
       " 'NSPSDDET': 0,\n",
       " 'NSPSDCOR': 0,\n",
       " 'PDCVAR': 32.13278579711914,\n",
       " 'PDCMETHD': 'multiScaleMap',\n",
       " 'NUMBAND': 3,\n",
       " 'FITTYPE1': 'robust',\n",
       " 'PR_GOOD1': 0.9755691885948181,\n",
       " 'PR_WGHT1': 0.0,\n",
       " 'FITTYPE2': 'prior',\n",
       " 'PR_GOOD2': 0.1304703801870346,\n",
       " 'PR_WGHT2': 12030.4013671875,\n",
       " 'FITTYPE3': 'prior',\n",
       " 'PR_GOOD3': 0.8759929537773132,\n",
       " 'PR_WGHT3': 19232.978515625,\n",
       " 'PDC_TOT': 0.061200596392154694,\n",
       " 'PDC_TOTP': 0.034602075815200806,\n",
       " 'PDC_COR': 0.9927015900611877,\n",
       " 'PDC_CORP': 40.2130241394043,\n",
       " 'PDC_VAR': 0.8269391655921936,\n",
       " 'PDC_VARP': 9.640268325805664,\n",
       " 'PDC_NOI': 0.9144206643104553,\n",
       " 'PDC_NOIP': 41.82602310180664,\n",
       " 'PDC_EPT': 1.0,\n",
       " 'PDC_EPTP': 79.06875610351562,\n",
       " 'CHECKSUM': 'nJGIoGGGnGGGnGGG',\n",
       " 'SIMPLE': True,\n",
       " 'BITPIX': 8,\n",
       " 'NAXIS': 0,\n",
       " 'EXTEND': True,\n",
       " 'NEXTEND': 2,\n",
       " 'ORIGIN': 'NASA/Ames',\n",
       " 'DATE': '2015-10-06',\n",
       " 'CREATOR': '1091931 FluxExporter2PipelineModule',\n",
       " 'PROCVER': 'svn+ssh://murzim/repo/soc/tags/release/9.3.29 r60484',\n",
       " 'FILEVER': '6.1',\n",
       " 'TIMVERSN': 'OGIP/93-003',\n",
       " 'CHANNEL': 4,\n",
       " 'SKYGROUP': 4,\n",
       " 'MODULE': 2,\n",
       " 'OUTPUT': 4,\n",
       " 'QUARTER': 12,\n",
       " 'SEASON': 2,\n",
       " 'DATA_REL': 25,\n",
       " 'OBSMODE': 'long cadence',\n",
       " 'MISSION': 'Kepler',\n",
       " 'TTABLEID': 53,\n",
       " 'PMRA': 0.0,\n",
       " 'PMDEC': 0.0,\n",
       " 'PMTOTAL': 0.0,\n",
       " 'PARALLAX': None,\n",
       " 'GLON': 82.785593,\n",
       " 'GLAT': 17.366149,\n",
       " 'GMAG': 12.978,\n",
       " 'RMAG': 11.734,\n",
       " 'IMAG': 11.241,\n",
       " 'ZMAG': 10.942,\n",
       " 'D51MAG': 12.832,\n",
       " 'JMAG': 9.814,\n",
       " 'HMAG': 9.137,\n",
       " 'KMAG': 8.996,\n",
       " 'KEPMAG': 11.762,\n",
       " 'GRCOLOR': 1.244,\n",
       " 'JKCOLOR': 0.818,\n",
       " 'GKCOLOR': 3.982,\n",
       " 'TEFF': 4452,\n",
       " 'LOGG': 4.649,\n",
       " 'FEH': -0.3,\n",
       " 'EBMINUSV': 0.012,\n",
       " 'AV': 0.039,\n",
       " 'RADIUS': 0.623,\n",
       " 'TMINDEX': 1119672844,\n",
       " 'SCPID': None,\n",
       " 'LABEL': 'KIC 12644769',\n",
       " 'RA': 289.07571,\n",
       " 'DEC': 51.75744,\n",
       " 'FILENAME': '/Users/jorgemarpa/.lightkurve-cache/mastDownload/Kepler/kplr012644769_lc_Q111111111111111111/kplr012644769-2012088054726_llc.fits',\n",
       " 'AUTHOR': 'Kepler',\n",
       " 'TARGETID': 12644769,\n",
       " 'QUALITY_BITMASK': None,\n",
       " 'QUALITY_MASK': array([ True,  True,  True, ...,  True,  True,  True])}"
      ]
     },
     "execution_count": 83,
     "metadata": {},
     "output_type": "execute_result"
    }
   ],
   "source": [
    "lck16[0].meta"
   ]
  },
  {
   "cell_type": "markdown",
   "metadata": {},
   "source": [
    "# Support Files"
   ]
  },
  {
   "cell_type": "code",
   "execution_count": 10,
   "metadata": {},
   "outputs": [
    {
     "data": {
      "text/plain": [
       "(array([ 5,  6,  7,  8,  9, 10, 11, 12, 13, 14, 15, 16, 17]),\n",
       " array([ 1,  2,  3,  4,  9, 10, 11, 12, 13, 14, 15, 16, 17, 18, 19, 20, 21,\n",
       "        22, 23, 24, 25, 26, 27, 28, 29, 30, 31, 32, 33, 34, 35, 36, 37, 38,\n",
       "        39, 40, 41, 42, 43, 44, 45, 46, 47, 48, 49, 50, 51, 52, 53, 54, 55,\n",
       "        56, 57, 58, 59, 60, 61, 62, 63, 64, 65, 66, 67, 68, 69, 70, 71, 72,\n",
       "        73, 74, 75, 76, 77, 78, 79, 80, 81, 82, 83, 84]))"
      ]
     },
     "execution_count": 10,
     "metadata": {},
     "output_type": "execute_result"
    }
   ],
   "source": [
    "quarters = np.arange(5, 18)\n",
    "channels = np.delete(np.arange(1, 85, 1), [4,5,6,7])\n",
    "quarters, channels"
   ]
  },
  {
   "cell_type": "code",
   "execution_count": null,
   "metadata": {},
   "outputs": [],
   "source": [
    "for q in quarters:\n",
    "    for ch in channels:\n",
    "        path = \"../data/export/%i/%02i/lc_q%i_ch%02i_*.fits.gz\" % (quarter, channel, quarter, channel)"
   ]
  },
  {
   "cell_type": "markdown",
   "metadata": {},
   "source": [
    "# Full catalog "
   ]
  },
  {
   "cell_type": "code",
   "execution_count": 112,
   "metadata": {},
   "outputs": [],
   "source": [
    "cat = Table.read(\"../../EXBA_LCFs/data/hlsp_kbonus-apexba_kepler_v1.0_cat.fits\", format=\"fits\")"
   ]
  },
  {
   "cell_type": "code",
   "execution_count": 113,
   "metadata": {},
   "outputs": [
    {
     "data": {
      "text/html": [
       "<i>Table masked=True length=9327</i>\n",
       "<table id=\"table5100874336\" class=\"table-striped table-bordered table-condensed\">\n",
       "<thead><tr><th>Gaia_designation</th><th>ra</th><th>ra_error</th><th>dec</th><th>dec_error</th><th>pmra</th><th>pmdec</th><th>parallax</th><th>parallax_error</th><th>phot_g_mean_mag</th><th>phot_bp_mean_mag</th><th>phot_rp_mean_mag</th><th>KIC</th><th>umag</th><th>gmag</th><th>rmag</th><th>imag</th><th>zmag</th><th>Jmag</th><th>Hmag</th><th>Kmag</th><th>kepmag</th><th>angDist</th></tr></thead>\n",
       "<thead><tr><th></th><th>deg</th><th>mas</th><th>deg</th><th>mas</th><th>mas / yr</th><th>mas / yr</th><th>mas</th><th>mas</th><th>mag</th><th>mag</th><th>mag</th><th></th><th>mag</th><th>mag</th><th>mag</th><th>mag</th><th>mag</th><th>mag</th><th>mag</th><th>mag</th><th>mag</th><th>arcsec</th></tr></thead>\n",
       "<thead><tr><th>bytes29</th><th>float64</th><th>float64</th><th>float64</th><th>float64</th><th>float64</th><th>float64</th><th>float64</th><th>float64</th><th>float64</th><th>float64</th><th>float64</th><th>int32</th><th>float32</th><th>float32</th><th>float32</th><th>float32</th><th>float32</th><th>float32</th><th>float32</th><th>float32</th><th>float32</th><th>float64</th></tr></thead>\n",
       "<tr><td>Gaia EDR3 2105384211065299328</td><td>282.02601422275194</td><td>0.19085671</td><td>44.25377944557144</td><td>0.22391872</td><td>-19.973062525408807</td><td>-18.944104549054543</td><td>0.5892298715885553</td><td>0.22106487</td><td>19.495558</td><td>20.573519</td><td>18.441187</td><td>8278800</td><td>nan</td><td>nan</td><td>19.63</td><td>18.36</td><td>nan</td><td>nan</td><td>nan</td><td>nan</td><td>19.63</td><td>0.456638</td></tr>\n",
       "<tr><td>Gaia EDR3 2105384241127278208</td><td>282.00675214953424</td><td>0.13252868</td><td>44.25354519592058</td><td>0.15323067</td><td>-1.7719406349189692</td><td>-2.529980358977672</td><td>0.1500959224388817</td><td>0.15502745</td><td>19.065722</td><td>19.520166</td><td>18.487371</td><td>8278766</td><td>nan</td><td>19.869</td><td>19.221</td><td>18.988</td><td>nan</td><td>nan</td><td>nan</td><td>nan</td><td>19.254</td><td>0.326691</td></tr>\n",
       "<tr><td>Gaia EDR3 2105384245425035392</td><td>282.0141527165855</td><td>0.05810274</td><td>44.25357179111208</td><td>0.06556623</td><td>-1.1884323904997922</td><td>-1.3311902001283102</td><td>0.6496634574414855</td><td>0.06638684</td><td>17.68509</td><td>18.431139</td><td>16.906893</td><td>8278780</td><td>nan</td><td>18.595</td><td>17.742</td><td>17.418</td><td>nan</td><td>15.89</td><td>15.292</td><td>15.129</td><td>17.772</td><td>0.285838</td></tr>\n",
       "<tr><td>Gaia EDR3 2105384245425036032</td><td>282.0115846417504</td><td>0.046779666</td><td>44.25693434951504</td><td>0.052581493</td><td>-0.1485608838175161</td><td>2.350118651573734</td><td>0.4188690082459329</td><td>0.052441496</td><td>17.299631</td><td>17.762989</td><td>16.70236</td><td>8278774</td><td>nan</td><td>17.952</td><td>17.244</td><td>17.068</td><td>17.049</td><td>15.903</td><td>15.364</td><td>15.289</td><td>17.333</td><td>0.065174</td></tr>\n",
       "<tr><td>Gaia EDR3 2105384275487021696</td><td>282.01759328547774</td><td>0.11267807</td><td>44.257040875289896</td><td>0.13129382</td><td>-3.5800351772400383</td><td>-7.079612589511583</td><td>0.0743769441101454</td><td>0.12939464</td><td>18.775005</td><td>19.093567</td><td>18.251266</td><td>8278784</td><td>nan</td><td>19.363</td><td>18.906</td><td>18.765</td><td>nan</td><td>nan</td><td>nan</td><td>nan</td><td>18.947</td><td>0.376572</td></tr>\n",
       "<tr><td>Gaia EDR3 2105384275487028864</td><td>282.022582665752</td><td>0.22320406</td><td>44.26418381452679</td><td>0.26284742</td><td>-2.499486775535332</td><td>-6.307408380364082</td><td>0.0193874303894036</td><td>0.2625386</td><td>19.846481</td><td>20.185364</td><td>19.209179</td><td>8278794</td><td>nan</td><td>20.815</td><td>20.158</td><td>19.915</td><td>nan</td><td>nan</td><td>nan</td><td>nan</td><td>20.187</td><td>0.433469</td></tr>\n",
       "<tr><td>Gaia EDR3 2105384275487765888</td><td>282.01554846672286</td><td>0.25413236</td><td>44.26914439033675</td><td>0.29134235</td><td>0.3888750505490295</td><td>-7.9497518322893</td><td>0.4233887386813281</td><td>0.2960355</td><td>19.950417</td><td>20.695883</td><td>19.023285</td><td>8278782</td><td>nan</td><td>21.453</td><td>20.275</td><td>19.783</td><td>nan</td><td>nan</td><td>nan</td><td>nan</td><td>20.284</td><td>0.724755</td></tr>\n",
       "<tr><td>Gaia EDR3 2105384279784776448</td><td>282.0092266244273</td><td>0.054246727</td><td>44.26875069041165</td><td>0.061871875</td><td>-6.340516887731038</td><td>-7.520252684424294</td><td>0.0962676785583503</td><td>0.061771583</td><td>17.606903</td><td>17.885267</td><td>17.148752</td><td>8278771</td><td>nan</td><td>17.928</td><td>17.507</td><td>17.391</td><td>nan</td><td>nan</td><td>nan</td><td>nan</td><td>17.555</td><td>0.389761</td></tr>\n",
       "<tr><td>Gaia EDR3 2105384279784776704</td><td>282.0184317908144</td><td>0.023118896</td><td>44.262211684053696</td><td>0.026202345</td><td>3.879033359655384</td><td>-5.6729656497714105</td><td>0.5755172079978582</td><td>0.026283344</td><td>16.01134</td><td>16.37253</td><td>15.470577</td><td>8278786</td><td>nan</td><td>16.495</td><td>15.967</td><td>15.834</td><td>15.802</td><td>14.819</td><td>14.426</td><td>14.657</td><td>16.032</td><td>0.25923</td></tr>\n",
       "<tr><td>...</td><td>...</td><td>...</td><td>...</td><td>...</td><td>...</td><td>...</td><td>...</td><td>...</td><td>...</td><td>...</td><td>...</td><td>...</td><td>...</td><td>...</td><td>...</td><td>...</td><td>...</td><td>...</td><td>...</td><td>...</td><td>...</td><td>...</td></tr>\n",
       "<tr><td>Gaia EDR3 2086539200245894912</td><td>298.0863671719377</td><td>0.4237506</td><td>48.20053863378098</td><td>0.4998722</td><td>-0.3477623058792001</td><td>-10.247133986940032</td><td>0.0864974123173173</td><td>0.50303876</td><td>20.166496</td><td>20.98951</td><td>19.197947</td><td>10878645</td><td>nan</td><td>21.221</td><td>20.224</td><td>19.776</td><td>nan</td><td>nan</td><td>nan</td><td>nan</td><td>20.212</td><td>0.897402</td></tr>\n",
       "<tr><td>Gaia EDR3 2086539234599529856</td><td>298.10464898226786</td><td>0.33985242</td><td>48.19648005449239</td><td>0.3973321</td><td>-1.032891548687528</td><td>-1.6572569407838778</td><td>0.9269412411410464</td><td>0.44073108</td><td>20.00715</td><td>21.212496</td><td>19.00728</td><td>--</td><td>nan</td><td>nan</td><td>nan</td><td>nan</td><td>nan</td><td>nan</td><td>nan</td><td>nan</td><td>nan</td><td>nan</td></tr>\n",
       "<tr><td>Gaia EDR3 2086539234599536256</td><td>298.10109090057205</td><td>0.41609782</td><td>48.20390488304712</td><td>0.48210657</td><td>-5.444412538473982</td><td>0.3492145259623579</td><td>0.6815736516222294</td><td>0.51896226</td><td>20.233068</td><td>21.076794</td><td>19.284527</td><td>10878688</td><td>nan</td><td>nan</td><td>19.69</td><td>17.5</td><td>nan</td><td>nan</td><td>nan</td><td>nan</td><td>19.69</td><td>0.496672</td></tr>\n",
       "<tr><td>Gaia EDR3 2086539234603578112</td><td>298.1058113647864</td><td>1.1122135</td><td>48.20562879938864</td><td>2.8302817</td><td>1e+20</td><td>1e+20</td><td>1e+20</td><td>1e+20</td><td>20.866219</td><td>21.148895</td><td>20.21719</td><td>--</td><td>nan</td><td>nan</td><td>nan</td><td>nan</td><td>nan</td><td>nan</td><td>nan</td><td>nan</td><td>nan</td><td>nan</td></tr>\n",
       "<tr><td>Gaia EDR3 2086539303319000576</td><td>298.0856545333235</td><td>0.5296042</td><td>48.21318045932709</td><td>0.72872174</td><td>-4.247232100701635</td><td>-7.158413982483765</td><td>-0.1849612946076112</td><td>0.72220147</td><td>20.27816</td><td>20.901196</td><td>19.39313</td><td>--</td><td>nan</td><td>nan</td><td>nan</td><td>nan</td><td>nan</td><td>nan</td><td>nan</td><td>nan</td><td>nan</td><td>nan</td></tr>\n",
       "<tr><td>Gaia EDR3 2086539951857563136</td><td>298.0648469872005</td><td>0.35256994</td><td>48.20459789008029</td><td>0.47598833</td><td>-1.4186082762693375</td><td>-6.318063709322501</td><td>0.5421878194213952</td><td>0.45801622</td><td>20.171392</td><td>20.968971</td><td>19.526728</td><td>10878576</td><td>nan</td><td>21.274</td><td>20.294</td><td>19.855</td><td>nan</td><td>nan</td><td>nan</td><td>nan</td><td>20.283</td><td>0.491628</td></tr>\n",
       "<tr><td>Gaia EDR3 2129526011778662272</td><td>290.69729389301824</td><td>0.13590771</td><td>48.6158137739752</td><td>0.1332609</td><td>-3.1015185172546307</td><td>-4.253411649646504</td><td>0.1151262051750913</td><td>0.14186148</td><td>18.787304</td><td>19.355474</td><td>18.164618</td><td>11081936</td><td>nan</td><td>19.183</td><td>18.63</td><td>18.422</td><td>nan</td><td>nan</td><td>nan</td><td>nan</td><td>18.661</td><td>0.220906</td></tr>\n",
       "<tr><td>Gaia EDR3 2143714973114706560</td><td>282.74053036815104</td><td>0.021522546</td><td>48.26248902172327</td><td>0.022694735</td><td>-3.1883202740429017</td><td>-5.866774777895644</td><td>0.5884404261552625</td><td>0.023252616</td><td>15.417315</td><td>15.777968</td><td>14.891897</td><td>10843995</td><td>nan</td><td>15.645</td><td>15.162</td><td>15.031</td><td>nan</td><td>14.322</td><td>14.068</td><td>14.005</td><td>15.216</td><td>0.136016</td></tr>\n",
       "<tr><td>Gaia EDR3 2076208704382822912</td><td>295.76662757170647</td><td>0.12125051</td><td>39.44553905240039</td><td>0.1209651</td><td>-5.7051348594792906</td><td>-8.953973492388219</td><td>0.6927382763215332</td><td>0.14172465</td><td>18.638466</td><td>19.238277</td><td>17.677736</td><td>--</td><td>nan</td><td>nan</td><td>nan</td><td>nan</td><td>nan</td><td>nan</td><td>nan</td><td>nan</td><td>nan</td><td>nan</td></tr>\n",
       "<tr><td>Gaia EDR3 2082091710075415424</td><td>300.7241523433139</td><td>0.09935167</td><td>44.61432886129422</td><td>0.10809291</td><td>-2.552809336415596</td><td>-1.6549952946224955</td><td>0.2397695528076012</td><td>0.11388309</td><td>18.259747</td><td>18.712301</td><td>17.280407</td><td>8589522</td><td>nan</td><td>18.265</td><td>nan</td><td>17.152</td><td>16.889</td><td>15.848</td><td>15.34</td><td>15.064</td><td>18.265</td><td>0.927771</td></tr>\n",
       "</table>"
      ],
      "text/plain": [
       "<Table masked=True length=9327>\n",
       "       Gaia_designation               ra         ...  kepmag angDist \n",
       "                                     deg         ...   mag    arcsec \n",
       "           bytes29                 float64       ... float32 float64 \n",
       "----------------------------- ------------------ ... ------- --------\n",
       "Gaia EDR3 2105384211065299328 282.02601422275194 ...   19.63 0.456638\n",
       "Gaia EDR3 2105384241127278208 282.00675214953424 ...  19.254 0.326691\n",
       "Gaia EDR3 2105384245425035392  282.0141527165855 ...  17.772 0.285838\n",
       "Gaia EDR3 2105384245425036032  282.0115846417504 ...  17.333 0.065174\n",
       "Gaia EDR3 2105384275487021696 282.01759328547774 ...  18.947 0.376572\n",
       "Gaia EDR3 2105384275487028864   282.022582665752 ...  20.187 0.433469\n",
       "Gaia EDR3 2105384275487765888 282.01554846672286 ...  20.284 0.724755\n",
       "Gaia EDR3 2105384279784776448  282.0092266244273 ...  17.555 0.389761\n",
       "Gaia EDR3 2105384279784776704  282.0184317908144 ...  16.032  0.25923\n",
       "                          ...                ... ...     ...      ...\n",
       "Gaia EDR3 2086539200245894912  298.0863671719377 ...  20.212 0.897402\n",
       "Gaia EDR3 2086539234599529856 298.10464898226786 ...     nan      nan\n",
       "Gaia EDR3 2086539234599536256 298.10109090057205 ...   19.69 0.496672\n",
       "Gaia EDR3 2086539234603578112  298.1058113647864 ...     nan      nan\n",
       "Gaia EDR3 2086539303319000576  298.0856545333235 ...     nan      nan\n",
       "Gaia EDR3 2086539951857563136  298.0648469872005 ...  20.283 0.491628\n",
       "Gaia EDR3 2129526011778662272 290.69729389301824 ...  18.661 0.220906\n",
       "Gaia EDR3 2143714973114706560 282.74053036815104 ...  15.216 0.136016\n",
       "Gaia EDR3 2076208704382822912 295.76662757170647 ...     nan      nan\n",
       "Gaia EDR3 2082091710075415424  300.7241523433139 ...  18.265 0.927771"
      ]
     },
     "execution_count": 113,
     "metadata": {},
     "output_type": "execute_result"
    }
   ],
   "source": [
    "cat"
   ]
  },
  {
   "cell_type": "code",
   "execution_count": 96,
   "metadata": {},
   "outputs": [],
   "source": [
    "hdu = fits.open(\"../../EXBA_LCFs/data/hlsp_kbonus-apexba_kepler_v1.0_cat.fits\")"
   ]
  },
  {
   "cell_type": "code",
   "execution_count": 97,
   "metadata": {},
   "outputs": [
    {
     "name": "stdout",
     "output_type": "stream",
     "text": [
      "Filename: ../../EXBA_LCFs/data/hlsp_kbonus-apexba_kepler_v1.0_cat.fits\n",
      "No.    Name      Ver    Type      Cards   Dimensions   Format\n",
      "  0  PRIMARY       1 PrimaryHDU      24   ()      \n",
      "  1  EXBA-sources    1 BinTableHDU    104   9327R x 23C   [29A, D, D, D, D, D, D, D, D, D, D, D, J, E, E, E, E, E, E, E, E, E, D]   \n"
     ]
    }
   ],
   "source": [
    "hdu.info()"
   ]
  },
  {
   "cell_type": "code",
   "execution_count": 98,
   "metadata": {},
   "outputs": [
    {
     "data": {
      "text/plain": [
       "SIMPLE  =                    T / Standard FITS format                           \n",
       "BITPIX  =                    8 / Character data                                 \n",
       "NAXIS   =                    0 / No image, just extensions                      \n",
       "EXTEND  =                    T / There are standard extensions                  \n",
       "DOI     = '' / Digital Object Identifier for the HLSP data collection           \n",
       "EQUINOX = '2000    '           / Equinox of the celestial coordinate system     \n",
       "HLSPID  = 'kbonus-apexba'      / The identifier for this HLSP collection        \n",
       "HLSPLEAD= 'Jorge Martinez-Palomera' / Full name of HLSP project lead            \n",
       "HLSPNAME= 'Kepler Bonus: Aperture EXBA' / Title for HLSP project, long form     \n",
       "HLSPTARG= 'Kepler EXBA'        / Designation of the field(s) for this HLSP      \n",
       "HLSPVER = '1.0     '           / HLSP version                                   \n",
       "OBSERVAT= 'Kepler  '           / Observatory used to obtain this observation    \n",
       "TELESCOP= 'Kepler  '           / Telescope used for this observation            \n",
       "INSTRUME= 'Kepler Photometer'  / Instrument used for this observation           \n",
       "LICENSE = 'CC BY 4.0'          / License for use of these data                  \n",
       "LICENURL= 'https://creativecommons.org/licenses/by/4.0/' / Data license URL     \n",
       "MJD-BEG =     2455276.49016845 / Start time of observation, quarter 5, in MJD   \n",
       "MJD-END =    2456424.001507975 / End time of observation, quarter 17, in MJD    \n",
       "MJD-MID =    2455850.245838213 / Mid time of observation in MJD                 \n",
       "XPOSURE =                 1625 / Duration of exposure [s]                       \n",
       "RADESYS = 'ICRS    '           / Reference frame of celestial coordinates       \n",
       "CHECKSUM= 'feDgibBgfbBgfbBg'   / HDU checksum updated 2021-07-01T12:08:23       \n",
       "DATASUM = '0       '           / data unit checksum updated 2021-07-01T12:08:23 \n",
       "COMMENT Dummy header; see following table extension                             "
      ]
     },
     "execution_count": 98,
     "metadata": {},
     "output_type": "execute_result"
    }
   ],
   "source": [
    "phdr = hdu[0].header\n",
    "phdr"
   ]
  },
  {
   "cell_type": "raw",
   "metadata": {},
   "source": [
    "phdr.set(\"DOI\", \"\", \"Digital Object Identifier for the HLSP data collection\")\n",
    "phdr.set(\"EQUINOX\", \"2000\", \"Equinox of the celestial coordinate system\")\n",
    "phdr.set(\"HLSPID\", project_name, \"The identifier for this HLSP collection\")\n",
    "phdr.set(\"HLSPLEAD\", \"Jorge Martinez-Palomera\", \"Full name of HLSP project lead\")\n",
    "phdr.set(\"HLSPNAME\", \"Kepler Bonus: Aperture EXBA\", \"Title for HLSP project, long form\")\n",
    "phdr.set(\"HLSPTARG\", \"Kepler EXBA\", \"Designation of the field(s) for this HLSP\")\n",
    "phdr.set(\"HLSPVER\", \"1.0\", \"HLSP version\")\n",
    "phdr.set(\"OBSERVAT\", \"Kepler\", \"Observatory used to obtain this observation\")\n",
    "phdr.set(\"TELESCOP\", \"Kepler\", \"Telescope used for this observation\")\n",
    "phdr.set(\"INSTRUME\", \"Kepler Photometer\", \"Instrument used for this observation\")\n",
    "phdr.set(\"LICENSE\", \"CC BY 4.0\", \"License for use of these data\")\n",
    "phdr.set(\"LICENURL\", \"https://creativecommons.org/licenses/by/4.0/\", \"Data license URL\")\n",
    "\n",
    "phdr.set(\"MJD-BEG\", 2455276.49016845, \"Start time of observation, quarter 5, in MJD\")\n",
    "phdr.set(\"MJD-END\", 2456424.001507975, \"End time of observation, quarter 17, in MJD\")\n",
    "phdr.set(\"MJD-MID\", 2455850.245838213, \"Mid time of observation in MJD\")\n",
    "\n",
    "phdr.set(\"XPOSURE\", 1625, \"Duration of exposure [s]\")\n",
    "phdr.set(\"RADESYS\", \"ICRS\", \"Reference frame of celestial coordinates\")"
   ]
  },
  {
   "cell_type": "code",
   "execution_count": 99,
   "metadata": {},
   "outputs": [],
   "source": [
    "hdu[1].header.set(\"TTYPE1\", \"Gaia_designation\")"
   ]
  },
  {
   "cell_type": "code",
   "execution_count": 100,
   "metadata": {},
   "outputs": [
    {
     "data": {
      "text/plain": [
       "XTENSION= 'BINTABLE'           / binary table extension                         \n",
       "BITPIX  =                    8 / 8-bit bytes                                    \n",
       "NAXIS   =                    2 / 2-dimensional table                            \n",
       "NAXIS1  =                  165 / width of table in bytes                        \n",
       "NAXIS2  =                 9327 / number of rows in table                        \n",
       "PCOUNT  =                    0 / size of special data area                      \n",
       "GCOUNT  =                    1 / one data group                                 \n",
       "TFIELDS =                   23 / number of columns                              \n",
       "EXTNAME = 'EXBA-sources'       / table name                                     \n",
       "TTYPE1  = 'Gaia_designation'   / label for column 1                             \n",
       "TFORM1  = '29A     '           / format for column 1                            \n",
       "TTYPE2  = 'ra      '           / label for column 2                             \n",
       "TFORM2  = 'D       '           / format for column 2                            \n",
       "TUNIT2  = 'deg     '           / units for column 2                             \n",
       "TCOMM2  = 'Right ascension'                                                     \n",
       "TTYPE3  = 'ra_error'           / label for column 3                             \n",
       "TFORM3  = 'D       '           / format for column 3                            \n",
       "TUNIT3  = 'mas     '           / units for column 3                             \n",
       "TCOMM3  = 'Standard error of right ascension'                                   \n",
       "TTYPE4  = 'dec     '           / label for column 4                             \n",
       "TFORM4  = 'D       '           / format for column 4                            \n",
       "TUNIT4  = 'deg     '           / units for column 4                             \n",
       "TCOMM4  = 'Declination'                                                         \n",
       "TTYPE5  = 'dec_error'          / label for column 5                             \n",
       "TFORM5  = 'D       '           / format for column 5                            \n",
       "TUNIT5  = 'mas     '           / units for column 5                             \n",
       "TCOMM5  = 'Standard error of declination'                                       \n",
       "TTYPE6  = 'pmra    '           / label for column 6                             \n",
       "TFORM6  = 'D       '           / format for column 6                            \n",
       "TUNIT6  = 'mas/yr  '           / units for column 6                             \n",
       "TCOMM6  = 'Proper motion in right ascension direction'                          \n",
       "TTYPE7  = 'pmdec   '           / label for column 7                             \n",
       "TFORM7  = 'D       '           / format for column 7                            \n",
       "TUNIT7  = 'mas/yr  '           / units for column 7                             \n",
       "TCOMM7  = 'Proper motion in declination'                                        \n",
       "TTYPE8  = 'parallax'           / label for column 8                             \n",
       "TFORM8  = 'D       '           / format for column 8                            \n",
       "TUNIT8  = 'mas     '           / units for column 8                             \n",
       "TCOMM8  = 'Parallax'                                                            \n",
       "TTYPE9  = 'parallax_error'     / label for column 9                             \n",
       "TFORM9  = 'D       '           / format for column 9                            \n",
       "TUNIT9  = 'mas     '           / units for column 9                             \n",
       "TCOMM9  = 'Standard error of parallax'                                          \n",
       "TTYPE10 = 'phot_g_mean_mag'    / label for column 10                            \n",
       "TFORM10 = 'D       '           / format for column 10                           \n",
       "TUNIT10 = 'mag     '           / units for column 10                            \n",
       "TCOMM10 = 'G-band mean magnitude'                                               \n",
       "TTYPE11 = 'phot_bp_mean_mag'   / label for column 11                            \n",
       "TFORM11 = 'D       '           / format for column 11                           \n",
       "TUNIT11 = 'mag     '           / units for column 11                            \n",
       "TCOMM11 = 'Integrated BP mean magnitude'                                        \n",
       "TTYPE12 = 'phot_rp_mean_mag'   / label for column 12                            \n",
       "TFORM12 = 'D       '           / format for column 12                           \n",
       "TUNIT12 = 'mag     '           / units for column 12                            \n",
       "TCOMM12 = 'Integrated RP mean magnitude'                                        \n",
       "TTYPE13 = 'KIC     '           / label for column 13                            \n",
       "TFORM13 = 'J       '           / format for column 13                           \n",
       "TNULL13 =          -2147483648 / blank value for column 13                      \n",
       "TCOMM13 = 'Kepler Input Catalog'                                                \n",
       "TTYPE14 = 'umag    '           / label for column 14                            \n",
       "TFORM14 = 'E       '           / format for column 14                           \n",
       "TUNIT14 = 'mag     '           / units for column 14                            \n",
       "TCOMM14 = 'Magnitude umag'                                                      \n",
       "TTYPE15 = 'gmag    '           / label for column 15                            \n",
       "TFORM15 = 'E       '           / format for column 15                           \n",
       "TUNIT15 = 'mag     '           / units for column 15                            \n",
       "TCOMM15 = 'Magnitude gmag'                                                      \n",
       "TTYPE16 = 'rmag    '           / label for column 16                            \n",
       "TFORM16 = 'E       '           / format for column 16                           \n",
       "TUNIT16 = 'mag     '           / units for column 16                            \n",
       "TCOMM16 = 'Magnitude rmag'                                                      \n",
       "TTYPE17 = 'imag    '           / label for column 17                            \n",
       "TFORM17 = 'E       '           / format for column 17                           \n",
       "TUNIT17 = 'mag     '           / units for column 17                            \n",
       "TCOMM17 = 'Magnitude imag'                                                      \n",
       "TTYPE18 = 'zmag    '           / label for column 18                            \n",
       "TFORM18 = 'E       '           / format for column 18                           \n",
       "TUNIT18 = 'mag     '           / units for column 18                            \n",
       "TCOMM18 = 'Magnitude zmag'                                                      \n",
       "TTYPE19 = 'Jmag    '           / label for column 19                            \n",
       "TFORM19 = 'E       '           / format for column 19                           \n",
       "TUNIT19 = 'mag     '           / units for column 19                            \n",
       "TCOMM19 = 'Magnitude Jmag'                                                      \n",
       "TTYPE20 = 'Hmag    '           / label for column 20                            \n",
       "TFORM20 = 'E       '           / format for column 20                           \n",
       "TUNIT20 = 'mag     '           / units for column 20                            \n",
       "TCOMM20 = 'Magnitude Hmag'                                                      \n",
       "TTYPE21 = 'Kmag    '           / label for column 21                            \n",
       "TFORM21 = 'E       '           / format for column 21                           \n",
       "TUNIT21 = 'mag     '           / units for column 21                            \n",
       "TCOMM21 = 'Magnitude Kmag'                                                      \n",
       "TTYPE22 = 'kepmag  '           / label for column 22                            \n",
       "TFORM22 = 'E       '           / format for column 22                           \n",
       "TUNIT22 = 'mag     '           / units for column 22                            \n",
       "TCOMM22 = 'Magnitude kepmag'                                                    \n",
       "TTYPE23 = 'angDist '           / label for column 23                            \n",
       "TFORM23 = 'D       '           / format for column 23                           \n",
       "TUNIT23 = 'arcsec  '           / units for column 23                            \n",
       "TCOMM23 = 'Xmatch distance in arcseconds'                                       \n",
       "DATE-HDU= '2021-07-01T18:26:04' / Date of HDU creation (UTC)                    \n",
       "STILVERS= '4.0     '           / Version of STIL software                       \n",
       "STILCLAS= 'uk.ac.starlink.fits.FitsTableWriter' / STIL Author class             \n",
       "CHECKSUM= 'kNPHlKO9kKOEkKO9'   / HDU checksum updated 2021-07-01T12:08:23       \n",
       "DATASUM = '345296140'          / data unit checksum updated 2021-07-01T12:08:23 "
      ]
     },
     "execution_count": 100,
     "metadata": {},
     "output_type": "execute_result"
    }
   ],
   "source": [
    "hdu[1].header"
   ]
  },
  {
   "cell_type": "code",
   "execution_count": 101,
   "metadata": {},
   "outputs": [],
   "source": [
    "hdu.writeto(\"../../EXBA_LCFs/data/hlsp_kbonus-apexba_kepler_v1.0_cat.fits\", overwrite=True, checksum=True)"
   ]
  },
  {
   "cell_type": "code",
   "execution_count": null,
   "metadata": {},
   "outputs": [],
   "source": []
  }
 ],
 "metadata": {
  "kernelspec": {
   "display_name": "adap",
   "language": "python",
   "name": "adap"
  },
  "language_info": {
   "codemirror_mode": {
    "name": "ipython",
    "version": 3
   },
   "file_extension": ".py",
   "mimetype": "text/x-python",
   "name": "python",
   "nbconvert_exporter": "python",
   "pygments_lexer": "ipython3",
   "version": "3.8.6"
  }
 },
 "nbformat": 4,
 "nbformat_minor": 4
}
