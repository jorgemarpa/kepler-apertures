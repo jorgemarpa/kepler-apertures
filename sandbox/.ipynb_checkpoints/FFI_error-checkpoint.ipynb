{
 "cells": [
  {
   "cell_type": "code",
   "execution_count": 1,
   "metadata": {},
   "outputs": [],
   "source": [
    "import os\n",
    "import sys\n",
    "import glob\n",
    "import numpy as np\n",
    "import matplotlib.pyplot as plt\n",
    "\n",
    "from kepler_apertures import KeplerFFI"
   ]
  },
  {
   "cell_type": "code",
   "execution_count": 12,
   "metadata": {},
   "outputs": [],
   "source": [
    "fits_file = \"kplr2011271191331\"\n",
    "ch = 71"
   ]
  },
  {
   "cell_type": "code",
   "execution_count": 13,
   "metadata": {},
   "outputs": [
    {
     "name": "stdout",
     "output_type": "stream",
     "text": [
      "Loading query from file...\n",
      "/Users/jorgemarpa/Work/BAERI/ADAP/kepler-apertures/data/catalogs/ffi/55832.78062804/channel_71_gaia_xmatch.csv\n",
      "Cleaning sources table...\n",
      "Saturated pixels 4318: \n",
      "Bright pixels 82953: \n",
      "Total Gaia sources 12970: \n"
     ]
    }
   ],
   "source": [
    "psf = KeplerFFI(\n",
    "        ffi_name=fits_file,\n",
    "        channel=ch,\n",
    "        plot=False,\n",
    "        save=False,\n",
    "        quarter=None,\n",
    "    )"
   ]
  },
  {
   "cell_type": "code",
   "execution_count": 14,
   "metadata": {},
   "outputs": [
    {
     "data": {
      "application/vnd.jupyter.widget-view+json": {
       "model_id": "2e5f025eeda34a0797f005d331051fd4",
       "version_major": 2,
       "version_minor": 0
      },
      "text/plain": [
       "Gaia sources:   0%|          | 0/12970 [00:00<?, ?it/s]"
      ]
     },
     "metadata": {},
     "output_type": "display_data"
    },
    {
     "name": "stdout",
     "output_type": "stream",
     "text": [
      "to polar coordinates...\n",
      "Computing PSF edges...\n"
     ]
    }
   ],
   "source": [
    "psf._create_sparse()\n",
    "print(\"Computing PSF edges...\")\n",
    "radius = psf._get_source_mask(\n",
    "    upper_radius_limit=5,\n",
    "    lower_radius_limit=1.1,\n",
    "    flux_cut_off=50,\n",
    "    dm_type=\"rf-quadratic\",\n",
    ")\n",
    "psf._get_uncontaminated_source_mask()"
   ]
  },
  {
   "cell_type": "code",
   "execution_count": 27,
   "metadata": {},
   "outputs": [
    {
     "name": "stdout",
     "output_type": "stream",
     "text": [
      "Computing PSF model...\n",
      "(96534, 136)\n",
      "(136,)\n",
      "(96534, 136) (136,)\n",
      "(93811, 136) (136,)\n",
      "Total number of pixels data used for model fitting:  (93811,)\n"
     ]
    }
   ],
   "source": [
    "print(\"Computing PSF model...\")\n",
    "psf.save = False\n",
    "psf_model = psf._build_prf_shape(\n",
    "    n_r_knots=5,\n",
    "    n_phi_knots=15,\n",
    "    flux_cut_off=1,\n",
    ")"
   ]
  },
  {
   "cell_type": "code",
   "execution_count": null,
   "metadata": {},
   "outputs": [],
   "source": [
    "print(\"Mean model sparse shape: \", psf.mean_model.shape)\n",
    "print(\"Doing PSF photometry...\")\n",
    "if args.fits_file != \"\":\n",
    "    psf.fit_model()\n",
    "    psf.save_catalog()"
   ]
  },
  {
   "cell_type": "code",
   "execution_count": null,
   "metadata": {},
   "outputs": [],
   "source": [
    "np.minimum(psf)"
   ]
  }
 ],
 "metadata": {
  "kernelspec": {
   "display_name": "adap",
   "language": "python",
   "name": "adap"
  },
  "language_info": {
   "codemirror_mode": {
    "name": "ipython",
    "version": 3
   },
   "file_extension": ".py",
   "mimetype": "text/x-python",
   "name": "python",
   "nbconvert_exporter": "python",
   "pygments_lexer": "ipython3",
   "version": "3.8.6"
  }
 },
 "nbformat": 4,
 "nbformat_minor": 4
}
