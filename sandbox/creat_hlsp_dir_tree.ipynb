{
 "cells": [
  {
   "cell_type": "code",
   "execution_count": 45,
   "metadata": {},
   "outputs": [],
   "source": [
    "import os, glob, re\n",
    "import shutil\n",
    "import numpy as np\n",
    "import pandas as pd\n",
    "from astropy.table import Table\n",
    "from tqdm.auto import tqdm\n",
    "import matplotlib.pyplot as plt"
   ]
  },
  {
   "cell_type": "code",
   "execution_count": 3,
   "metadata": {},
   "outputs": [],
   "source": [
    "df = Table.read(\"../../EXBA_LCFs/data/hlsp_kbonus-apexba_kepler_kepler_source-list_kepler_v1.0_cat.fits\").to_pandas()"
   ]
  },
  {
   "cell_type": "code",
   "execution_count": 4,
   "metadata": {},
   "outputs": [
    {
     "data": {
      "text/html": [
       "<div>\n",
       "<style scoped>\n",
       "    .dataframe tbody tr th:only-of-type {\n",
       "        vertical-align: middle;\n",
       "    }\n",
       "\n",
       "    .dataframe tbody tr th {\n",
       "        vertical-align: top;\n",
       "    }\n",
       "\n",
       "    .dataframe thead th {\n",
       "        text-align: right;\n",
       "    }\n",
       "</style>\n",
       "<table border=\"1\" class=\"dataframe\">\n",
       "  <thead>\n",
       "    <tr style=\"text-align: right;\">\n",
       "      <th></th>\n",
       "      <th>Gaia_ID</th>\n",
       "      <th>ra</th>\n",
       "      <th>ra_error</th>\n",
       "      <th>dec</th>\n",
       "      <th>dec_error</th>\n",
       "      <th>pmra</th>\n",
       "      <th>pmdec</th>\n",
       "      <th>parallax</th>\n",
       "      <th>parallax_error</th>\n",
       "      <th>phot_g_mean_mag</th>\n",
       "      <th>...</th>\n",
       "      <th>umag</th>\n",
       "      <th>gmag</th>\n",
       "      <th>rmag</th>\n",
       "      <th>imag</th>\n",
       "      <th>zmag</th>\n",
       "      <th>Jmag</th>\n",
       "      <th>Hmag</th>\n",
       "      <th>Kmag</th>\n",
       "      <th>kepmag</th>\n",
       "      <th>angDist</th>\n",
       "    </tr>\n",
       "  </thead>\n",
       "  <tbody>\n",
       "    <tr>\n",
       "      <th>0</th>\n",
       "      <td>b'Gaia EDR3 2105384211065299328'</td>\n",
       "      <td>282.026014</td>\n",
       "      <td>0.190857</td>\n",
       "      <td>44.253779</td>\n",
       "      <td>0.223919</td>\n",
       "      <td>-19.973063</td>\n",
       "      <td>-18.944105</td>\n",
       "      <td>0.589230</td>\n",
       "      <td>0.221065</td>\n",
       "      <td>19.495558</td>\n",
       "      <td>...</td>\n",
       "      <td>NaN</td>\n",
       "      <td>NaN</td>\n",
       "      <td>19.629999</td>\n",
       "      <td>18.360001</td>\n",
       "      <td>NaN</td>\n",
       "      <td>NaN</td>\n",
       "      <td>NaN</td>\n",
       "      <td>NaN</td>\n",
       "      <td>19.629999</td>\n",
       "      <td>0.456638</td>\n",
       "    </tr>\n",
       "    <tr>\n",
       "      <th>1</th>\n",
       "      <td>b'Gaia EDR3 2105384241127278208'</td>\n",
       "      <td>282.006752</td>\n",
       "      <td>0.132529</td>\n",
       "      <td>44.253545</td>\n",
       "      <td>0.153231</td>\n",
       "      <td>-1.771941</td>\n",
       "      <td>-2.529980</td>\n",
       "      <td>0.150096</td>\n",
       "      <td>0.155027</td>\n",
       "      <td>19.065722</td>\n",
       "      <td>...</td>\n",
       "      <td>NaN</td>\n",
       "      <td>19.868999</td>\n",
       "      <td>19.221001</td>\n",
       "      <td>18.988001</td>\n",
       "      <td>NaN</td>\n",
       "      <td>NaN</td>\n",
       "      <td>NaN</td>\n",
       "      <td>NaN</td>\n",
       "      <td>19.254000</td>\n",
       "      <td>0.326691</td>\n",
       "    </tr>\n",
       "    <tr>\n",
       "      <th>2</th>\n",
       "      <td>b'Gaia EDR3 2105384245425035392'</td>\n",
       "      <td>282.014153</td>\n",
       "      <td>0.058103</td>\n",
       "      <td>44.253572</td>\n",
       "      <td>0.065566</td>\n",
       "      <td>-1.188432</td>\n",
       "      <td>-1.331190</td>\n",
       "      <td>0.649663</td>\n",
       "      <td>0.066387</td>\n",
       "      <td>17.685090</td>\n",
       "      <td>...</td>\n",
       "      <td>NaN</td>\n",
       "      <td>18.594999</td>\n",
       "      <td>17.742001</td>\n",
       "      <td>17.417999</td>\n",
       "      <td>NaN</td>\n",
       "      <td>15.890</td>\n",
       "      <td>15.292</td>\n",
       "      <td>15.129</td>\n",
       "      <td>17.771999</td>\n",
       "      <td>0.285838</td>\n",
       "    </tr>\n",
       "    <tr>\n",
       "      <th>3</th>\n",
       "      <td>b'Gaia EDR3 2105384245425036032'</td>\n",
       "      <td>282.011585</td>\n",
       "      <td>0.046780</td>\n",
       "      <td>44.256934</td>\n",
       "      <td>0.052581</td>\n",
       "      <td>-0.148561</td>\n",
       "      <td>2.350119</td>\n",
       "      <td>0.418869</td>\n",
       "      <td>0.052441</td>\n",
       "      <td>17.299631</td>\n",
       "      <td>...</td>\n",
       "      <td>NaN</td>\n",
       "      <td>17.952000</td>\n",
       "      <td>17.243999</td>\n",
       "      <td>17.068001</td>\n",
       "      <td>17.049</td>\n",
       "      <td>15.903</td>\n",
       "      <td>15.364</td>\n",
       "      <td>15.289</td>\n",
       "      <td>17.333000</td>\n",
       "      <td>0.065174</td>\n",
       "    </tr>\n",
       "    <tr>\n",
       "      <th>4</th>\n",
       "      <td>b'Gaia EDR3 2105384275487021696'</td>\n",
       "      <td>282.017593</td>\n",
       "      <td>0.112678</td>\n",
       "      <td>44.257041</td>\n",
       "      <td>0.131294</td>\n",
       "      <td>-3.580035</td>\n",
       "      <td>-7.079613</td>\n",
       "      <td>0.074377</td>\n",
       "      <td>0.129395</td>\n",
       "      <td>18.775005</td>\n",
       "      <td>...</td>\n",
       "      <td>NaN</td>\n",
       "      <td>19.363001</td>\n",
       "      <td>18.906000</td>\n",
       "      <td>18.764999</td>\n",
       "      <td>NaN</td>\n",
       "      <td>NaN</td>\n",
       "      <td>NaN</td>\n",
       "      <td>NaN</td>\n",
       "      <td>18.947001</td>\n",
       "      <td>0.376572</td>\n",
       "    </tr>\n",
       "    <tr>\n",
       "      <th>...</th>\n",
       "      <td>...</td>\n",
       "      <td>...</td>\n",
       "      <td>...</td>\n",
       "      <td>...</td>\n",
       "      <td>...</td>\n",
       "      <td>...</td>\n",
       "      <td>...</td>\n",
       "      <td>...</td>\n",
       "      <td>...</td>\n",
       "      <td>...</td>\n",
       "      <td>...</td>\n",
       "      <td>...</td>\n",
       "      <td>...</td>\n",
       "      <td>...</td>\n",
       "      <td>...</td>\n",
       "      <td>...</td>\n",
       "      <td>...</td>\n",
       "      <td>...</td>\n",
       "      <td>...</td>\n",
       "      <td>...</td>\n",
       "      <td>...</td>\n",
       "    </tr>\n",
       "    <tr>\n",
       "      <th>9322</th>\n",
       "      <td>b'Gaia EDR3 2086539951857563136'</td>\n",
       "      <td>298.064847</td>\n",
       "      <td>0.352570</td>\n",
       "      <td>48.204598</td>\n",
       "      <td>0.475988</td>\n",
       "      <td>-1.418608</td>\n",
       "      <td>-6.318064</td>\n",
       "      <td>0.542188</td>\n",
       "      <td>0.458016</td>\n",
       "      <td>20.171392</td>\n",
       "      <td>...</td>\n",
       "      <td>NaN</td>\n",
       "      <td>21.274000</td>\n",
       "      <td>20.294001</td>\n",
       "      <td>19.855000</td>\n",
       "      <td>NaN</td>\n",
       "      <td>NaN</td>\n",
       "      <td>NaN</td>\n",
       "      <td>NaN</td>\n",
       "      <td>20.283001</td>\n",
       "      <td>0.491628</td>\n",
       "    </tr>\n",
       "    <tr>\n",
       "      <th>9323</th>\n",
       "      <td>b'Gaia EDR3 2129526011778662272'</td>\n",
       "      <td>290.697294</td>\n",
       "      <td>0.135908</td>\n",
       "      <td>48.615814</td>\n",
       "      <td>0.133261</td>\n",
       "      <td>-3.101519</td>\n",
       "      <td>-4.253412</td>\n",
       "      <td>0.115126</td>\n",
       "      <td>0.141861</td>\n",
       "      <td>18.787304</td>\n",
       "      <td>...</td>\n",
       "      <td>NaN</td>\n",
       "      <td>19.183001</td>\n",
       "      <td>18.629999</td>\n",
       "      <td>18.422001</td>\n",
       "      <td>NaN</td>\n",
       "      <td>NaN</td>\n",
       "      <td>NaN</td>\n",
       "      <td>NaN</td>\n",
       "      <td>18.660999</td>\n",
       "      <td>0.220906</td>\n",
       "    </tr>\n",
       "    <tr>\n",
       "      <th>9324</th>\n",
       "      <td>b'Gaia EDR3 2143714973114706560'</td>\n",
       "      <td>282.740530</td>\n",
       "      <td>0.021523</td>\n",
       "      <td>48.262489</td>\n",
       "      <td>0.022695</td>\n",
       "      <td>-3.188320</td>\n",
       "      <td>-5.866775</td>\n",
       "      <td>0.588440</td>\n",
       "      <td>0.023253</td>\n",
       "      <td>15.417315</td>\n",
       "      <td>...</td>\n",
       "      <td>NaN</td>\n",
       "      <td>15.645000</td>\n",
       "      <td>15.162000</td>\n",
       "      <td>15.031000</td>\n",
       "      <td>NaN</td>\n",
       "      <td>14.322</td>\n",
       "      <td>14.068</td>\n",
       "      <td>14.005</td>\n",
       "      <td>15.216000</td>\n",
       "      <td>0.136016</td>\n",
       "    </tr>\n",
       "    <tr>\n",
       "      <th>9325</th>\n",
       "      <td>b'Gaia EDR3 2076208704382822912'</td>\n",
       "      <td>295.766628</td>\n",
       "      <td>0.121251</td>\n",
       "      <td>39.445539</td>\n",
       "      <td>0.120965</td>\n",
       "      <td>-5.705135</td>\n",
       "      <td>-8.953973</td>\n",
       "      <td>0.692738</td>\n",
       "      <td>0.141725</td>\n",
       "      <td>18.638466</td>\n",
       "      <td>...</td>\n",
       "      <td>NaN</td>\n",
       "      <td>NaN</td>\n",
       "      <td>NaN</td>\n",
       "      <td>NaN</td>\n",
       "      <td>NaN</td>\n",
       "      <td>NaN</td>\n",
       "      <td>NaN</td>\n",
       "      <td>NaN</td>\n",
       "      <td>NaN</td>\n",
       "      <td>NaN</td>\n",
       "    </tr>\n",
       "    <tr>\n",
       "      <th>9326</th>\n",
       "      <td>b'Gaia EDR3 2082091710075415424'</td>\n",
       "      <td>300.724152</td>\n",
       "      <td>0.099352</td>\n",
       "      <td>44.614329</td>\n",
       "      <td>0.108093</td>\n",
       "      <td>-2.552809</td>\n",
       "      <td>-1.654995</td>\n",
       "      <td>0.239770</td>\n",
       "      <td>0.113883</td>\n",
       "      <td>18.259747</td>\n",
       "      <td>...</td>\n",
       "      <td>NaN</td>\n",
       "      <td>18.264999</td>\n",
       "      <td>NaN</td>\n",
       "      <td>17.152000</td>\n",
       "      <td>16.889</td>\n",
       "      <td>15.848</td>\n",
       "      <td>15.340</td>\n",
       "      <td>15.064</td>\n",
       "      <td>18.264999</td>\n",
       "      <td>0.927771</td>\n",
       "    </tr>\n",
       "  </tbody>\n",
       "</table>\n",
       "<p>9327 rows × 23 columns</p>\n",
       "</div>"
      ],
      "text/plain": [
       "                               Gaia_ID          ra  ra_error        dec  \\\n",
       "0     b'Gaia EDR3 2105384211065299328'  282.026014  0.190857  44.253779   \n",
       "1     b'Gaia EDR3 2105384241127278208'  282.006752  0.132529  44.253545   \n",
       "2     b'Gaia EDR3 2105384245425035392'  282.014153  0.058103  44.253572   \n",
       "3     b'Gaia EDR3 2105384245425036032'  282.011585  0.046780  44.256934   \n",
       "4     b'Gaia EDR3 2105384275487021696'  282.017593  0.112678  44.257041   \n",
       "...                                ...         ...       ...        ...   \n",
       "9322  b'Gaia EDR3 2086539951857563136'  298.064847  0.352570  48.204598   \n",
       "9323  b'Gaia EDR3 2129526011778662272'  290.697294  0.135908  48.615814   \n",
       "9324  b'Gaia EDR3 2143714973114706560'  282.740530  0.021523  48.262489   \n",
       "9325  b'Gaia EDR3 2076208704382822912'  295.766628  0.121251  39.445539   \n",
       "9326  b'Gaia EDR3 2082091710075415424'  300.724152  0.099352  44.614329   \n",
       "\n",
       "      dec_error       pmra      pmdec  parallax  parallax_error  \\\n",
       "0      0.223919 -19.973063 -18.944105  0.589230        0.221065   \n",
       "1      0.153231  -1.771941  -2.529980  0.150096        0.155027   \n",
       "2      0.065566  -1.188432  -1.331190  0.649663        0.066387   \n",
       "3      0.052581  -0.148561   2.350119  0.418869        0.052441   \n",
       "4      0.131294  -3.580035  -7.079613  0.074377        0.129395   \n",
       "...         ...        ...        ...       ...             ...   \n",
       "9322   0.475988  -1.418608  -6.318064  0.542188        0.458016   \n",
       "9323   0.133261  -3.101519  -4.253412  0.115126        0.141861   \n",
       "9324   0.022695  -3.188320  -5.866775  0.588440        0.023253   \n",
       "9325   0.120965  -5.705135  -8.953973  0.692738        0.141725   \n",
       "9326   0.108093  -2.552809  -1.654995  0.239770        0.113883   \n",
       "\n",
       "      phot_g_mean_mag  ...  umag       gmag       rmag       imag    zmag  \\\n",
       "0           19.495558  ...   NaN        NaN  19.629999  18.360001     NaN   \n",
       "1           19.065722  ...   NaN  19.868999  19.221001  18.988001     NaN   \n",
       "2           17.685090  ...   NaN  18.594999  17.742001  17.417999     NaN   \n",
       "3           17.299631  ...   NaN  17.952000  17.243999  17.068001  17.049   \n",
       "4           18.775005  ...   NaN  19.363001  18.906000  18.764999     NaN   \n",
       "...               ...  ...   ...        ...        ...        ...     ...   \n",
       "9322        20.171392  ...   NaN  21.274000  20.294001  19.855000     NaN   \n",
       "9323        18.787304  ...   NaN  19.183001  18.629999  18.422001     NaN   \n",
       "9324        15.417315  ...   NaN  15.645000  15.162000  15.031000     NaN   \n",
       "9325        18.638466  ...   NaN        NaN        NaN        NaN     NaN   \n",
       "9326        18.259747  ...   NaN  18.264999        NaN  17.152000  16.889   \n",
       "\n",
       "        Jmag    Hmag    Kmag     kepmag   angDist  \n",
       "0        NaN     NaN     NaN  19.629999  0.456638  \n",
       "1        NaN     NaN     NaN  19.254000  0.326691  \n",
       "2     15.890  15.292  15.129  17.771999  0.285838  \n",
       "3     15.903  15.364  15.289  17.333000  0.065174  \n",
       "4        NaN     NaN     NaN  18.947001  0.376572  \n",
       "...      ...     ...     ...        ...       ...  \n",
       "9322     NaN     NaN     NaN  20.283001  0.491628  \n",
       "9323     NaN     NaN     NaN  18.660999  0.220906  \n",
       "9324  14.322  14.068  14.005  15.216000  0.136016  \n",
       "9325     NaN     NaN     NaN        NaN       NaN  \n",
       "9326  15.848  15.340  15.064  18.264999  0.927771  \n",
       "\n",
       "[9327 rows x 23 columns]"
      ]
     },
     "execution_count": 4,
     "metadata": {},
     "output_type": "execute_result"
    }
   ],
   "source": [
    "df"
   ]
  },
  {
   "cell_type": "code",
   "execution_count": 7,
   "metadata": {},
   "outputs": [],
   "source": [
    "ids = np.array([x.decode(\"utf8\").split(\" \")[-1] for x in df.Gaia_ID.values])"
   ]
  },
  {
   "cell_type": "markdown",
   "metadata": {},
   "source": [
    "# Test how many digits for first directory level"
   ]
  },
  {
   "cell_type": "code",
   "execution_count": 40,
   "metadata": {},
   "outputs": [
    {
     "name": "stdout",
     "output_type": "stream",
     "text": [
      "4 : 36\n",
      "45.0 665.0\n",
      "5 : 106\n",
      "3.0 466.0\n",
      "6 : 151\n",
      "1.0 263.0\n"
     ]
    }
   ],
   "source": [
    "ndigits = [4,5,6]\n",
    "\n",
    "for nd in ndigits:\n",
    "    dir_names = list(set([x[:nd] for x in ids]))\n",
    "    print(nd, \":\", len(dir_names))\n",
    "    hm_in_dir = np.zeros(len(dir_names))\n",
    "    for k, pf in enumerate(dir_names):\n",
    "        hm_in_dir[k] = np.sum([id.startswith(pf) for id in ids])\n",
    "    print(hm_in_dir.min(), hm_in_dir.max())\n",
    "    # plt.figure(figsize=(4,9))\n",
    "    # plt.hist(hm_in_dir)\n",
    "    # plt.show()\n",
    "    # break"
   ]
  },
  {
   "cell_type": "code",
   "execution_count": 35,
   "metadata": {},
   "outputs": [
    {
     "data": {
      "text/plain": [
       "(array([ 5,  6,  7,  8,  9, 10, 11, 12, 13, 14, 15, 16, 17]),\n",
       " array([ 1,  2,  3,  4,  9, 10, 11, 12, 13, 14, 15, 16, 17, 18, 19, 20, 21,\n",
       "        22, 23, 24, 25, 26, 27, 28, 29, 30, 31, 32, 33, 34, 35, 36, 37, 38,\n",
       "        39, 40, 41, 42, 43, 44, 45, 46, 47, 48, 49, 50, 51, 52, 53, 54, 55,\n",
       "        56, 57, 58, 59, 60, 61, 62, 63, 64, 65, 66, 67, 68, 69, 70, 71, 72,\n",
       "        73, 74, 75, 76, 77, 78, 79, 80, 81, 82, 83, 84]))"
      ]
     },
     "execution_count": 35,
     "metadata": {},
     "output_type": "execute_result"
    }
   ],
   "source": [
    "quarters = np.arange(5, 18)\n",
    "channels = np.delete(np.arange(1, 85, 1), [4,5,6,7])\n",
    "quarters, channels"
   ]
  },
  {
   "cell_type": "markdown",
   "metadata": {},
   "source": [
    "# Count files in Q/Ch archive"
   ]
  },
  {
   "cell_type": "code",
   "execution_count": 96,
   "metadata": {},
   "outputs": [
    {
     "data": {
      "application/vnd.jupyter.widget-view+json": {
       "model_id": "15e30713faa54611999a242be48d1b58",
       "version_major": 2,
       "version_minor": 0
      },
      "text/plain": [
       "  0%|          | 0/13 [00:00<?, ?it/s]"
      ]
     },
     "metadata": {},
     "output_type": "display_data"
    },
    {
     "data": {
      "application/vnd.jupyter.widget-view+json": {
       "model_id": "",
       "version_major": 2,
       "version_minor": 0
      },
      "text/plain": [
       "  0%|          | 0/80 [00:00<?, ?it/s]"
      ]
     },
     "metadata": {},
     "output_type": "display_data"
    },
    {
     "data": {
      "application/vnd.jupyter.widget-view+json": {
       "model_id": "",
       "version_major": 2,
       "version_minor": 0
      },
      "text/plain": [
       "  0%|          | 0/80 [00:00<?, ?it/s]"
      ]
     },
     "metadata": {},
     "output_type": "display_data"
    },
    {
     "data": {
      "application/vnd.jupyter.widget-view+json": {
       "model_id": "",
       "version_major": 2,
       "version_minor": 0
      },
      "text/plain": [
       "  0%|          | 0/80 [00:00<?, ?it/s]"
      ]
     },
     "metadata": {},
     "output_type": "display_data"
    },
    {
     "data": {
      "application/vnd.jupyter.widget-view+json": {
       "model_id": "",
       "version_major": 2,
       "version_minor": 0
      },
      "text/plain": [
       "  0%|          | 0/80 [00:00<?, ?it/s]"
      ]
     },
     "metadata": {},
     "output_type": "display_data"
    },
    {
     "data": {
      "application/vnd.jupyter.widget-view+json": {
       "model_id": "",
       "version_major": 2,
       "version_minor": 0
      },
      "text/plain": [
       "  0%|          | 0/80 [00:00<?, ?it/s]"
      ]
     },
     "metadata": {},
     "output_type": "display_data"
    },
    {
     "data": {
      "application/vnd.jupyter.widget-view+json": {
       "model_id": "",
       "version_major": 2,
       "version_minor": 0
      },
      "text/plain": [
       "  0%|          | 0/80 [00:00<?, ?it/s]"
      ]
     },
     "metadata": {},
     "output_type": "display_data"
    },
    {
     "data": {
      "application/vnd.jupyter.widget-view+json": {
       "model_id": "",
       "version_major": 2,
       "version_minor": 0
      },
      "text/plain": [
       "  0%|          | 0/80 [00:00<?, ?it/s]"
      ]
     },
     "metadata": {},
     "output_type": "display_data"
    },
    {
     "data": {
      "application/vnd.jupyter.widget-view+json": {
       "model_id": "",
       "version_major": 2,
       "version_minor": 0
      },
      "text/plain": [
       "  0%|          | 0/80 [00:00<?, ?it/s]"
      ]
     },
     "metadata": {},
     "output_type": "display_data"
    },
    {
     "data": {
      "application/vnd.jupyter.widget-view+json": {
       "model_id": "",
       "version_major": 2,
       "version_minor": 0
      },
      "text/plain": [
       "  0%|          | 0/80 [00:00<?, ?it/s]"
      ]
     },
     "metadata": {},
     "output_type": "display_data"
    },
    {
     "data": {
      "application/vnd.jupyter.widget-view+json": {
       "model_id": "",
       "version_major": 2,
       "version_minor": 0
      },
      "text/plain": [
       "  0%|          | 0/80 [00:00<?, ?it/s]"
      ]
     },
     "metadata": {},
     "output_type": "display_data"
    },
    {
     "data": {
      "application/vnd.jupyter.widget-view+json": {
       "model_id": "",
       "version_major": 2,
       "version_minor": 0
      },
      "text/plain": [
       "  0%|          | 0/80 [00:00<?, ?it/s]"
      ]
     },
     "metadata": {},
     "output_type": "display_data"
    },
    {
     "data": {
      "application/vnd.jupyter.widget-view+json": {
       "model_id": "",
       "version_major": 2,
       "version_minor": 0
      },
      "text/plain": [
       "  0%|          | 0/80 [00:00<?, ?it/s]"
      ]
     },
     "metadata": {},
     "output_type": "display_data"
    },
    {
     "data": {
      "application/vnd.jupyter.widget-view+json": {
       "model_id": "",
       "version_major": 2,
       "version_minor": 0
      },
      "text/plain": [
       "  0%|          | 0/80 [00:00<?, ?it/s]"
      ]
     },
     "metadata": {},
     "output_type": "display_data"
    },
    {
     "data": {
      "text/plain": [
       "90224"
      ]
     },
     "execution_count": 96,
     "metadata": {},
     "output_type": "execute_result"
    }
   ],
   "source": [
    "fcounter = 0\n",
    "for q in tqdm(quarters):\n",
    "    for ch in tqdm(channels, leave=False):\n",
    "        in_dir = \"../../EXBA_LCFs/data/q%02i/ch%02i\" % (q, ch)\n",
    "        files = glob.glob(\"%s/hlsp_kbonus-apexba_kepler_kepler_gaia-edr3-*-q%02i_kepler_v1.0_lc.fits*\" % (in_dir, q))\n",
    "        # if q == 17:\n",
    "        fcounter += len(files)\n",
    "fcounter"
   ]
  },
  {
   "cell_type": "markdown",
   "metadata": {},
   "source": [
    "# Move sup files"
   ]
  },
  {
   "cell_type": "code",
   "execution_count": 88,
   "metadata": {},
   "outputs": [
    {
     "data": {
      "text/plain": [
       "array([17])"
      ]
     },
     "execution_count": 88,
     "metadata": {},
     "output_type": "execute_result"
    }
   ],
   "source": [
    "quarters[-1:]"
   ]
  },
  {
   "cell_type": "code",
   "execution_count": 101,
   "metadata": {},
   "outputs": [
    {
     "data": {
      "application/vnd.jupyter.widget-view+json": {
       "model_id": "a8e1ef3bb4ba4190a34e328f3bd72555",
       "version_major": 2,
       "version_minor": 0
      },
      "text/plain": [
       "  0%|          | 0/13 [00:00<?, ?it/s]"
      ]
     },
     "metadata": {},
     "output_type": "display_data"
    },
    {
     "data": {
      "application/vnd.jupyter.widget-view+json": {
       "model_id": "565e3cbbf1734e8abc3a62d3947f2e2f",
       "version_major": 2,
       "version_minor": 0
      },
      "text/plain": [
       "  0%|          | 0/80 [00:00<?, ?it/s]"
      ]
     },
     "metadata": {},
     "output_type": "display_data"
    },
    {
     "data": {
      "application/vnd.jupyter.widget-view+json": {
       "model_id": "c2f40a27707240719dd7ab4f042545fe",
       "version_major": 2,
       "version_minor": 0
      },
      "text/plain": [
       "  0%|          | 0/80 [00:00<?, ?it/s]"
      ]
     },
     "metadata": {},
     "output_type": "display_data"
    },
    {
     "data": {
      "application/vnd.jupyter.widget-view+json": {
       "model_id": "e09ff4fc6ff448c1b5d363efb9dee724",
       "version_major": 2,
       "version_minor": 0
      },
      "text/plain": [
       "  0%|          | 0/80 [00:00<?, ?it/s]"
      ]
     },
     "metadata": {},
     "output_type": "display_data"
    },
    {
     "data": {
      "application/vnd.jupyter.widget-view+json": {
       "model_id": "6b31a62860fb40eab6b4c69da604e4bf",
       "version_major": 2,
       "version_minor": 0
      },
      "text/plain": [
       "  0%|          | 0/80 [00:00<?, ?it/s]"
      ]
     },
     "metadata": {},
     "output_type": "display_data"
    },
    {
     "data": {
      "application/vnd.jupyter.widget-view+json": {
       "model_id": "b3aaea6a5c4a4fdcaa6dc14e6864555d",
       "version_major": 2,
       "version_minor": 0
      },
      "text/plain": [
       "  0%|          | 0/80 [00:00<?, ?it/s]"
      ]
     },
     "metadata": {},
     "output_type": "display_data"
    },
    {
     "data": {
      "application/vnd.jupyter.widget-view+json": {
       "model_id": "b8860caff61847b5a201767d1467a3ec",
       "version_major": 2,
       "version_minor": 0
      },
      "text/plain": [
       "  0%|          | 0/80 [00:00<?, ?it/s]"
      ]
     },
     "metadata": {},
     "output_type": "display_data"
    },
    {
     "data": {
      "application/vnd.jupyter.widget-view+json": {
       "model_id": "22631f24e66345169462515b23997aa3",
       "version_major": 2,
       "version_minor": 0
      },
      "text/plain": [
       "  0%|          | 0/80 [00:00<?, ?it/s]"
      ]
     },
     "metadata": {},
     "output_type": "display_data"
    },
    {
     "data": {
      "application/vnd.jupyter.widget-view+json": {
       "model_id": "e1a34219365947dea9246aab1b1c9e5a",
       "version_major": 2,
       "version_minor": 0
      },
      "text/plain": [
       "  0%|          | 0/80 [00:00<?, ?it/s]"
      ]
     },
     "metadata": {},
     "output_type": "display_data"
    },
    {
     "data": {
      "application/vnd.jupyter.widget-view+json": {
       "model_id": "81ff41418faf4640816a8391f294c808",
       "version_major": 2,
       "version_minor": 0
      },
      "text/plain": [
       "  0%|          | 0/80 [00:00<?, ?it/s]"
      ]
     },
     "metadata": {},
     "output_type": "display_data"
    },
    {
     "data": {
      "application/vnd.jupyter.widget-view+json": {
       "model_id": "5c4c25fc0f7e455a8840a3833e8194a3",
       "version_major": 2,
       "version_minor": 0
      },
      "text/plain": [
       "  0%|          | 0/80 [00:00<?, ?it/s]"
      ]
     },
     "metadata": {},
     "output_type": "display_data"
    },
    {
     "data": {
      "application/vnd.jupyter.widget-view+json": {
       "model_id": "ef06bf96c0544afcac71f24ed398c94d",
       "version_major": 2,
       "version_minor": 0
      },
      "text/plain": [
       "  0%|          | 0/80 [00:00<?, ?it/s]"
      ]
     },
     "metadata": {},
     "output_type": "display_data"
    },
    {
     "data": {
      "application/vnd.jupyter.widget-view+json": {
       "model_id": "ad898c1fbc384d9f818b9db676914153",
       "version_major": 2,
       "version_minor": 0
      },
      "text/plain": [
       "  0%|          | 0/80 [00:00<?, ?it/s]"
      ]
     },
     "metadata": {},
     "output_type": "display_data"
    },
    {
     "data": {
      "application/vnd.jupyter.widget-view+json": {
       "model_id": "685b01b5988146009fe6d2db1e58ad01",
       "version_major": 2,
       "version_minor": 0
      },
      "text/plain": [
       "  0%|          | 0/80 [00:00<?, ?it/s]"
      ]
     },
     "metadata": {},
     "output_type": "display_data"
    }
   ],
   "source": [
    "for q in tqdm(quarters):\n",
    "    for ch in tqdm(channels):\n",
    "        in_dir = \"../../EXBA_LCFs/data_old_arxive/q%02i/ch%02i\" % (q, ch)\n",
    "        in_file = glob.glob(\"%s/hlsp_kbonus-apexba_kepler_kepler_exba-mask-ch%02i-q%02i_kepler_v1.0_sup.fits\" % (in_dir, ch, q))[0]\n",
    "        \n",
    "        out_dir = \"../../EXBA_LCFs/data/ch%02i\" % (ch)\n",
    "        if not os.path.isdir(out_dir):\n",
    "            os.makedirs(out_dir)\n",
    "        out_file = \"%s/%s\" % (out_dir, os.path.basename(in_file))\n",
    "        # print(in_file, \" --> \", out_file)\n",
    "        shutil.copy2(in_file, out_file)"
   ]
  },
  {
   "cell_type": "markdown",
   "metadata": {},
   "source": [
    "# Move LCFs"
   ]
  },
  {
   "cell_type": "code",
   "execution_count": 99,
   "metadata": {},
   "outputs": [
    {
     "data": {
      "application/vnd.jupyter.widget-view+json": {
       "model_id": "c371a225f83b4d269180c48774659edc",
       "version_major": 2,
       "version_minor": 0
      },
      "text/plain": [
       "  0%|          | 0/13 [00:00<?, ?it/s]"
      ]
     },
     "metadata": {},
     "output_type": "display_data"
    },
    {
     "data": {
      "application/vnd.jupyter.widget-view+json": {
       "model_id": "5ec089b6bdd74c05818df17ed49c450c",
       "version_major": 2,
       "version_minor": 0
      },
      "text/plain": [
       "  0%|          | 0/80 [00:00<?, ?it/s]"
      ]
     },
     "metadata": {},
     "output_type": "display_data"
    },
    {
     "data": {
      "application/vnd.jupyter.widget-view+json": {
       "model_id": "54f273d7be7b412683c99d97902f2414",
       "version_major": 2,
       "version_minor": 0
      },
      "text/plain": [
       "  0%|          | 0/80 [00:00<?, ?it/s]"
      ]
     },
     "metadata": {},
     "output_type": "display_data"
    },
    {
     "data": {
      "application/vnd.jupyter.widget-view+json": {
       "model_id": "b00d712df5a549af929620f347ddea79",
       "version_major": 2,
       "version_minor": 0
      },
      "text/plain": [
       "  0%|          | 0/80 [00:00<?, ?it/s]"
      ]
     },
     "metadata": {},
     "output_type": "display_data"
    },
    {
     "data": {
      "application/vnd.jupyter.widget-view+json": {
       "model_id": "579c2cea2f4443da88d5cd8fe6c45a92",
       "version_major": 2,
       "version_minor": 0
      },
      "text/plain": [
       "  0%|          | 0/80 [00:00<?, ?it/s]"
      ]
     },
     "metadata": {},
     "output_type": "display_data"
    },
    {
     "data": {
      "application/vnd.jupyter.widget-view+json": {
       "model_id": "97961d42a7034d609879aefc95c48a4f",
       "version_major": 2,
       "version_minor": 0
      },
      "text/plain": [
       "  0%|          | 0/80 [00:00<?, ?it/s]"
      ]
     },
     "metadata": {},
     "output_type": "display_data"
    },
    {
     "data": {
      "application/vnd.jupyter.widget-view+json": {
       "model_id": "dcc765bcb6b54383bdf5a1d176e16bfe",
       "version_major": 2,
       "version_minor": 0
      },
      "text/plain": [
       "  0%|          | 0/80 [00:00<?, ?it/s]"
      ]
     },
     "metadata": {},
     "output_type": "display_data"
    },
    {
     "data": {
      "application/vnd.jupyter.widget-view+json": {
       "model_id": "1e840e0441af41608c56b65267b78360",
       "version_major": 2,
       "version_minor": 0
      },
      "text/plain": [
       "  0%|          | 0/80 [00:00<?, ?it/s]"
      ]
     },
     "metadata": {},
     "output_type": "display_data"
    },
    {
     "data": {
      "application/vnd.jupyter.widget-view+json": {
       "model_id": "b22a235da87a4b1394011c34676f94dc",
       "version_major": 2,
       "version_minor": 0
      },
      "text/plain": [
       "  0%|          | 0/80 [00:00<?, ?it/s]"
      ]
     },
     "metadata": {},
     "output_type": "display_data"
    },
    {
     "data": {
      "application/vnd.jupyter.widget-view+json": {
       "model_id": "df87f47b1ec846afac78e2af6131b638",
       "version_major": 2,
       "version_minor": 0
      },
      "text/plain": [
       "  0%|          | 0/80 [00:00<?, ?it/s]"
      ]
     },
     "metadata": {},
     "output_type": "display_data"
    },
    {
     "data": {
      "application/vnd.jupyter.widget-view+json": {
       "model_id": "da13a9a06314445b9bbdb459877baba8",
       "version_major": 2,
       "version_minor": 0
      },
      "text/plain": [
       "  0%|          | 0/80 [00:00<?, ?it/s]"
      ]
     },
     "metadata": {},
     "output_type": "display_data"
    },
    {
     "data": {
      "application/vnd.jupyter.widget-view+json": {
       "model_id": "b22fee796cc14048875cecefc667262c",
       "version_major": 2,
       "version_minor": 0
      },
      "text/plain": [
       "  0%|          | 0/80 [00:00<?, ?it/s]"
      ]
     },
     "metadata": {},
     "output_type": "display_data"
    },
    {
     "data": {
      "application/vnd.jupyter.widget-view+json": {
       "model_id": "96d033e8a05546d6b81f3d37f6c60a0d",
       "version_major": 2,
       "version_minor": 0
      },
      "text/plain": [
       "  0%|          | 0/80 [00:00<?, ?it/s]"
      ]
     },
     "metadata": {},
     "output_type": "display_data"
    },
    {
     "data": {
      "application/vnd.jupyter.widget-view+json": {
       "model_id": "da4d94403f674d578b522034225db9d8",
       "version_major": 2,
       "version_minor": 0
      },
      "text/plain": [
       "  0%|          | 0/80 [00:00<?, ?it/s]"
      ]
     },
     "metadata": {},
     "output_type": "display_data"
    }
   ],
   "source": [
    "for q in tqdm(quarters):\n",
    "    for ch in tqdm(channels):\n",
    "        in_dir = \"../../EXBA_LCFs/data_old_arxive/q%02i/ch%02i\" % (q, ch)\n",
    "        files = glob.glob(\"%s/hlsp_kbonus-apexba_kepler_kepler_gaia-edr3-*-q%02i_kepler_v1.0_lc.fits\" % (in_dir, q))\n",
    "        for i, f in enumerate(files):\n",
    "            gid = f.split(\"-\")[-2]\n",
    "            out_dir = \"../../EXBA_LCFs/data/%s/%s\" % (gid[:6], gid)\n",
    "            if not os.path.isdir(out_dir):\n",
    "                os.makedirs(out_dir)\n",
    "            # print(f, \" --> \", \"%s/%s\" % (out_dir, os.path.basename(f)))\n",
    "            shutil.copy2(f, \"%s/%s\" % (out_dir, os.path.basename(f)))\n",
    "        # break\n",
    "    # break"
   ]
  },
  {
   "cell_type": "markdown",
   "metadata": {},
   "source": [
    "# Count files in HLSP archive"
   ]
  },
  {
   "cell_type": "code",
   "execution_count": 105,
   "metadata": {},
   "outputs": [],
   "source": [
    "def glob_re(pattern, strings):\n",
    "    return filter(re.compile(pattern).match, strings)"
   ]
  },
  {
   "cell_type": "code",
   "execution_count": 118,
   "metadata": {},
   "outputs": [
    {
     "data": {
      "application/vnd.jupyter.widget-view+json": {
       "model_id": "394ac43aaec14fe3a67c1b675d4969a7",
       "version_major": 2,
       "version_minor": 0
      },
      "text/plain": [
       "  0%|          | 0/151 [00:00<?, ?it/s]"
      ]
     },
     "metadata": {},
     "output_type": "display_data"
    },
    {
     "data": {
      "text/plain": [
       "90224"
      ]
     },
     "execution_count": 118,
     "metadata": {},
     "output_type": "execute_result"
    }
   ],
   "source": [
    "fcounter = 0\n",
    "first_level = glob.glob(\"../../EXBA_LCFs/data/2*\")\n",
    "for fl in tqdm(first_level):\n",
    "    second_level = glob.glob(\"%s/*\" % fl)\n",
    "\n",
    "    for sl in second_level:\n",
    "        files = glob.glob(\"%s/hlsp_kbonus-apexba_kepler_kepler_gaia-edr3-*-q*_kepler_v1.0_lc.fits\" % (sl))\n",
    "        # if q == 17:\n",
    "        fcounter += len(files)\n",
    "        \n",
    "    # break\n",
    "fcounter"
   ]
  },
  {
   "cell_type": "code",
   "execution_count": null,
   "metadata": {},
   "outputs": [],
   "source": []
  }
 ],
 "metadata": {
  "kernelspec": {
   "display_name": "adap",
   "language": "python",
   "name": "adap"
  },
  "language_info": {
   "codemirror_mode": {
    "name": "ipython",
    "version": 3
   },
   "file_extension": ".py",
   "mimetype": "text/x-python",
   "name": "python",
   "nbconvert_exporter": "python",
   "pygments_lexer": "ipython3",
   "version": "3.8.6"
  }
 },
 "nbformat": 4,
 "nbformat_minor": 4
}
