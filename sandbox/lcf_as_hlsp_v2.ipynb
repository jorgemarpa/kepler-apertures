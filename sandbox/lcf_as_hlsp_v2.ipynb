{
 "cells": [
  {
   "cell_type": "code",
   "execution_count": 1,
   "metadata": {},
   "outputs": [],
   "source": [
    "import os, glob\n",
    "import numpy as np\n",
    "import pandas as pd\n",
    "import lightkurve as lk\n",
    "from astropy.io import fits\n",
    "from astropy.table import Table\n",
    "from astropy.time import Time\n",
    "import astropy.units as u\n",
    "from tqdm.auto import tqdm"
   ]
  },
  {
   "cell_type": "code",
   "execution_count": 2,
   "metadata": {},
   "outputs": [],
   "source": [
    "import warnings\n",
    "warnings.filterwarnings(\"ignore\", category=u.UnitsWarning)\n",
    "warnings.filterwarnings(\"ignore\", category=fits.verify.VerifyWarning)"
   ]
  },
  {
   "cell_type": "code",
   "execution_count": 33,
   "metadata": {},
   "outputs": [],
   "source": [
    "project_name = \"kbonus-apexba\"\n",
    "\n",
    "ap_names = [0, 1, 2, 3, 4, 5, 6, 7]\n",
    "ap_percut = [\"op\", 0 , 15, 30, 45, 60, 75, 90]\n",
    "\n",
    "columns = [\n",
    "    \"TIME\",\n",
    "    \"CADENCENO\",\n",
    "    \"FLUX\",\n",
    "    \"FLUX1\",\n",
    "    \"FLUX2\",\n",
    "    \"FLUX3\",\n",
    "    \"FLUX4\",\n",
    "    \"FLUX5\",\n",
    "    \"FLUX6\",\n",
    "    \"FLUX7\",\n",
    "    \"FLUX_ERR\",\n",
    "    \"FLUX_ERR1\",\n",
    "    \"FLUX_ERR2\",\n",
    "    \"FLUX_ERR3\",\n",
    "    \"FLUX_ERR4\",\n",
    "    \"FLUX_ERR5\",\n",
    "    \"FLUX_ERR6\",\n",
    "    \"FLUX_ERR7\",\n",
    "    \"QUALITY\",\n",
    "    \"SAP_QUALITY\",\n",
    "]"
   ]
  },
  {
   "cell_type": "code",
   "execution_count": 3,
   "metadata": {},
   "outputs": [
    {
     "data": {
      "text/plain": [
       "(array([ 5,  6,  7,  8,  9, 10, 11, 12, 13, 14, 15, 16, 17]),\n",
       " array([ 1,  2,  3,  4,  9, 10, 11, 12, 13, 14, 15, 16, 17, 18, 19, 20, 21,\n",
       "        22, 23, 24, 25, 26, 27, 28, 29, 30, 31, 32, 33, 34, 35, 36, 37, 38,\n",
       "        39, 40, 41, 42, 43, 44, 45, 46, 47, 48, 49, 50, 51, 52, 53, 54, 55,\n",
       "        56, 57, 58, 59, 60, 61, 62, 63, 64, 65, 66, 67, 68, 69, 70, 71, 72,\n",
       "        73, 74, 75, 76, 77, 78, 79, 80, 81, 82, 83, 84]))"
      ]
     },
     "execution_count": 3,
     "metadata": {},
     "output_type": "execute_result"
    }
   ],
   "source": [
    "quarters = np.arange(5, 18)\n",
    "channels = np.delete(np.arange(1, 85, 1), [4,5,6,7])\n",
    "quarters, channels"
   ]
  },
  {
   "cell_type": "code",
   "execution_count": 4,
   "metadata": {},
   "outputs": [],
   "source": [
    "cat = Table.read(\"../../EXBA_LCFs/data/hlsp_kbonus-apexba_kepler_v1.0_cat.fits\")#.to_pandas().set_index(\"Gaia_designation\")"
   ]
  },
  {
   "cell_type": "code",
   "execution_count": 85,
   "metadata": {},
   "outputs": [
    {
     "data": {
      "text/latex": [
       "$\\mathrm{\\frac{e^{-}}{s}}$"
      ],
      "text/plain": [
       "Unit(\"electron / s\")"
      ]
     },
     "execution_count": 85,
     "metadata": {},
     "output_type": "execute_result"
    }
   ],
   "source": [
    "u.day"
   ]
  },
  {
   "cell_type": "markdown",
   "metadata": {},
   "source": [
    "# rebuild directory tree and LCs"
   ]
  },
  {
   "cell_type": "code",
   "execution_count": 108,
   "metadata": {},
   "outputs": [
    {
     "data": {
      "application/vnd.jupyter.widget-view+json": {
       "model_id": "5f9423058f8642d090dc8d5176814ab0",
       "version_major": 2,
       "version_minor": 0
      },
      "text/plain": [
       "  0%|          | 0/13 [00:00<?, ?it/s]"
      ]
     },
     "metadata": {},
     "output_type": "display_data"
    },
    {
     "data": {
      "application/vnd.jupyter.widget-view+json": {
       "model_id": "d1267ad862534a5daf29c11941a5acd1",
       "version_major": 2,
       "version_minor": 0
      },
      "text/plain": [
       "  0%|          | 0/80 [00:00<?, ?it/s]"
      ]
     },
     "metadata": {},
     "output_type": "display_data"
    },
    {
     "data": {
      "application/vnd.jupyter.widget-view+json": {
       "model_id": "",
       "version_major": 2,
       "version_minor": 0
      },
      "text/plain": [
       "  0%|          | 0/38 [00:00<?, ?it/s]"
      ]
     },
     "metadata": {},
     "output_type": "display_data"
    },
    {
     "name": "stderr",
     "output_type": "stream",
     "text": [
      "WARNING: VerifyWarning: Card is too long, comment will be truncated. [astropy.io.fits.card]\n"
     ]
    },
    {
     "data": {
      "application/vnd.jupyter.widget-view+json": {
       "model_id": "",
       "version_major": 2,
       "version_minor": 0
      },
      "text/plain": [
       "  0%|          | 0/42 [00:00<?, ?it/s]"
      ]
     },
     "metadata": {},
     "output_type": "display_data"
    },
    {
     "data": {
      "application/vnd.jupyter.widget-view+json": {
       "model_id": "",
       "version_major": 2,
       "version_minor": 0
      },
      "text/plain": [
       "  0%|          | 0/38 [00:00<?, ?it/s]"
      ]
     },
     "metadata": {},
     "output_type": "display_data"
    },
    {
     "data": {
      "application/vnd.jupyter.widget-view+json": {
       "model_id": "",
       "version_major": 2,
       "version_minor": 0
      },
      "text/plain": [
       "  0%|          | 0/37 [00:00<?, ?it/s]"
      ]
     },
     "metadata": {},
     "output_type": "display_data"
    },
    {
     "data": {
      "application/vnd.jupyter.widget-view+json": {
       "model_id": "",
       "version_major": 2,
       "version_minor": 0
      },
      "text/plain": [
       "  0%|          | 0/73 [00:00<?, ?it/s]"
      ]
     },
     "metadata": {},
     "output_type": "display_data"
    },
    {
     "data": {
      "application/vnd.jupyter.widget-view+json": {
       "model_id": "",
       "version_major": 2,
       "version_minor": 0
      },
      "text/plain": [
       "  0%|          | 0/68 [00:00<?, ?it/s]"
      ]
     },
     "metadata": {},
     "output_type": "display_data"
    },
    {
     "data": {
      "application/vnd.jupyter.widget-view+json": {
       "model_id": "",
       "version_major": 2,
       "version_minor": 0
      },
      "text/plain": [
       "  0%|          | 0/74 [00:00<?, ?it/s]"
      ]
     },
     "metadata": {},
     "output_type": "display_data"
    },
    {
     "data": {
      "application/vnd.jupyter.widget-view+json": {
       "model_id": "",
       "version_major": 2,
       "version_minor": 0
      },
      "text/plain": [
       "  0%|          | 0/73 [00:00<?, ?it/s]"
      ]
     },
     "metadata": {},
     "output_type": "display_data"
    },
    {
     "data": {
      "application/vnd.jupyter.widget-view+json": {
       "model_id": "",
       "version_major": 2,
       "version_minor": 0
      },
      "text/plain": [
       "  0%|          | 0/36 [00:00<?, ?it/s]"
      ]
     },
     "metadata": {},
     "output_type": "display_data"
    },
    {
     "data": {
      "application/vnd.jupyter.widget-view+json": {
       "model_id": "",
       "version_major": 2,
       "version_minor": 0
      },
      "text/plain": [
       "  0%|          | 0/32 [00:00<?, ?it/s]"
      ]
     },
     "metadata": {},
     "output_type": "display_data"
    },
    {
     "data": {
      "application/vnd.jupyter.widget-view+json": {
       "model_id": "",
       "version_major": 2,
       "version_minor": 0
      },
      "text/plain": [
       "  0%|          | 0/31 [00:00<?, ?it/s]"
      ]
     },
     "metadata": {},
     "output_type": "display_data"
    },
    {
     "data": {
      "application/vnd.jupyter.widget-view+json": {
       "model_id": "",
       "version_major": 2,
       "version_minor": 0
      },
      "text/plain": [
       "  0%|          | 0/39 [00:00<?, ?it/s]"
      ]
     },
     "metadata": {},
     "output_type": "display_data"
    },
    {
     "data": {
      "application/vnd.jupyter.widget-view+json": {
       "model_id": "",
       "version_major": 2,
       "version_minor": 0
      },
      "text/plain": [
       "  0%|          | 0/42 [00:00<?, ?it/s]"
      ]
     },
     "metadata": {},
     "output_type": "display_data"
    },
    {
     "data": {
      "application/vnd.jupyter.widget-view+json": {
       "model_id": "",
       "version_major": 2,
       "version_minor": 0
      },
      "text/plain": [
       "  0%|          | 0/59 [00:00<?, ?it/s]"
      ]
     },
     "metadata": {},
     "output_type": "display_data"
    },
    {
     "data": {
      "application/vnd.jupyter.widget-view+json": {
       "model_id": "",
       "version_major": 2,
       "version_minor": 0
      },
      "text/plain": [
       "  0%|          | 0/58 [00:00<?, ?it/s]"
      ]
     },
     "metadata": {},
     "output_type": "display_data"
    },
    {
     "data": {
      "application/vnd.jupyter.widget-view+json": {
       "model_id": "",
       "version_major": 2,
       "version_minor": 0
      },
      "text/plain": [
       "  0%|          | 0/39 [00:00<?, ?it/s]"
      ]
     },
     "metadata": {},
     "output_type": "display_data"
    },
    {
     "data": {
      "application/vnd.jupyter.widget-view+json": {
       "model_id": "",
       "version_major": 2,
       "version_minor": 0
      },
      "text/plain": [
       "  0%|          | 0/58 [00:00<?, ?it/s]"
      ]
     },
     "metadata": {},
     "output_type": "display_data"
    },
    {
     "data": {
      "application/vnd.jupyter.widget-view+json": {
       "model_id": "",
       "version_major": 2,
       "version_minor": 0
      },
      "text/plain": [
       "  0%|          | 0/69 [00:00<?, ?it/s]"
      ]
     },
     "metadata": {},
     "output_type": "display_data"
    },
    {
     "data": {
      "application/vnd.jupyter.widget-view+json": {
       "model_id": "",
       "version_major": 2,
       "version_minor": 0
      },
      "text/plain": [
       "  0%|          | 0/65 [00:00<?, ?it/s]"
      ]
     },
     "metadata": {},
     "output_type": "display_data"
    },
    {
     "data": {
      "application/vnd.jupyter.widget-view+json": {
       "model_id": "",
       "version_major": 2,
       "version_minor": 0
      },
      "text/plain": [
       "  0%|          | 0/65 [00:00<?, ?it/s]"
      ]
     },
     "metadata": {},
     "output_type": "display_data"
    },
    {
     "data": {
      "application/vnd.jupyter.widget-view+json": {
       "model_id": "",
       "version_major": 2,
       "version_minor": 0
      },
      "text/plain": [
       "  0%|          | 0/67 [00:00<?, ?it/s]"
      ]
     },
     "metadata": {},
     "output_type": "display_data"
    },
    {
     "data": {
      "application/vnd.jupyter.widget-view+json": {
       "model_id": "",
       "version_major": 2,
       "version_minor": 0
      },
      "text/plain": [
       "  0%|          | 0/88 [00:00<?, ?it/s]"
      ]
     },
     "metadata": {},
     "output_type": "display_data"
    },
    {
     "data": {
      "application/vnd.jupyter.widget-view+json": {
       "model_id": "",
       "version_major": 2,
       "version_minor": 0
      },
      "text/plain": [
       "  0%|          | 0/106 [00:00<?, ?it/s]"
      ]
     },
     "metadata": {},
     "output_type": "display_data"
    },
    {
     "data": {
      "application/vnd.jupyter.widget-view+json": {
       "model_id": "",
       "version_major": 2,
       "version_minor": 0
      },
      "text/plain": [
       "  0%|          | 0/91 [00:00<?, ?it/s]"
      ]
     },
     "metadata": {},
     "output_type": "display_data"
    },
    {
     "data": {
      "application/vnd.jupyter.widget-view+json": {
       "model_id": "",
       "version_major": 2,
       "version_minor": 0
      },
      "text/plain": [
       "  0%|          | 0/115 [00:00<?, ?it/s]"
      ]
     },
     "metadata": {},
     "output_type": "display_data"
    },
    {
     "data": {
      "application/vnd.jupyter.widget-view+json": {
       "model_id": "",
       "version_major": 2,
       "version_minor": 0
      },
      "text/plain": [
       "  0%|          | 0/137 [00:00<?, ?it/s]"
      ]
     },
     "metadata": {},
     "output_type": "display_data"
    },
    {
     "data": {
      "application/vnd.jupyter.widget-view+json": {
       "model_id": "",
       "version_major": 2,
       "version_minor": 0
      },
      "text/plain": [
       "  0%|          | 0/146 [00:00<?, ?it/s]"
      ]
     },
     "metadata": {},
     "output_type": "display_data"
    },
    {
     "data": {
      "application/vnd.jupyter.widget-view+json": {
       "model_id": "",
       "version_major": 2,
       "version_minor": 0
      },
      "text/plain": [
       "  0%|          | 0/110 [00:00<?, ?it/s]"
      ]
     },
     "metadata": {},
     "output_type": "display_data"
    },
    {
     "data": {
      "application/vnd.jupyter.widget-view+json": {
       "model_id": "",
       "version_major": 2,
       "version_minor": 0
      },
      "text/plain": [
       "  0%|          | 0/59 [00:00<?, ?it/s]"
      ]
     },
     "metadata": {},
     "output_type": "display_data"
    },
    {
     "data": {
      "application/vnd.jupyter.widget-view+json": {
       "model_id": "",
       "version_major": 2,
       "version_minor": 0
      },
      "text/plain": [
       "  0%|          | 0/34 [00:00<?, ?it/s]"
      ]
     },
     "metadata": {},
     "output_type": "display_data"
    },
    {
     "data": {
      "application/vnd.jupyter.widget-view+json": {
       "model_id": "",
       "version_major": 2,
       "version_minor": 0
      },
      "text/plain": [
       "  0%|          | 0/41 [00:00<?, ?it/s]"
      ]
     },
     "metadata": {},
     "output_type": "display_data"
    },
    {
     "data": {
      "application/vnd.jupyter.widget-view+json": {
       "model_id": "",
       "version_major": 2,
       "version_minor": 0
      },
      "text/plain": [
       "  0%|          | 0/40 [00:00<?, ?it/s]"
      ]
     },
     "metadata": {},
     "output_type": "display_data"
    },
    {
     "data": {
      "application/vnd.jupyter.widget-view+json": {
       "model_id": "",
       "version_major": 2,
       "version_minor": 0
      },
      "text/plain": [
       "  0%|          | 0/54 [00:00<?, ?it/s]"
      ]
     },
     "metadata": {},
     "output_type": "display_data"
    },
    {
     "data": {
      "application/vnd.jupyter.widget-view+json": {
       "model_id": "",
       "version_major": 2,
       "version_minor": 0
      },
      "text/plain": [
       "  0%|          | 0/53 [00:00<?, ?it/s]"
      ]
     },
     "metadata": {},
     "output_type": "display_data"
    },
    {
     "data": {
      "application/vnd.jupyter.widget-view+json": {
       "model_id": "",
       "version_major": 2,
       "version_minor": 0
      },
      "text/plain": [
       "  0%|          | 0/50 [00:00<?, ?it/s]"
      ]
     },
     "metadata": {},
     "output_type": "display_data"
    },
    {
     "data": {
      "application/vnd.jupyter.widget-view+json": {
       "model_id": "",
       "version_major": 2,
       "version_minor": 0
      },
      "text/plain": [
       "  0%|          | 0/63 [00:00<?, ?it/s]"
      ]
     },
     "metadata": {},
     "output_type": "display_data"
    },
    {
     "data": {
      "application/vnd.jupyter.widget-view+json": {
       "model_id": "",
       "version_major": 2,
       "version_minor": 0
      },
      "text/plain": [
       "  0%|          | 0/74 [00:00<?, ?it/s]"
      ]
     },
     "metadata": {},
     "output_type": "display_data"
    },
    {
     "data": {
      "application/vnd.jupyter.widget-view+json": {
       "model_id": "",
       "version_major": 2,
       "version_minor": 0
      },
      "text/plain": [
       "  0%|          | 0/75 [00:00<?, ?it/s]"
      ]
     },
     "metadata": {},
     "output_type": "display_data"
    },
    {
     "data": {
      "application/vnd.jupyter.widget-view+json": {
       "model_id": "",
       "version_major": 2,
       "version_minor": 0
      },
      "text/plain": [
       "  0%|          | 0/49 [00:00<?, ?it/s]"
      ]
     },
     "metadata": {},
     "output_type": "display_data"
    },
    {
     "data": {
      "application/vnd.jupyter.widget-view+json": {
       "model_id": "",
       "version_major": 2,
       "version_minor": 0
      },
      "text/plain": [
       "  0%|          | 0/82 [00:00<?, ?it/s]"
      ]
     },
     "metadata": {},
     "output_type": "display_data"
    },
    {
     "data": {
      "application/vnd.jupyter.widget-view+json": {
       "model_id": "",
       "version_major": 2,
       "version_minor": 0
      },
      "text/plain": [
       "  0%|          | 0/106 [00:00<?, ?it/s]"
      ]
     },
     "metadata": {},
     "output_type": "display_data"
    },
    {
     "data": {
      "application/vnd.jupyter.widget-view+json": {
       "model_id": "",
       "version_major": 2,
       "version_minor": 0
      },
      "text/plain": [
       "  0%|          | 0/91 [00:00<?, ?it/s]"
      ]
     },
     "metadata": {},
     "output_type": "display_data"
    },
    {
     "data": {
      "application/vnd.jupyter.widget-view+json": {
       "model_id": "",
       "version_major": 2,
       "version_minor": 0
      },
      "text/plain": [
       "  0%|          | 0/104 [00:00<?, ?it/s]"
      ]
     },
     "metadata": {},
     "output_type": "display_data"
    },
    {
     "data": {
      "application/vnd.jupyter.widget-view+json": {
       "model_id": "",
       "version_major": 2,
       "version_minor": 0
      },
      "text/plain": [
       "  0%|          | 0/123 [00:00<?, ?it/s]"
      ]
     },
     "metadata": {},
     "output_type": "display_data"
    },
    {
     "data": {
      "application/vnd.jupyter.widget-view+json": {
       "model_id": "",
       "version_major": 2,
       "version_minor": 0
      },
      "text/plain": [
       "  0%|          | 0/132 [00:00<?, ?it/s]"
      ]
     },
     "metadata": {},
     "output_type": "display_data"
    },
    {
     "data": {
      "application/vnd.jupyter.widget-view+json": {
       "model_id": "",
       "version_major": 2,
       "version_minor": 0
      },
      "text/plain": [
       "  0%|          | 0/149 [00:00<?, ?it/s]"
      ]
     },
     "metadata": {},
     "output_type": "display_data"
    },
    {
     "data": {
      "application/vnd.jupyter.widget-view+json": {
       "model_id": "",
       "version_major": 2,
       "version_minor": 0
      },
      "text/plain": [
       "  0%|          | 0/192 [00:00<?, ?it/s]"
      ]
     },
     "metadata": {},
     "output_type": "display_data"
    },
    {
     "data": {
      "application/vnd.jupyter.widget-view+json": {
       "model_id": "",
       "version_major": 2,
       "version_minor": 0
      },
      "text/plain": [
       "  0%|          | 0/137 [00:00<?, ?it/s]"
      ]
     },
     "metadata": {},
     "output_type": "display_data"
    },
    {
     "data": {
      "application/vnd.jupyter.widget-view+json": {
       "model_id": "",
       "version_major": 2,
       "version_minor": 0
      },
      "text/plain": [
       "  0%|          | 0/56 [00:00<?, ?it/s]"
      ]
     },
     "metadata": {},
     "output_type": "display_data"
    },
    {
     "data": {
      "application/vnd.jupyter.widget-view+json": {
       "model_id": "",
       "version_major": 2,
       "version_minor": 0
      },
      "text/plain": [
       "  0%|          | 0/44 [00:00<?, ?it/s]"
      ]
     },
     "metadata": {},
     "output_type": "display_data"
    },
    {
     "data": {
      "application/vnd.jupyter.widget-view+json": {
       "model_id": "",
       "version_major": 2,
       "version_minor": 0
      },
      "text/plain": [
       "  0%|          | 0/42 [00:00<?, ?it/s]"
      ]
     },
     "metadata": {},
     "output_type": "display_data"
    },
    {
     "data": {
      "application/vnd.jupyter.widget-view+json": {
       "model_id": "",
       "version_major": 2,
       "version_minor": 0
      },
      "text/plain": [
       "  0%|          | 0/43 [00:00<?, ?it/s]"
      ]
     },
     "metadata": {},
     "output_type": "display_data"
    },
    {
     "data": {
      "application/vnd.jupyter.widget-view+json": {
       "model_id": "",
       "version_major": 2,
       "version_minor": 0
      },
      "text/plain": [
       "  0%|          | 0/70 [00:00<?, ?it/s]"
      ]
     },
     "metadata": {},
     "output_type": "display_data"
    },
    {
     "data": {
      "application/vnd.jupyter.widget-view+json": {
       "model_id": "",
       "version_major": 2,
       "version_minor": 0
      },
      "text/plain": [
       "  0%|          | 0/60 [00:00<?, ?it/s]"
      ]
     },
     "metadata": {},
     "output_type": "display_data"
    },
    {
     "data": {
      "application/vnd.jupyter.widget-view+json": {
       "model_id": "",
       "version_major": 2,
       "version_minor": 0
      },
      "text/plain": [
       "  0%|          | 0/58 [00:00<?, ?it/s]"
      ]
     },
     "metadata": {},
     "output_type": "display_data"
    },
    {
     "data": {
      "application/vnd.jupyter.widget-view+json": {
       "model_id": "",
       "version_major": 2,
       "version_minor": 0
      },
      "text/plain": [
       "  0%|          | 0/56 [00:00<?, ?it/s]"
      ]
     },
     "metadata": {},
     "output_type": "display_data"
    },
    {
     "data": {
      "application/vnd.jupyter.widget-view+json": {
       "model_id": "",
       "version_major": 2,
       "version_minor": 0
      },
      "text/plain": [
       "  0%|          | 0/79 [00:00<?, ?it/s]"
      ]
     },
     "metadata": {},
     "output_type": "display_data"
    },
    {
     "data": {
      "application/vnd.jupyter.widget-view+json": {
       "model_id": "",
       "version_major": 2,
       "version_minor": 0
      },
      "text/plain": [
       "  0%|          | 0/88 [00:00<?, ?it/s]"
      ]
     },
     "metadata": {},
     "output_type": "display_data"
    },
    {
     "data": {
      "application/vnd.jupyter.widget-view+json": {
       "model_id": "",
       "version_major": 2,
       "version_minor": 0
      },
      "text/plain": [
       "  0%|          | 0/77 [00:00<?, ?it/s]"
      ]
     },
     "metadata": {},
     "output_type": "display_data"
    },
    {
     "data": {
      "application/vnd.jupyter.widget-view+json": {
       "model_id": "",
       "version_major": 2,
       "version_minor": 0
      },
      "text/plain": [
       "  0%|          | 0/99 [00:00<?, ?it/s]"
      ]
     },
     "metadata": {},
     "output_type": "display_data"
    },
    {
     "data": {
      "application/vnd.jupyter.widget-view+json": {
       "model_id": "",
       "version_major": 2,
       "version_minor": 0
      },
      "text/plain": [
       "  0%|          | 0/151 [00:00<?, ?it/s]"
      ]
     },
     "metadata": {},
     "output_type": "display_data"
    },
    {
     "data": {
      "application/vnd.jupyter.widget-view+json": {
       "model_id": "",
       "version_major": 2,
       "version_minor": 0
      },
      "text/plain": [
       "  0%|          | 0/112 [00:00<?, ?it/s]"
      ]
     },
     "metadata": {},
     "output_type": "display_data"
    },
    {
     "data": {
      "application/vnd.jupyter.widget-view+json": {
       "model_id": "",
       "version_major": 2,
       "version_minor": 0
      },
      "text/plain": [
       "  0%|          | 0/104 [00:00<?, ?it/s]"
      ]
     },
     "metadata": {},
     "output_type": "display_data"
    },
    {
     "data": {
      "application/vnd.jupyter.widget-view+json": {
       "model_id": "",
       "version_major": 2,
       "version_minor": 0
      },
      "text/plain": [
       "  0%|          | 0/141 [00:00<?, ?it/s]"
      ]
     },
     "metadata": {},
     "output_type": "display_data"
    },
    {
     "data": {
      "application/vnd.jupyter.widget-view+json": {
       "model_id": "",
       "version_major": 2,
       "version_minor": 0
      },
      "text/plain": [
       "  0%|          | 0/165 [00:00<?, ?it/s]"
      ]
     },
     "metadata": {},
     "output_type": "display_data"
    },
    {
     "data": {
      "application/vnd.jupyter.widget-view+json": {
       "model_id": "",
       "version_major": 2,
       "version_minor": 0
      },
      "text/plain": [
       "  0%|          | 0/212 [00:00<?, ?it/s]"
      ]
     },
     "metadata": {},
     "output_type": "display_data"
    },
    {
     "data": {
      "application/vnd.jupyter.widget-view+json": {
       "model_id": "",
       "version_major": 2,
       "version_minor": 0
      },
      "text/plain": [
       "  0%|          | 0/239 [00:00<?, ?it/s]"
      ]
     },
     "metadata": {},
     "output_type": "display_data"
    },
    {
     "data": {
      "application/vnd.jupyter.widget-view+json": {
       "model_id": "",
       "version_major": 2,
       "version_minor": 0
      },
      "text/plain": [
       "  0%|          | 0/199 [00:00<?, ?it/s]"
      ]
     },
     "metadata": {},
     "output_type": "display_data"
    },
    {
     "data": {
      "application/vnd.jupyter.widget-view+json": {
       "model_id": "",
       "version_major": 2,
       "version_minor": 0
      },
      "text/plain": [
       "  0%|          | 0/72 [00:00<?, ?it/s]"
      ]
     },
     "metadata": {},
     "output_type": "display_data"
    },
    {
     "data": {
      "application/vnd.jupyter.widget-view+json": {
       "model_id": "",
       "version_major": 2,
       "version_minor": 0
      },
      "text/plain": [
       "  0%|          | 0/84 [00:00<?, ?it/s]"
      ]
     },
     "metadata": {},
     "output_type": "display_data"
    },
    {
     "data": {
      "application/vnd.jupyter.widget-view+json": {
       "model_id": "",
       "version_major": 2,
       "version_minor": 0
      },
      "text/plain": [
       "  0%|          | 0/72 [00:00<?, ?it/s]"
      ]
     },
     "metadata": {},
     "output_type": "display_data"
    },
    {
     "data": {
      "application/vnd.jupyter.widget-view+json": {
       "model_id": "",
       "version_major": 2,
       "version_minor": 0
      },
      "text/plain": [
       "  0%|          | 0/76 [00:00<?, ?it/s]"
      ]
     },
     "metadata": {},
     "output_type": "display_data"
    },
    {
     "data": {
      "application/vnd.jupyter.widget-view+json": {
       "model_id": "",
       "version_major": 2,
       "version_minor": 0
      },
      "text/plain": [
       "  0%|          | 0/119 [00:00<?, ?it/s]"
      ]
     },
     "metadata": {},
     "output_type": "display_data"
    },
    {
     "data": {
      "application/vnd.jupyter.widget-view+json": {
       "model_id": "",
       "version_major": 2,
       "version_minor": 0
      },
      "text/plain": [
       "  0%|          | 0/120 [00:00<?, ?it/s]"
      ]
     },
     "metadata": {},
     "output_type": "display_data"
    },
    {
     "data": {
      "application/vnd.jupyter.widget-view+json": {
       "model_id": "",
       "version_major": 2,
       "version_minor": 0
      },
      "text/plain": [
       "  0%|          | 0/101 [00:00<?, ?it/s]"
      ]
     },
     "metadata": {},
     "output_type": "display_data"
    },
    {
     "data": {
      "application/vnd.jupyter.widget-view+json": {
       "model_id": "",
       "version_major": 2,
       "version_minor": 0
      },
      "text/plain": [
       "  0%|          | 0/103 [00:00<?, ?it/s]"
      ]
     },
     "metadata": {},
     "output_type": "display_data"
    },
    {
     "data": {
      "application/vnd.jupyter.widget-view+json": {
       "model_id": "",
       "version_major": 2,
       "version_minor": 0
      },
      "text/plain": [
       "  0%|          | 0/144 [00:00<?, ?it/s]"
      ]
     },
     "metadata": {},
     "output_type": "display_data"
    },
    {
     "data": {
      "application/vnd.jupyter.widget-view+json": {
       "model_id": "",
       "version_major": 2,
       "version_minor": 0
      },
      "text/plain": [
       "  0%|          | 0/134 [00:00<?, ?it/s]"
      ]
     },
     "metadata": {},
     "output_type": "display_data"
    },
    {
     "data": {
      "application/vnd.jupyter.widget-view+json": {
       "model_id": "",
       "version_major": 2,
       "version_minor": 0
      },
      "text/plain": [
       "  0%|          | 0/153 [00:00<?, ?it/s]"
      ]
     },
     "metadata": {},
     "output_type": "display_data"
    },
    {
     "data": {
      "application/vnd.jupyter.widget-view+json": {
       "model_id": "",
       "version_major": 2,
       "version_minor": 0
      },
      "text/plain": [
       "  0%|          | 0/144 [00:00<?, ?it/s]"
      ]
     },
     "metadata": {},
     "output_type": "display_data"
    }
   ],
   "source": [
    "for q in tqdm(quarters):\n",
    "    for ch in tqdm(channels):\n",
    "        in_dir = \"../../EXBA_LCFs/data/q%02i/ch%02i\" % (q, ch)\n",
    "        files = np.sort(glob.glob(\"%s/hlsp_kbonus-apexba_kepler_*-q%02i_v1.0_lc.fits.gz\" % (in_dir, q)))\n",
    "        for i, f in tqdm(enumerate(files), total=len(files), leave=False):\n",
    "            hdu = fits.open(f)\n",
    "            # update header cards\n",
    "            designation = hdu[0].header[\"OBJECT\"]\n",
    "\n",
    "            hdu[0].header.set(\"DOI\", \"10.17909/t9-d5wy-e535\", \n",
    "                     \"Digital Object Identifier for the HLSP data collection\", \n",
    "                     before=\"ORIGIN\")\n",
    "            hdu[0].header.set(\"FILTER\", \"KEPLER\", \"\", after=\"INSTRUME\")\n",
    "            hdu[0].header.set(\"TIMESYS\", \"TDB\", \"Time scale\", after=\"FILTER\")\n",
    "            \n",
    "            new_table = Table(hdu[1].data)\n",
    "            \n",
    "            for col in columns:\n",
    "                if col.startswith(\"FLUX\"):\n",
    "                    new_table[col].unit = \"e-/s\"\n",
    "                if col == \"TIME\":\n",
    "                    new_table[col] -= 2454833\n",
    "                    new_table[col].unit = \"BJD - 2454833\"\n",
    "\n",
    "            hdu[1] = fits.BinTableHDU(new_table[columns], name=\"LIGHTCURVE\")\n",
    "            \n",
    "            # aperture metrics\n",
    "            for k, ap in enumerate(ap_names):\n",
    "                hdu[0].header.set(\"PERCUT%i\" % ap, \n",
    "                                  np.round(hdu[0].header[\"PERCUT%i\" % ap], decimals=1), \n",
    "                                  \"Percentile cut to define aperture %i\" % ap)\n",
    "                hdu[0].header.set(\"FLFRSAP%i\" % ap, \n",
    "                                  np.round(hdu[0].header[\"FLFRSAP%i\" % ap], decimals=5), \n",
    "                                  \"Flux completeness metric for aperture %i\" % ap)\n",
    "                hdu[0].header.set(\"CRWDSAP%i\" % ap, \n",
    "                                  np.round(hdu[0].header[\"CRWDSAP%i\" % ap], decimals=5), \n",
    "                                  \"Flux crowding metric for aperture %i\" % ap)\n",
    "                if ap == 0:\n",
    "                    del hdu[0].header[\"PERCUT%i\" % ap]\n",
    "\n",
    "            # new dir tree\n",
    "            out_dir = \"../../EXBA_LCFs/data_v2/q%02i/ch%02i\" % (q, ch)\n",
    "            if not os.path.isdir(out_dir):\n",
    "                os.makedirs(out_dir)\n",
    "            # new file name\n",
    "            fname = \"hlsp_kbonus-apexba_kepler_kepler_%s-q%02i_kepler_v1.0_lc.fits\" % (\n",
    "                        designation.replace(\" \", \"-\").lower(),\n",
    "                        q,\n",
    "                    )\n",
    "            hdu.writeto(\"%s/%s\" % (out_dir, fname), overwrite=True, checksum=True)\n",
    "        # break\n",
    "    break"
   ]
  },
  {
   "cell_type": "markdown",
   "metadata": {},
   "source": [
    "# test new files"
   ]
  },
  {
   "cell_type": "code",
   "execution_count": 92,
   "metadata": {},
   "outputs": [],
   "source": [
    "fname = \"../../EXBA_LCFs/data_v2/q05/ch01/hlsp_kbonus-apexba_kepler_kepler_gaia-edr3-2105386822405410048-q05_kepler_v1.0_lc.fits\"\n",
    "\n",
    "test_hdu = fits.open(fname)"
   ]
  },
  {
   "cell_type": "code",
   "execution_count": 93,
   "metadata": {},
   "outputs": [
    {
     "name": "stdout",
     "output_type": "stream",
     "text": [
      "Filename: ../../EXBA_LCFs/data_v2/q05/ch01/hlsp_kbonus-apexba_kepler_kepler_gaia-edr3-2105386822405410048-q05_kepler_v1.0_lc.fits\n",
      "No.    Name      Ver    Type      Cards   Dimensions   Format\n",
      "  0  PRIMARY       1 PrimaryHDU      81   ()      \n",
      "  1  LIGHTCURVE    1 BinTableHDU     68   4492R x 20C   [D, K, E, E, E, E, E, E, E, E, E, E, E, E, E, E, E, E, K, J]   \n",
      "  2  APERTURE_OPT    1 ImageHDU        10   (36, 60)   uint8   \n",
      "  3  APERTURE_1    1 ImageHDU        10   (36, 60)   uint8   \n",
      "  4  APERTURE_2    1 ImageHDU        10   (36, 60)   uint8   \n",
      "  5  APERTURE_3    1 ImageHDU        10   (36, 60)   uint8   \n",
      "  6  APERTURE_4    1 ImageHDU        10   (36, 60)   uint8   \n",
      "  7  APERTURE_5    1 ImageHDU        10   (36, 60)   uint8   \n",
      "  8  APERTURE_6    1 ImageHDU        10   (36, 60)   uint8   \n",
      "  9  APERTURE_7    1 ImageHDU        10   (36, 60)   uint8   \n"
     ]
    }
   ],
   "source": [
    "test_hdu.info()"
   ]
  },
  {
   "cell_type": "code",
   "execution_count": 94,
   "metadata": {},
   "outputs": [
    {
     "data": {
      "text/plain": [
       "SIMPLE  =                    T / conforms to FITS standards                     \n",
       "BITPIX  =                    8 / array data type                                \n",
       "NAXIS   =                    0 / number of array dimensions                     \n",
       "EXTEND  =                    T / file contains extensions                       \n",
       "NEXTEND =                    2 / number of standard extensions                  \n",
       "EXTNAME = 'PRIMARY '           / name of extension                              \n",
       "EXTVER  =                    1 / extension version number (not format version)  \n",
       "HLSPID  = '' / The identifier (acronym) for this HLSP collection                \n",
       "HLSPLEAD= 'Jorge Martinez-Palomera' / Full name of HLSP project lead            \n",
       "HLSPVER = '1.0     '           / HLSP version                                   \n",
       "LICENSE = 'CC BY 4.0'                                                           \n",
       "LICENURL= 'https://creativecommons.org/licenses/by/4.0/'                        \n",
       "DOI     = '10.17909/t9-d5wy-e535' / Digital Object Identifier for the HLSP data \n",
       "ORIGIN  = 'kepler-apertures'   / Program used for photometry                    \n",
       "DATE    = '2021-04-20'         / file creation date.                            \n",
       "CREATOR = 'lightkurve.LightCurve.to_fits()' / Program used to create file       \n",
       "OBSERVAT= 'Kepler  '           / Observatory                                    \n",
       "TELESCOP= 'Kepler  '           / telescope                                      \n",
       "INSTRUME= 'Kepler Photometer'  / detector type                                  \n",
       "FILTER  = 'KEPLER  '                                                            \n",
       "TIMESYS = 'TDB     '           / Time scale                                     \n",
       "OBJECT  = 'Gaia EDR3 2105386822405410048' / string version of target id         \n",
       "KEPLERID=              8278753 / Unique Kepler target identifier (KIC)          \n",
       "MJD-BEG =    2455276.490883013 / Observation start time [MJD]                   \n",
       "MJD-END =    2455371.162909342 / Observation end time [MJD]                     \n",
       "MJD-MED =    2455324.143838902 / Observation mid time [MJD]                     \n",
       "XPOSURE =                 1625 / Duration of exposure [s]                       \n",
       "RADESYS = 'ICRS    '           / reference frame of celestial coordinates       \n",
       "RA_OBJ  =     281.999252779074 / [deg] right ascension                          \n",
       "DEC_OBJ =    44.24867454674752 / [deg] declination                              \n",
       "EQUINOX =                 2000 / equinox of celestial coordinate system         \n",
       "PROCVER = '2.0.10dev'          / Version of creator program                     \n",
       "VERSION = '0.1.0dev'           / Version of origin program                      \n",
       "APERTURE= 'FFI-PRF aperture'   / Method for aperture creation                   \n",
       "LABEL   = 'Gaia EDR3 2105386822405410048'                                       \n",
       "TARGETID=  2105386822405410048                                                  \n",
       "MISSION = 'Kepler  '                                                            \n",
       "INVESTID= 'EXBA    '           / Investigation ID                               \n",
       "OBSMODE = 'long cadence'                                                        \n",
       "SEASON  =                    3                                                  \n",
       "QUARTER =                    5                                                  \n",
       "MODULE  =                    2                                                  \n",
       "OUTPUT  =                    1                                                  \n",
       "CHANNEL =                    1                                                  \n",
       "GAIAID  = 'Gaia EDR3 2105386822405410048' / Gaia ID of the object               \n",
       "PMRA    = -0.00466118219734892 / Gaia RA proper motion                          \n",
       "PMDEC   = -0.00037254073070110 / Gaia Dec proper motion                         \n",
       "PARALLAX=   0.5947171285305656 / Gaia parallax                                  \n",
       "GMAG    =            17.007849 / Gaia G magnitude                               \n",
       "RPMAG   =            16.416494 / Gaia RP magnitude                              \n",
       "BPMAG   =            17.436348 / Gaia BP magnitude                              \n",
       "CAMPAIGN= 'EXBA    '                                                            \n",
       "TPF_ORGN= 'kplr100002173-2010174085026_lpd-targ.fits.gz' / TPF name of origin   \n",
       "KID_ORGN= 'KIC 100002173'      / Kepler ID of file of origin                    \n",
       "ROW     =    581.1977000000001 / Object row location in TPF_ORGN                \n",
       "COLUMN  =    582.3013999999999 / Object column location in TPF_ORGN             \n",
       "PERCUT1 =                    0 / Percentile cut to define aperture 1            \n",
       "FLFRSAP1=                  1.0 / Flux completeness metric for aperture 1        \n",
       "CRWDSAP1=               0.7516 / Flux crowding metric for aperture 1            \n",
       "PERCUT2 =                   15 / Percentile cut to define aperture 2            \n",
       "FLFRSAP2=               0.9988 / Flux completeness metric for aperture 2        \n",
       "CRWDSAP2=               0.7517 / Flux crowding metric for aperture 2            \n",
       "PERCUT3 =                   30 / Percentile cut to define aperture 3            \n",
       "FLFRSAP3=                0.996 / Flux completeness metric for aperture 3        \n",
       "CRWDSAP3=                0.731 / Flux crowding metric for aperture 3            \n",
       "PERCUT4 =                   45 / Percentile cut to define aperture 4            \n",
       "FLFRSAP4=               0.9883 / Flux completeness metric for aperture 4        \n",
       "CRWDSAP4=               0.7425 / Flux crowding metric for aperture 4            \n",
       "PERCUT5 =                   60 / Percentile cut to define aperture 5            \n",
       "FLFRSAP5=               0.9696 / Flux completeness metric for aperture 5        \n",
       "CRWDSAP5=               0.8288 / Flux crowding metric for aperture 5            \n",
       "PERCUT6 =                   75 / Percentile cut to define aperture 6            \n",
       "FLFRSAP6=               0.9261 / Flux completeness metric for aperture 6        \n",
       "CRWDSAP6=                0.866 / Flux crowding metric for aperture 6            \n",
       "PERCUT7 =                   90 / Percentile cut to define aperture 7            \n",
       "FLFRSAP7=               0.7602 / Flux completeness metric for aperture 7        \n",
       "CRWDSAP7=                  1.0 / Flux crowding metric for aperture 7            \n",
       "FLFRSAP0=              0.9334  / Flux completeness metric for aperture 0        \n",
       "CRWDSAP0=              0.8451  / Flux crowding metric for aperture 0            \n",
       "CHECKSUM= '3AbeA7Zb4AbbA5Zb'   / HDU checksum updated 2021-09-23T15:56:39       \n",
       "DATASUM = '0       '           / data unit checksum updated 2021-09-23T15:56:39 "
      ]
     },
     "execution_count": 94,
     "metadata": {},
     "output_type": "execute_result"
    }
   ],
   "source": [
    "test_hdu[0].header"
   ]
  },
  {
   "cell_type": "code",
   "execution_count": 95,
   "metadata": {},
   "outputs": [
    {
     "data": {
      "text/plain": [
       "XTENSION= 'BINTABLE'           / binary table extension                         \n",
       "BITPIX  =                    8 / array data type                                \n",
       "NAXIS   =                    2 / number of array dimensions                     \n",
       "NAXIS1  =                   92 / length of dimension 1                          \n",
       "NAXIS2  =                 4492 / length of dimension 2                          \n",
       "PCOUNT  =                    0 / number of group parameters                     \n",
       "GCOUNT  =                    1 / number of groups                               \n",
       "TFIELDS =                   20 / number of table fields                         \n",
       "EXTNAME = 'LIGHTCURVE'         / extension name                                 \n",
       "TTYPE1  = 'TIME    '                                                            \n",
       "TFORM1  = 'D       '                                                            \n",
       "TUNIT1  = 'BJD - 2454833'                                                       \n",
       "TTYPE2  = 'CADENCENO'                                                           \n",
       "TFORM2  = 'K       '                                                            \n",
       "TTYPE3  = 'FLUX    '                                                            \n",
       "TFORM3  = 'E       '                                                            \n",
       "TUNIT3  = 'e-/s    '                                                            \n",
       "TTYPE4  = 'FLUX1   '                                                            \n",
       "TFORM4  = 'E       '                                                            \n",
       "TUNIT4  = 'e-/s    '                                                            \n",
       "TTYPE5  = 'FLUX2   '                                                            \n",
       "TFORM5  = 'E       '                                                            \n",
       "TUNIT5  = 'e-/s    '                                                            \n",
       "TTYPE6  = 'FLUX3   '                                                            \n",
       "TFORM6  = 'E       '                                                            \n",
       "TUNIT6  = 'e-/s    '                                                            \n",
       "TTYPE7  = 'FLUX4   '                                                            \n",
       "TFORM7  = 'E       '                                                            \n",
       "TUNIT7  = 'e-/s    '                                                            \n",
       "TTYPE8  = 'FLUX5   '                                                            \n",
       "TFORM8  = 'E       '                                                            \n",
       "TUNIT8  = 'e-/s    '                                                            \n",
       "TTYPE9  = 'FLUX6   '                                                            \n",
       "TFORM9  = 'E       '                                                            \n",
       "TUNIT9  = 'e-/s    '                                                            \n",
       "TTYPE10 = 'FLUX7   '                                                            \n",
       "TFORM10 = 'E       '                                                            \n",
       "TUNIT10 = 'e-/s    '                                                            \n",
       "TTYPE11 = 'FLUX_ERR'                                                            \n",
       "TFORM11 = 'E       '                                                            \n",
       "TUNIT11 = 'e-/s    '                                                            \n",
       "TTYPE12 = 'FLUX_ERR1'                                                           \n",
       "TFORM12 = 'E       '                                                            \n",
       "TUNIT12 = 'e-/s    '                                                            \n",
       "TTYPE13 = 'FLUX_ERR2'                                                           \n",
       "TFORM13 = 'E       '                                                            \n",
       "TUNIT13 = 'e-/s    '                                                            \n",
       "TTYPE14 = 'FLUX_ERR3'                                                           \n",
       "TFORM14 = 'E       '                                                            \n",
       "TUNIT14 = 'e-/s    '                                                            \n",
       "TTYPE15 = 'FLUX_ERR4'                                                           \n",
       "TFORM15 = 'E       '                                                            \n",
       "TUNIT15 = 'e-/s    '                                                            \n",
       "TTYPE16 = 'FLUX_ERR5'                                                           \n",
       "TFORM16 = 'E       '                                                            \n",
       "TUNIT16 = 'e-/s    '                                                            \n",
       "TTYPE17 = 'FLUX_ERR6'                                                           \n",
       "TFORM17 = 'E       '                                                            \n",
       "TUNIT17 = 'e-/s    '                                                            \n",
       "TTYPE18 = 'FLUX_ERR7'                                                           \n",
       "TFORM18 = 'E       '                                                            \n",
       "TUNIT18 = 'e-/s    '                                                            \n",
       "TTYPE19 = 'QUALITY '                                                            \n",
       "TFORM19 = 'K       '                                                            \n",
       "TTYPE20 = 'SAP_QUALITY'                                                         \n",
       "TFORM20 = 'J       '                                                            \n",
       "CHECKSUM= 'i9dJk9b9i9bGi9b9'   / HDU checksum updated 2021-09-23T15:56:39       \n",
       "DATASUM = '1117827222'         / data unit checksum updated 2021-09-23T15:56:39 "
      ]
     },
     "execution_count": 95,
     "metadata": {},
     "output_type": "execute_result"
    }
   ],
   "source": [
    "test_hdu[1].header"
   ]
  },
  {
   "cell_type": "code",
   "execution_count": 96,
   "metadata": {},
   "outputs": [],
   "source": [
    "lc = lk.KeplerLightCurve.read(fname)"
   ]
  },
  {
   "cell_type": "code",
   "execution_count": 97,
   "metadata": {},
   "outputs": [
    {
     "data": {
      "text/plain": [
       "<Time object: scale='tdb' format='bkjd' value=[443.49088301 443.51131743 443.53175164 ... 538.10160744 538.12204151\n",
       " 538.16290934]>"
      ]
     },
     "execution_count": 97,
     "metadata": {},
     "output_type": "execute_result"
    }
   ],
   "source": [
    "lc.time"
   ]
  },
  {
   "cell_type": "code",
   "execution_count": 98,
   "metadata": {},
   "outputs": [
    {
     "data": {
      "text/latex": [
       "$[2104.5491,~2101.1702,~2103.2251,~\\dots,~2072.4094,~2063.3303,~2061.4746] \\; \\mathrm{\\frac{e^{-}}{s}}$"
      ],
      "text/plain": [
       "<Quantity [2104.549 , 2101.1702, 2103.225 , ..., 2072.4094, 2063.3303,\n",
       "           2061.4746] electron / s>"
      ]
     },
     "execution_count": 98,
     "metadata": {},
     "output_type": "execute_result"
    }
   ],
   "source": [
    "lc.flux"
   ]
  },
  {
   "cell_type": "code",
   "execution_count": 79,
   "metadata": {},
   "outputs": [
    {
     "data": {
      "image/png": "[encoded data removed]",
      "text/plain": [
       "<Figure size 848.5x400 with 1 Axes>"
      ]
     },
     "metadata": {},
     "output_type": "display_data"
    }
   ],
   "source": [
    "ax = lc.plot()"
   ]
  },
  {
   "cell_type": "code",
   "execution_count": 311,
   "metadata": {},
   "outputs": [
    {
     "data": {
      "text/plain": [
       "XTENSION= 'BINTABLE'           / marks the beginning of a new HDU               \n",
       "BITPIX  =                    8 / array data type                                \n",
       "NAXIS   =                    2 / number of array dimensions                     \n",
       "NAXIS1  =                  100 / length of first array dimension                \n",
       "NAXIS2  =                 4634 / length of second array dimension               \n",
       "PCOUNT  =                    0 / group parameter count (not used)               \n",
       "GCOUNT  =                    1 / group count (not used)                         \n",
       "TFIELDS =                   20 / number of table fields                         \n",
       "TTYPE1  = 'TIME    '           / column title: data time stamps                 \n",
       "TFORM1  = 'D       '           / column format: 64-bit floating point           \n",
       "TUNIT1  = 'BJD - 2454833'      / column units: barycenter corrected JD          \n",
       "TDISP1  = 'D14.7   '           / column display format                          \n",
       "TTYPE2  = 'TIMECORR'           / column title: barycenter - timeslice correction\n",
       "TFORM2  = 'E       '           / column format: 32-bit floating point           \n",
       "TUNIT2  = 'd       '           / column units: day                              \n",
       "TDISP2  = 'E13.6   '           / column display format                          \n",
       "TTYPE3  = 'CADENCENO'          / column title: unique cadence number            \n",
       "TFORM3  = 'J       '           / column format: signed 32-bit integer           \n",
       "TDISP3  = 'I10     '           / column display format                          \n",
       "TTYPE4  = 'SAP_FLUX'           / column title: aperture photometry flux         \n",
       "TFORM4  = 'E       '           / column format: 32-bit floating point           \n",
       "TUNIT4  = 'e-/s    '           / column units: electrons per second             \n",
       "TDISP4  = 'E14.7   '           / column display format                          \n",
       "TTYPE5  = 'SAP_FLUX_ERR'       / column title: aperture phot. flux error        \n",
       "TFORM5  = 'E       '           / column format: 32-bit floating point           \n",
       "TUNIT5  = 'e-/s    '           / column units: electrons per second (1-sigma)   \n",
       "TDISP5  = 'E14.7   '           / column display format                          \n",
       "TTYPE6  = 'SAP_BKG '           / column title: aperture phot. background flux   \n",
       "TFORM6  = 'E       '           / column format: 32-bit floating point           \n",
       "TUNIT6  = 'e-/s    '           / column units: electrons per second             \n",
       "TDISP6  = 'E14.7   '           / column display format                          \n",
       "TTYPE7  = 'SAP_BKG_ERR'        / column title: ap. phot. background flux error  \n",
       "TFORM7  = 'E       '           / column format: 32-bit floating point           \n",
       "TUNIT7  = 'e-/s    '           / column units: electrons per second (1-sigma)   \n",
       "TDISP7  = 'E14.7   '           / column display format                          \n",
       "TTYPE8  = 'PDCSAP_FLUX'        / column title: aperture phot. PDC flux          \n",
       "TFORM8  = 'E       '           / column format: 32-bit floating point           \n",
       "TUNIT8  = 'e-/s    '           / column units: electrons per second             \n",
       "TDISP8  = 'E14.7   '           / column display format                          \n",
       "TTYPE9  = 'PDCSAP_FLUX_ERR'    / column title: ap. phot. PDC flux error         \n",
       "TFORM9  = 'E       '           / column format: 32-bit floating point           \n",
       "TUNIT9  = 'e-/s    '           / column units: electrons per second (1-sigma)   \n",
       "TDISP9  = 'E14.7   '           / column display format                          \n",
       "TTYPE10 = 'SAP_QUALITY'        / column title: aperture photometry quality flag \n",
       "TFORM10 = 'J       '           / column format: signed 32-bit integer           \n",
       "TDISP10 = 'B16.16  '           / column display format                          \n",
       "TTYPE11 = 'PSF_CENTR1'         / column title: PSF-fitted column centroid       \n",
       "TFORM11 = 'D       '           / column format: 64-bit floating point           \n",
       "TUNIT11 = 'pixel   '           / column units: pixel                            \n",
       "TDISP11 = 'F10.5   '           / column display format                          \n",
       "TTYPE12 = 'PSF_CENTR1_ERR'     / column title: PSF-fitted column error          \n",
       "TFORM12 = 'E       '           / column format: 32-bit floating point           \n",
       "TUNIT12 = 'pixel   '           / column units: pixel (1-sigma)                  \n",
       "TDISP12 = 'E14.7   '           / column display format                          \n",
       "TTYPE13 = 'PSF_CENTR2'         / column title: PSF-fitted row centroid          \n",
       "TFORM13 = 'D       '           / column format: 64-bit floating point           \n",
       "TUNIT13 = 'pixel   '           / column units: pixel                            \n",
       "TDISP13 = 'F10.5   '           / column display format                          \n",
       "TTYPE14 = 'PSF_CENTR2_ERR'     / column title: PSF-fitted row error             \n",
       "TFORM14 = 'E       '           / column format: 32-bit floating point           \n",
       "TUNIT14 = 'pixel   '           / column units: pixel (1-sigma)                  \n",
       "TDISP14 = 'E14.7   '           / column display format                          \n",
       "TTYPE15 = 'MOM_CENTR1'         / column title: moment-derived column centroid   \n",
       "TFORM15 = 'D       '           / column format: 64-bit floating point           \n",
       "TUNIT15 = 'pixel   '           / column units: pixel                            \n",
       "TDISP15 = 'F10.5   '           / column display format                          \n",
       "TTYPE16 = 'MOM_CENTR1_ERR'     / column title: moment-derived column error      \n",
       "TFORM16 = 'E       '           / column format: 32-bit floating point           \n",
       "TUNIT16 = 'pixel   '           / column units: pixel (1-sigma)                  \n",
       "TDISP16 = 'E14.7   '           / column display format                          \n",
       "TTYPE17 = 'MOM_CENTR2'         / column title: moment-derived row centroid      \n",
       "TFORM17 = 'D       '           / column format: 64-bit floating point           \n",
       "TUNIT17 = 'pixel   '           / column units: pixel                            \n",
       "TDISP17 = 'F10.5   '           / column display format                          \n",
       "TTYPE18 = 'MOM_CENTR2_ERR'     / column title: moment-derived row error         \n",
       "TFORM18 = 'E       '           / column format: 32-bit floating point           \n",
       "TUNIT18 = 'pixel   '           / column units: pixel (1-sigma)                  \n",
       "TDISP18 = 'E14.7   '           / column display format                          \n",
       "TTYPE19 = 'POS_CORR1'          / column title: column position correction       \n",
       "TFORM19 = 'E       '           / column format: 32-bit floating point           \n",
       "TUNIT19 = 'pixels  '           / column units: pixel                            \n",
       "TDISP19 = 'E14.7   '           / column display format                          \n",
       "TTYPE20 = 'POS_CORR2'          / column title: row position correction          \n",
       "TFORM20 = 'E       '           / column format: 32-bit floating point           \n",
       "TUNIT20 = 'pixels  '           / column units: pixel                            \n",
       "TDISP20 = 'E14.7   '           / column display format                          \n",
       "INHERIT =                    T / inherit the primary header                     \n",
       "EXTNAME = 'LIGHTCURVE'         / name of extension                              \n",
       "EXTVER  =                    1 / extension version number (not format version)  \n",
       "TELESCOP= 'Kepler  '           / telescope                                      \n",
       "INSTRUME= 'Kepler Photometer'  / detector type                                  \n",
       "OBJECT  = 'KIC 8362616'        / string version of target id                    \n",
       "KEPLERID=              8362616 / unique Kepler target identifier                \n",
       "RADESYS = 'ICRS    '           / reference frame of celestial coordinates       \n",
       "RA_OBJ  =           290.728869 / [deg] right ascension                          \n",
       "DEC_OBJ =            44.359310 / [deg] declination                              \n",
       "EQUINOX =               2000.0 / equinox of celestial coordinate system         \n",
       "EXPOSURE=          87.17749851 / [d] time on source                             \n",
       "TIMEREF = 'SOLARSYSTEM'        / barycentric correction applied to times        \n",
       "TASSIGN = 'SPACECRAFT'         / where time is assigned                         \n",
       "TIMESYS = 'TDB     '           / time system is barycentric JD                  \n",
       "BJDREFI =              2454833 / integer part of BJD reference date             \n",
       "BJDREFF =           0.00000000 / fraction of the day in BJD reference date      \n",
       "TIMEUNIT= 'd       '           / time unit for TIME, TSTART and TSTOP           \n",
       "TELAPSE =          94.69280010 / [d] TSTOP - TSTART                             \n",
       "LIVETIME=          87.17749851 / [d] TELAPSE multiplied by DEADC                \n",
       "TSTART  =         443.48006311 / observation start time in BJD-BJDREF           \n",
       "TSTOP   =         538.17286322 / observation stop time in BJD-BJDREF            \n",
       "LC_START=       55275.99115492 / mid point of first cadence in MJD              \n",
       "LC_END  =       55370.66003002 / mid point of last cadence in MJD               \n",
       "DEADC   =           0.92063492 / deadtime correction                            \n",
       "TIMEPIXR=                  0.5 / bin time beginning=0 middle=0.5 end=1          \n",
       "TIERRELA=             5.78E-07 / [d] relative time error                        \n",
       "TIERABSO=                      / [d] absolute time error                        \n",
       "INT_TIME=       6.019802903270 / [s] photon accumulation time per frame         \n",
       "READTIME=       0.518948526144 / [s] readout time per frame                     \n",
       "FRAMETIM=       6.538751429414 / [s] frame time (INT_TIME + READTIME)           \n",
       "NUM_FRM =                  270 / number of frames per time stamp                \n",
       "TIMEDEL =     0.02043359821692 / [d] time resolution of data                    \n",
       "DATE-OBS= '2010-03-20T23:32:33.055Z' / TSTART as UTC calendar date              \n",
       "DATE-END= '2010-06-23T16:05:09.323Z' / TSTOP as UTC calendar date               \n",
       "BACKAPP =                    T / background is subtracted                       \n",
       "DEADAPP =                    T / deadtime applied                               \n",
       "VIGNAPP =                    T / vignetting or collimator correction applied    \n",
       "GAIN    =               114.72 / [electrons/count] channel gain                 \n",
       "READNOIS=            84.755136 / [electrons] read noise                         \n",
       "NREADOUT=                  270 / number of read per cadence                     \n",
       "TIMSLICE=                    3 / time-slice readout sequence section            \n",
       "MEANBLCK=                  697 / [count] FSW mean black level                   \n",
       "LCFXDOFF=               419400 / long cadence fixed offset                      \n",
       "SCFXDOFF=               219400 / short cadence fixed offset                     \n",
       "CDPP3_0 =    63.96461486816406 / [ppm] RMS CDPP on 3.0-hr time scales           \n",
       "CDPP6_0 =     47.6821403503418 / [ppm] RMS CDPP on 6.0-hr time scales           \n",
       "CDPP12_0=    35.91640853881836 / [ppm] RMS CDPP on 12.0-hr time scales          \n",
       "CROWDSAP=               0.9992 / Ratio of target flux to total flux in op. ap.  \n",
       "FLFRCSAP=               0.8067 / Frac. of target flux w/in the op. aperture     \n",
       "NSPSDDET=                    0 / Number of SPSDs detected                       \n",
       "NSPSDCOR=                    0 / Number of SPSDs corrected                      \n",
       "PDCVAR  =   1.5508638620376587 / Target variability                             \n",
       "PDCMETHD= 'multiScaleMap'      / PDC algorithm used for target                  \n",
       "NUMBAND =                    3 / Number of scale bands                          \n",
       "FITTYPE1= 'robust  '           / Fit type used for band 1                       \n",
       "PR_GOOD1=   0.5069621801376343 / Prior goodness for band 1                      \n",
       "PR_WGHT1=                  0.0 / Prior weight for band 1                        \n",
       "FITTYPE2= 'prior   '           / Fit type used for band 2                       \n",
       "PR_GOOD2=   0.8821491599082947 / Prior goodness for band 2                      \n",
       "PR_WGHT2=   114.80123901367188 / Prior weight for band 2                        \n",
       "FITTYPE3= 'prior   '           / Fit type used for band 3                       \n",
       "PR_GOOD3=   0.9725043177604675 / Prior goodness for band 3                      \n",
       "PR_WGHT3=   126.55989074707031 / Prior weight for band 3                        \n",
       "PDC_TOT =   0.9506407380104065 / PDC total goodness metric for target           \n",
       "PDC_TOTP=    59.49127960205078 / PDC_TOT percentile compared to mod/out         \n",
       "PDC_COR =   0.9988769888877869 / PDC correlation goodness metric for target     \n",
       "PDC_CORP=    58.46339416503906 / PDC_COR percentile compared to mod/out         \n",
       "PDC_VAR =   0.9677696824073792 / PDC variability goodness metric for target     \n",
       "PDC_VARP=   30.213476181030273 / PDC_VAR percentile compared to mod/out         \n",
       "PDC_NOI =   0.8516618609428406 / PDC noise goodness metric for target           \n",
       "PDC_NOIP=     52.8687858581543 / PDC_NOI percentile compared to mod/out         \n",
       "PDC_EPT =    0.996511697769165 / PDC earth point goodness metric for target     \n",
       "PDC_EPTP=    52.86473846435547 / PDC_EPT percentile compared to mod/out         \n",
       "CHECKSUM= 'PjrFSio9PioCPio9'   / HDU checksum updated 2015-09-17T01:16:27Z      "
      ]
     },
     "execution_count": 311,
     "metadata": {},
     "output_type": "execute_result"
    }
   ],
   "source": [
    "fits.open(\"/Users/jorgemarpa/Work/BAERI/ADAP/kepler-workflow/notebooks/lcs/Kepler/kplr008362616-2010174085026_llc.fits\")[1].header"
   ]
  },
  {
   "cell_type": "code",
   "execution_count": null,
   "metadata": {},
   "outputs": [],
   "source": []
  },
  {
   "cell_type": "code",
   "execution_count": null,
   "metadata": {},
   "outputs": [],
   "source": []
  },
  {
   "cell_type": "code",
   "execution_count": null,
   "metadata": {},
   "outputs": [],
   "source": []
  },
  {
   "cell_type": "code",
   "execution_count": null,
   "metadata": {},
   "outputs": [],
   "source": []
  },
  {
   "cell_type": "code",
   "execution_count": null,
   "metadata": {},
   "outputs": [],
   "source": []
  },
  {
   "cell_type": "code",
   "execution_count": null,
   "metadata": {},
   "outputs": [],
   "source": []
  },
  {
   "cell_type": "markdown",
   "metadata": {},
   "source": [
    "# Support Files"
   ]
  },
  {
   "cell_type": "code",
   "execution_count": 29,
   "metadata": {},
   "outputs": [
    {
     "data": {
      "application/vnd.jupyter.widget-view+json": {
       "model_id": "08ee7015cc4d408cade6e228cf21fd60",
       "version_major": 2,
       "version_minor": 0
      },
      "text/plain": [
       "  0%|          | 0/13 [00:00<?, ?it/s]"
      ]
     },
     "metadata": {},
     "output_type": "display_data"
    }
   ],
   "source": [
    "del_kw = [\"PMRA\",\n",
    "\"PMDEC\",\n",
    "\"PMTOTAL\",\n",
    "\"PARALLAX\",\n",
    "\"GLON\",\n",
    "\"GLAT\",\n",
    "\"GMAG\",\n",
    "\"RMAG\",\n",
    "\"IMAG\",\n",
    "\"ZMAG\",\n",
    "\"D51MAG\",\n",
    "\"JMAG\",\n",
    "\"HMAG\",\n",
    "\"KMAG\",\n",
    "\"KEPMAG\",\n",
    "\"GRCOLOR\",\n",
    "\"JKCOLOR\",\n",
    "\"GKCOLOR\",\n",
    "\"TEFF\",\n",
    "\"LOGG\",\n",
    "\"FEH\",\n",
    "\"EBMINUSV\",\n",
    "\"AV\",\n",
    "\"RADIUS\",\n",
    "\"TMINDEX\",\n",
    "\"SCPID\"]\n",
    "\n",
    "for q in tqdm(quarters):\n",
    "    for ch in channels:\n",
    "        in_dir = \"../../EXBA_LCFs/data/q%02i/ch%02i\" % (q, ch)\n",
    "        path = \"%s/hlsp_kbonus-apexba_kepler_exba-mask-ch%02i-q%02i_v1.0_sup.fits.gz\" % (in_dir, ch, q)\n",
    "        hdu = fits.open(path)\n",
    "        \n",
    "        del hdu[1].header[\"TFORM1\"], hdu[1].header[\"TTYPE1\"], hdu[1].header[\"TUNIT1\"]\n",
    "        \n",
    "        new_tab = Table.read(path)\n",
    "        new_tab[\"ra\"].unit = \"deg\"\n",
    "        new_tab[\"ra_error\"].unit = \"mas\"\n",
    "        new_tab[\"dec\"].unit = \"deg\"\n",
    "        new_tab[\"dec_error\"].unit = \"mas\"\n",
    "        new_tab[\"pmra\"].unit = \"mas / yr\"\n",
    "        new_tab[\"pmdec\"].unit = \"mas / yr\"\n",
    "        new_tab[\"parallax\"].unit = \"mas\"\n",
    "        new_tab[\"parallax_error\"].unit = \"mas\"\n",
    "        new_tab[\"col\"].unit = \"pixel\"\n",
    "        new_tab[\"row\"].unit = \"pixel\"\n",
    "        new_tab.rename_column(\"designation\", \"Gaia_ID\")\n",
    "        new_tab.rename_column(\"col\", \"EXBA_column\")\n",
    "        new_tab.rename_column(\"row\", \"EXBA_row\")\n",
    "        \n",
    "        for col in new_tab.columns:\n",
    "            if \"flux\" in col:\n",
    "                new_tab[col].unit = \"e-/s\"\n",
    "            if \"mag\" in col:\n",
    "                new_tab[col].unit = \"mag\"\n",
    "        hdu[2] = fits.BinTableHDU(new_tab)\n",
    "        \n",
    "        # new dir tree\n",
    "        out_dir = \"../../EXBA_LCFs/data_v2/q%02i/ch%02i\" % (q, ch)\n",
    "        if not os.path.isdir(out_dir):\n",
    "            os.makedirs(out_dir)\n",
    "        # new file name\n",
    "        fname = \"hlsp_kbonus-apexba_kepler_kepler_exba-mask-ch%02i-q%02i_kepler_v1.0_sup.fits\" % (\n",
    "                    ch,\n",
    "                    q,\n",
    "                )\n",
    "        hdu.writeto(\"%s/%s\" % (out_dir, fname), overwrite=True, checksum=True)\n",
    "    #     break\n",
    "    # break"
   ]
  },
  {
   "cell_type": "code",
   "execution_count": 20,
   "metadata": {},
   "outputs": [
    {
     "name": "stdout",
     "output_type": "stream",
     "text": [
      "Filename: ../../EXBA_LCFs/data/q05/ch01/hlsp_kbonus-apexba_kepler_exba-mask-ch01-q05_v1.0_sup.fits.gz\n",
      "No.    Name      Ver    Type      Cards   Dimensions   Format\n",
      "  0  PRIMARY       1 PrimaryHDU      35   ()      \n",
      "  1  EXBA_mask     1 ImageHDU        11   (36, 60)   float32   \n",
      "  2  EXBA_sources    1 BinTableHDU     70   38R x 24C   ['29A', 'D', 'D', 'D', 'D', 'D', 'D', 'D', 'D', 'K', 'D', 'D', 'D', 'K', 'D', 'D', 'D', 'K', 'D', 'D', 'D', 'D', 'D', 'K']   \n"
     ]
    }
   ],
   "source": [
    "hdu.info()"
   ]
  },
  {
   "cell_type": "code",
   "execution_count": 21,
   "metadata": {},
   "outputs": [
    {
     "data": {
      "text/plain": [
       "XTENSION= 'IMAGE   '           / Image extension                                \n",
       "BITPIX  =                  -32 / array data type                                \n",
       "NAXIS   =                    2 / number of array dimensions                     \n",
       "NAXIS1  =                   36                                                  \n",
       "NAXIS2  =                   60                                                  \n",
       "PCOUNT  =                    0 / number of parameters                           \n",
       "GCOUNT  =                    1 / number of groups                               \n",
       "DATE    = '2021-04-20'                                                          \n",
       "CHECKSUM= '2IKA29IA2GIA29IA'   / HDU checksum updated 2021-09-23T19:34:05       \n",
       "DATASUM = '183586843'          / data unit checksum updated 2021-09-23T19:34:05 \n",
       "EXTNAME = 'EXBA_mask'                                                           "
      ]
     },
     "execution_count": 21,
     "metadata": {},
     "output_type": "execute_result"
    }
   ],
   "source": [
    "hdu[1].header"
   ]
  },
  {
   "cell_type": "code",
   "execution_count": 25,
   "metadata": {},
   "outputs": [
    {
     "data": {
      "text/plain": [
       "XTENSION= 'BINTABLE'           / binary table extension                         \n",
       "BITPIX  =                    8 / array data type                                \n",
       "NAXIS   =                    2 / number of array dimensions                     \n",
       "NAXIS1  =                  213 / length of dimension 1                          \n",
       "NAXIS2  =                   38 / length of dimension 2                          \n",
       "PCOUNT  =                    0 / number of group parameters                     \n",
       "GCOUNT  =                    1 / number of groups                               \n",
       "TFIELDS =                   24 / number of table fields                         \n",
       "GAIA_DR =                    3                                                  \n",
       "CHECKSUM= '4I1e6I1e4I1e4I1e'   / HDU checksum updated 2021-09-23T19:34:51       \n",
       "DATASUM = '226384346'          / data unit checksum updated 2021-09-23T19:34:51 \n",
       "EXTNAME = 'EXBA_sources'                                                        \n",
       "TTYPE1  = 'Gaia_ID '                                                            \n",
       "TFORM1  = '29A     '                                                            \n",
       "TTYPE2  = 'ra      '                                                            \n",
       "TFORM2  = 'D       '                                                            \n",
       "TUNIT2  = 'deg     '                                                            \n",
       "TTYPE3  = 'ra_error'                                                            \n",
       "TFORM3  = 'D       '                                                            \n",
       "TUNIT3  = 'mas     '                                                            \n",
       "TTYPE4  = 'dec     '                                                            \n",
       "TFORM4  = 'D       '                                                            \n",
       "TUNIT4  = 'deg     '                                                            \n",
       "TTYPE5  = 'dec_error'                                                           \n",
       "TFORM5  = 'D       '                                                            \n",
       "TUNIT5  = 'mas     '                                                            \n",
       "TTYPE6  = 'pmra    '                                                            \n",
       "TFORM6  = 'D       '                                                            \n",
       "TUNIT6  = 'mas yr-1'                                                            \n",
       "TTYPE7  = 'pmdec   '                                                            \n",
       "TFORM7  = 'D       '                                                            \n",
       "TUNIT7  = 'mas yr-1'                                                            \n",
       "TTYPE8  = 'parallax'                                                            \n",
       "TFORM8  = 'D       '                                                            \n",
       "TUNIT8  = 'mas     '                                                            \n",
       "TTYPE9  = 'parallax_error'                                                      \n",
       "TFORM9  = 'D       '                                                            \n",
       "TUNIT9  = 'mas     '                                                            \n",
       "TTYPE10 = 'phot_g_n_obs'                                                        \n",
       "TFORM10 = 'K       '                                                            \n",
       "TTYPE11 = 'phot_g_mean_flux'                                                    \n",
       "TFORM11 = 'D       '                                                            \n",
       "TUNIT11 = 'e-/s    '                                                            \n",
       "TTYPE12 = 'phot_g_mean_flux_error'                                              \n",
       "TFORM12 = 'D       '                                                            \n",
       "TUNIT12 = 'e-/s    '                                                            \n",
       "TTYPE13 = 'phot_g_mean_mag'                                                     \n",
       "TFORM13 = 'D       '                                                            \n",
       "TUNIT13 = 'mag     '                                                            \n",
       "TTYPE14 = 'phot_bp_n_obs'                                                       \n",
       "TFORM14 = 'K       '                                                            \n",
       "TTYPE15 = 'phot_bp_mean_flux'                                                   \n",
       "TFORM15 = 'D       '                                                            \n",
       "TUNIT15 = 'e-/s    '                                                            \n",
       "TTYPE16 = 'phot_bp_mean_flux_error'                                             \n",
       "TFORM16 = 'D       '                                                            \n",
       "TUNIT16 = 'e-/s    '                                                            \n",
       "TTYPE17 = 'phot_bp_mean_mag'                                                    \n",
       "TFORM17 = 'D       '                                                            \n",
       "TUNIT17 = 'mag     '                                                            \n",
       "TTYPE18 = 'phot_rp_n_obs'                                                       \n",
       "TFORM18 = 'K       '                                                            \n",
       "TTYPE19 = 'phot_rp_mean_flux'                                                   \n",
       "TFORM19 = 'D       '                                                            \n",
       "TUNIT19 = 'e-/s    '                                                            \n",
       "TTYPE20 = 'phot_rp_mean_flux_error'                                             \n",
       "TFORM20 = 'D       '                                                            \n",
       "TUNIT20 = 'e-/s    '                                                            \n",
       "TTYPE21 = 'phot_rp_mean_mag'                                                    \n",
       "TFORM21 = 'D       '                                                            \n",
       "TUNIT21 = 'mag     '                                                            \n",
       "TTYPE22 = 'EXBA_column'                                                         \n",
       "TFORM22 = 'D       '                                                            \n",
       "TUNIT22 = 'pix     '                                                            \n",
       "TTYPE23 = 'EXBA_row'                                                            \n",
       "TFORM23 = 'D       '                                                            \n",
       "TUNIT23 = 'pix     '                                                            \n",
       "TTYPE24 = 'clean_flag'                                                          \n",
       "TFORM24 = 'K       '                                                            "
      ]
     },
     "execution_count": 25,
     "metadata": {},
     "output_type": "execute_result"
    }
   ],
   "source": [
    "hdu[2].header"
   ]
  },
  {
   "cell_type": "code",
   "execution_count": 14,
   "metadata": {},
   "outputs": [
    {
     "name": "stdout",
     "output_type": "stream",
     "text": [
      "Filename: ../../EXBA_LCFs/data_v2/q05/ch01/hlsp_kbonus-apexba_kepler_kepler_exba-mask-ch01-q05_kepler_v1.0_sup.fits\n",
      "No.    Name      Ver    Type      Cards   Dimensions   Format\n",
      "  0  PRIMARY       1 PrimaryHDU      35   ()      \n",
      "  1  EXBA_mask     1 ImageHDU        11   (36, 60)   float32   \n",
      "  2  EXBA_sources    1 BinTableHDU     70   38R x 24C   [29A, D, D, D, D, D, D, D, D, K, D, D, D, K, D, D, D, K, D, D, D, D, D, K]   \n"
     ]
    }
   ],
   "source": [
    "fits.open(\"../../EXBA_LCFs/data_v2/q05/ch01/hlsp_kbonus-apexba_kepler_kepler_exba-mask-ch01-q05_kepler_v1.0_sup.fits\").info()"
   ]
  },
  {
   "cell_type": "code",
   "execution_count": 27,
   "metadata": {},
   "outputs": [
    {
     "data": {
      "text/html": [
       "<i>Table length=10</i>\n",
       "<table id=\"table5100290448\" class=\"table-striped table-bordered table-condensed\">\n",
       "<thead><tr><th>Gaia_ID</th><th>ra</th><th>ra_error</th><th>dec</th><th>dec_error</th><th>pmra</th><th>pmdec</th><th>parallax</th><th>parallax_error</th><th>phot_g_n_obs</th><th>phot_g_mean_flux</th><th>phot_g_mean_flux_error</th><th>phot_g_mean_mag</th><th>phot_bp_n_obs</th><th>phot_bp_mean_flux</th><th>phot_bp_mean_flux_error</th><th>phot_bp_mean_mag</th><th>phot_rp_n_obs</th><th>phot_rp_mean_flux</th><th>phot_rp_mean_flux_error</th><th>phot_rp_mean_mag</th><th>EXBA_column</th><th>EXBA_row</th><th>clean_flag</th></tr></thead>\n",
       "<thead><tr><th></th><th>deg</th><th>mas</th><th>deg</th><th>mas</th><th>mas / yr</th><th>mas / yr</th><th>mas</th><th>mas</th><th></th><th>e-/s</th><th>e-/s</th><th>mag</th><th></th><th>e-/s</th><th>e-/s</th><th>mag</th><th></th><th>e-/s</th><th>e-/s</th><th>mag</th><th>pix</th><th>pix</th><th></th></tr></thead>\n",
       "<thead><tr><th>bytes29</th><th>float64</th><th>float64</th><th>float64</th><th>float64</th><th>float64</th><th>float64</th><th>float64</th><th>float64</th><th>int64</th><th>float64</th><th>float64</th><th>float64</th><th>int64</th><th>float64</th><th>float64</th><th>float64</th><th>int64</th><th>float64</th><th>float64</th><th>float64</th><th>float64</th><th>float64</th><th>int64</th></tr></thead>\n",
       "<tr><td>Gaia EDR3 2105384211065299328</td><td>282.02601422275194</td><td>0.19085671</td><td>44.25377944557144</td><td>0.22391872</td><td>-19.973062525408807</td><td>-18.944104549054543</td><td>0.5892298715885553</td><td>0.22106487</td><td>381</td><td>299.7253029271898</td><td>0.8599534</td><td>19.495558</td><td>35</td><td>80.53954295941575</td><td>6.2322636</td><td>20.573519</td><td>38</td><td>333.1837408698047</td><td>8.763941</td><td>18.441187</td><td>589.6270633069905</td><td>564.8003895381436</td><td>0</td></tr>\n",
       "<tr><td>Gaia EDR3 2105384241127278208</td><td>282.00675214953424</td><td>0.13252868</td><td>44.25354519592058</td><td>0.15323067</td><td>-1.7719406349189692</td><td>-2.5299803589776717</td><td>0.1500959224388817</td><td>0.15502745</td><td>400</td><td>445.3054402667451</td><td>0.9397699</td><td>19.065722</td><td>44</td><td>212.495879567831</td><td>8.967708</td><td>19.520166</td><td>42</td><td>319.30774995602985</td><td>8.512412</td><td>18.487371</td><td>581.9344566234053</td><td>574.6431303056459</td><td>0</td></tr>\n",
       "<tr><td>Gaia EDR3 2105384245425035392</td><td>282.0141527165855</td><td>0.05810274</td><td>44.25357179111208</td><td>0.06556623</td><td>-1.1884323904997922</td><td>-1.3311902001283102</td><td>0.6496634574414855</td><td>0.06638684</td><td>406</td><td>1588.2213028971023</td><td>1.4349111</td><td>17.68509</td><td>42</td><td>579.377437978047</td><td>9.663919</td><td>18.431139</td><td>46</td><td>1368.9923786653862</td><td>8.267079</td><td>16.906893</td><td>584.9348779472202</td><td>570.8978329885136</td><td>0</td></tr>\n",
       "<tr><td>Gaia EDR3 2105384245425036032</td><td>282.0115846417504</td><td>0.046779666</td><td>44.25693434951504</td><td>0.052581493</td><td>-0.1485608838175161</td><td>2.350118651573734</td><td>0.4188690082459329</td><td>0.052441496</td><td>401</td><td>2265.1344000992094</td><td>1.631512</td><td>17.299631</td><td>47</td><td>1072.065379414982</td><td>11.900966</td><td>17.762989</td><td>47</td><td>1652.775605621007</td><td>9.110782</td><td>16.70236</td><td>581.5212718202167</td><td>570.2769158032179</td><td>0</td></tr>\n",
       "<tr><td>Gaia EDR3 2105384275487021696</td><td>282.01759328547774</td><td>0.11267807</td><td>44.257040875289896</td><td>0.13129382</td><td>-3.5800351772400383</td><td>-7.079612589511583</td><td>0.0743769441101454</td><td>0.12939464</td><td>399</td><td>582.0286158555485</td><td>1.0321914</td><td>18.775005</td><td>45</td><td>314.7679254390559</td><td>9.323002</td><td>19.093567</td><td>44</td><td>396.87320392034536</td><td>7.354785</td><td>18.251266</td><td>583.8973054559013</td><td>567.1877236839633</td><td>0</td></tr>\n",
       "<tr><td>Gaia EDR3 2105384275487028864</td><td>282.022582665752</td><td>0.22320406</td><td>44.26418381452679</td><td>0.26284742</td><td>-2.499486775535332</td><td>-6.307408380364082</td><td>0.0193874303894036</td><td>0.2625386</td><td>404</td><td>216.9472501967879</td><td>0.7336519</td><td>19.846481</td><td>43</td><td>115.15200428632411</td><td>6.7880244</td><td>20.185364</td><td>42</td><td>164.2429781732355</td><td>5.605481</td><td>19.209179</td><td>580.9058758605402</td><td>560.6047885883868</td><td>0</td></tr>\n",
       "<tr><td>Gaia EDR3 2105384275487765888</td><td>282.01554846672286</td><td>0.25413236</td><td>44.26914439033675</td><td>0.29134235</td><td>0.3888750505490295</td><td>-7.9497518322893</td><td>0.4233887386813281</td><td>0.2960355</td><td>381</td><td>197.14257043284368</td><td>0.72848296</td><td>19.950417</td><td>32</td><td>71.95551194174189</td><td>5.6119547</td><td>20.695883</td><td>39</td><td>194.9146284235735</td><td>7.0755024</td><td>19.023285</td><td>574.5465844516351</td><td>561.3245079922403</td><td>0</td></tr>\n",
       "<tr><td>Gaia EDR3 2105384279784776448</td><td>282.0092266244273</td><td>0.054246727</td><td>44.26875069041165</td><td>0.061871875</td><td>-6.340516887731038</td><td>-7.520252684424294</td><td>0.0962676785583503</td><td>0.061771583</td><td>427</td><td>1706.8101283696064</td><td>1.416225</td><td>17.606903</td><td>48</td><td>957.8780200952529</td><td>8.470039</td><td>17.885267</td><td>48</td><td>1095.6133562745351</td><td>9.330917</td><td>17.148752</td><td>572.2452957511196</td><td>564.7344209661726</td><td>0</td></tr>\n",
       "<tr><td>Gaia EDR3 2105384279784776704</td><td>282.0184317908144</td><td>0.023118896</td><td>44.262211684053696</td><td>0.026202345</td><td>3.879033359655384</td><td>-5.6729656497714105</td><td>0.5755172079978582</td><td>0.026283344</td><td>431</td><td>7420.126900570511</td><td>2.5975993</td><td>16.01134</td><td>50</td><td>3858.3795039773786</td><td>16.86376</td><td>16.37253</td><td>47</td><td>5139.57490661732</td><td>10.144803</td><td>15.470577</td><td>580.6007776336172</td><td>563.8200371518124</td><td>0</td></tr>\n",
       "<tr><td>Gaia EDR3 2105384378566250240</td><td>282.0230698964456</td><td>0.27040806</td><td>44.26956759667623</td><td>0.30983913</td><td>-2.7724756871299667</td><td>4.465754227371283</td><td>-0.1601938796267615</td><td>0.30875683</td><td>403</td><td>857.7789698826234</td><td>3.8824275</td><td>18.353928</td><td>47</td><td>331.0216005083519</td><td>6.9227057</td><td>19.038902</td><td>46</td><td>889.7889117917607</td><td>5.812736</td><td>17.374678</td><td>577.3159918097779</td><td>557.2930923104728</td><td>0</td></tr>\n",
       "</table>"
      ],
      "text/plain": [
       "<Table length=10>\n",
       "           Gaia_ID                    ra           ra_error  ...    EXBA_column         EXBA_row     clean_flag\n",
       "                                     deg             mas     ...        pix               pix                  \n",
       "           bytes29                 float64         float64   ...      float64           float64        int64   \n",
       "----------------------------- ------------------ ----------- ... ----------------- ----------------- ----------\n",
       "Gaia EDR3 2105384211065299328 282.02601422275194  0.19085671 ... 589.6270633069905 564.8003895381436          0\n",
       "Gaia EDR3 2105384241127278208 282.00675214953424  0.13252868 ... 581.9344566234053 574.6431303056459          0\n",
       "Gaia EDR3 2105384245425035392  282.0141527165855  0.05810274 ... 584.9348779472202 570.8978329885136          0\n",
       "Gaia EDR3 2105384245425036032  282.0115846417504 0.046779666 ... 581.5212718202167 570.2769158032179          0\n",
       "Gaia EDR3 2105384275487021696 282.01759328547774  0.11267807 ... 583.8973054559013 567.1877236839633          0\n",
       "Gaia EDR3 2105384275487028864   282.022582665752  0.22320406 ... 580.9058758605402 560.6047885883868          0\n",
       "Gaia EDR3 2105384275487765888 282.01554846672286  0.25413236 ... 574.5465844516351 561.3245079922403          0\n",
       "Gaia EDR3 2105384279784776448  282.0092266244273 0.054246727 ... 572.2452957511196 564.7344209661726          0\n",
       "Gaia EDR3 2105384279784776704  282.0184317908144 0.023118896 ... 580.6007776336172 563.8200371518124          0\n",
       "Gaia EDR3 2105384378566250240  282.0230698964456  0.27040806 ... 577.3159918097779 557.2930923104728          0"
      ]
     },
     "execution_count": 27,
     "metadata": {},
     "output_type": "execute_result"
    }
   ],
   "source": [
    "tab = Table.read(\"../../EXBA_LCFs/data_v2/q05/ch01/hlsp_kbonus-apexba_kepler_kepler_exba-mask-ch01-q05_kepler_v1.0_sup.fits\")\n",
    "tab[:10]"
   ]
  },
  {
   "cell_type": "code",
   "execution_count": null,
   "metadata": {},
   "outputs": [],
   "source": []
  },
  {
   "cell_type": "code",
   "execution_count": null,
   "metadata": {},
   "outputs": [],
   "source": []
  },
  {
   "cell_type": "code",
   "execution_count": null,
   "metadata": {},
   "outputs": [],
   "source": []
  },
  {
   "cell_type": "code",
   "execution_count": null,
   "metadata": {},
   "outputs": [],
   "source": []
  },
  {
   "cell_type": "code",
   "execution_count": null,
   "metadata": {},
   "outputs": [],
   "source": []
  },
  {
   "cell_type": "code",
   "execution_count": null,
   "metadata": {},
   "outputs": [],
   "source": []
  },
  {
   "cell_type": "code",
   "execution_count": null,
   "metadata": {},
   "outputs": [],
   "source": []
  },
  {
   "cell_type": "code",
   "execution_count": null,
   "metadata": {},
   "outputs": [],
   "source": []
  },
  {
   "cell_type": "markdown",
   "metadata": {},
   "source": [
    "# Full catalog "
   ]
  },
  {
   "cell_type": "code",
   "execution_count": 267,
   "metadata": {},
   "outputs": [],
   "source": [
    "hdu = fits.open(\"../../EXBA_LCFs/data/hlsp_kbonus-apexba_kepler_v1.0_cat.fits\")"
   ]
  },
  {
   "cell_type": "code",
   "execution_count": 268,
   "metadata": {},
   "outputs": [
    {
     "name": "stdout",
     "output_type": "stream",
     "text": [
      "Filename: ../../EXBA_LCFs/data/hlsp_kbonus-apexba_kepler_v1.0_cat.fits\n",
      "No.    Name      Ver    Type      Cards   Dimensions   Format\n",
      "  0  PRIMARY       1 PrimaryHDU      24   ()      \n",
      "  1  EXBA-sources    1 BinTableHDU    104   9327R x 23C   [29A, D, D, D, D, D, D, D, D, D, D, D, J, E, E, E, E, E, E, E, E, E, D]   \n"
     ]
    }
   ],
   "source": [
    "hdu.info()"
   ]
  },
  {
   "cell_type": "code",
   "execution_count": 269,
   "metadata": {},
   "outputs": [],
   "source": [
    "hdu[0].header.set(\"EQUINOX\", 2000.0, \"Equinox of the celestial coordinate system\")"
   ]
  },
  {
   "cell_type": "code",
   "execution_count": 270,
   "metadata": {},
   "outputs": [
    {
     "data": {
      "text/plain": [
       "SIMPLE  =                    T / Standard FITS format                           \n",
       "BITPIX  =                    8 / Character data                                 \n",
       "NAXIS   =                    0 / No image, just extensions                      \n",
       "EXTEND  =                    T / There are standard extensions                  \n",
       "DOI     = '' / Digital Object Identifier for the HLSP data collection           \n",
       "EQUINOX =               2000.0 / Equinox of the celestial coordinate system     \n",
       "HLSPID  = 'kbonus-apexba'      / The identifier for this HLSP collection        \n",
       "HLSPLEAD= 'Jorge Martinez-Palomera' / Full name of HLSP project lead            \n",
       "HLSPNAME= 'Kepler Bonus: Aperture EXBA' / Title for HLSP project, long form     \n",
       "HLSPTARG= 'Kepler EXBA'        / Designation of the field(s) for this HLSP      \n",
       "HLSPVER = '1.0     '           / HLSP version                                   \n",
       "OBSERVAT= 'Kepler  '           / Observatory used to obtain this observation    \n",
       "TELESCOP= 'Kepler  '           / Telescope used for this observation            \n",
       "INSTRUME= 'Kepler Photometer'  / Instrument used for this observation           \n",
       "LICENSE = 'CC BY 4.0'          / License for use of these data                  \n",
       "LICENURL= 'https://creativecommons.org/licenses/by/4.0/' / Data license URL     \n",
       "MJD-BEG =     2455276.49016845 / Start time of observation, quarter 5, in MJD   \n",
       "MJD-END =    2456424.001507975 / End time of observation, quarter 17, in MJD    \n",
       "MJD-MID =    2455850.245838213 / Mid time of observation in MJD                 \n",
       "XPOSURE =                 1625 / Duration of exposure [s]                       \n",
       "RADESYS = 'ICRS    '           / Reference frame of celestial coordinates       \n",
       "CHECKSUM= 'hcFhkbDfhbDfhbDf'   / HDU checksum updated 2021-07-01T12:10:24       \n",
       "DATASUM = '0       '           / data unit checksum updated 2021-07-01T12:10:24 \n",
       "COMMENT Dummy header; see following table extension                             "
      ]
     },
     "execution_count": 270,
     "metadata": {},
     "output_type": "execute_result"
    }
   ],
   "source": [
    "hdu[0].header"
   ]
  },
  {
   "cell_type": "code",
   "execution_count": 256,
   "metadata": {},
   "outputs": [
    {
     "name": "stdout",
     "output_type": "stream",
     "text": [
      "ra\n",
      "ra_error\n",
      "dec\n",
      "dec_error\n",
      "pmra\n",
      "pmdec\n",
      "parallax\n",
      "parallax_error\n",
      "phot_g_mean_mag\n",
      "phot_bp_mean_mag\n",
      "phot_rp_mean_mag\n",
      "KIC\n",
      "umag\n",
      "gmag\n",
      "rmag\n",
      "imag\n",
      "zmag\n",
      "Jmag\n",
      "Hmag\n",
      "Kmag\n",
      "kepmag\n",
      "angDist\n"
     ]
    }
   ],
   "source": [
    "source_list = Table.read(\"../../EXBA_LCFs/data/hlsp_kbonus-apexba_kepler_v1.0_cat.fits\", )\n",
    "for col in source_list.columns:\n",
    "    if col == \"Gaia_designation\": continue\n",
    "    print(col)\n",
    "    try:\n",
    "        source_list[col][source_list[col] == 1e20] = np.nan\n",
    "        source_list[col].mask = ~np.isfinite(source_list[col])\n",
    "    except ValueError:\n",
    "        continue\n",
    "try:\n",
    "    source_list.rename_column('Gaia_designation', 'Gaia ID')\n",
    "except:\n",
    "    pass\n",
    "    \n",
    "hdu0 = fits.open(\"../../EXBA_LCFs/data/hlsp_kbonus-apexba_kepler_v1.0_cat.fits\")[0]\n",
    "hdu1_h = fits.open(\"../../EXBA_LCFs/data/hlsp_kbonus-apexba_kepler_v1.0_cat.fits\")[0].header\n",
    "hdu_tab = fits.BinTableHDU(source_list, name=\"EXBA-SOURCE-LIST\")\n",
    "\n",
    "for kwi in range(1, 24):\n",
    "    if \"TCOMM%i\" % kwi in list(hdu1_h.keys()):\n",
    "        hdu_tab.header.set(\"TCOMM%i\" % kwi, hdu1_h[\"TCOMM%i\" % kwi], after=\"TUNIT%i\" % kwi)\n",
    "    else:\n",
    "        continue\n",
    "\n",
    "hdul = fits.HDUList([hdu0, hdu_tab])\n",
    "\n",
    "hdul.writeto(\"test.fits\", overwrite=True, checksum=True)"
   ]
  },
  {
   "cell_type": "raw",
   "metadata": {},
   "source": [
    "hdu.writeto(\"../../EXBA_LCFs/data_v2/hlsp_kbonus-apexba_kepler_kepler_source-list_kepler_v1.0_cat.fits\", overwrite=True, checksum=True)"
   ]
  },
  {
   "cell_type": "code",
   "execution_count": 262,
   "metadata": {},
   "outputs": [],
   "source": [
    "hdul_new = fits.open(\"test_2.fits\")"
   ]
  },
  {
   "cell_type": "code",
   "execution_count": 264,
   "metadata": {},
   "outputs": [],
   "source": [
    "del hdul_new[1].header[\"STILVERS\"], hdul_new[1].header[\"STILCLAS\"]"
   ]
  },
  {
   "cell_type": "code",
   "execution_count": 266,
   "metadata": {},
   "outputs": [
    {
     "data": {
      "text/plain": [
       "FITS_rec([('Gaia EDR3 2105384211065299328', 282.02601422, 0.19085671, 44.25377945, 0.22391872, -19.97306253, -18.94410455, 0.58922987, 0.22106487, 19.495558, 20.573519, 18.441187,     8278800, nan,    nan, 19.63 , 18.36 ,    nan,    nan,    nan,    nan, 19.63 , 0.456638),\n",
       "          ('Gaia EDR3 2105384241127278208', 282.00675215, 0.13252868, 44.2535452 , 0.15323067,  -1.77194063,  -2.52998036, 0.15009592, 0.15502745, 19.065722, 19.520166, 18.487371,     8278766, nan, 19.869, 19.221, 18.988,    nan,    nan,    nan,    nan, 19.254, 0.326691),\n",
       "          ('Gaia EDR3 2105384245425035392', 282.01415272, 0.05810274, 44.25357179, 0.06556623,  -1.18843239,  -1.3311902 , 0.64966346, 0.06638684, 17.68509 , 18.431139, 16.906893,     8278780, nan, 18.595, 17.742, 17.418,    nan, 15.89 , 15.292, 15.129, 17.772, 0.285838),\n",
       "          ...,\n",
       "          ('Gaia EDR3 2143714973114706560', 282.74053037, 0.02152255, 48.26248902, 0.02269474,  -3.18832027,  -5.86677478, 0.58844043, 0.02325262, 15.417315, 15.777968, 14.891897,    10843995, nan, 15.645, 15.162, 15.031,    nan, 14.322, 14.068, 14.005, 15.216, 0.136016),\n",
       "          ('Gaia EDR3 2076208704382822912', 295.76662757, 0.12125051, 39.44553905, 0.1209651 ,  -5.70513486,  -8.95397349, 0.69273828, 0.14172465, 18.638466, 19.238277, 17.677736, -2147483648, nan,    nan,    nan,    nan,    nan,    nan,    nan,    nan,    nan,      nan),\n",
       "          ('Gaia EDR3 2082091710075415424', 300.72415234, 0.09935167, 44.61432886, 0.10809291,  -2.55280934,  -1.65499529, 0.23976955, 0.11388309, 18.259747, 18.712301, 17.280407,     8589522, nan, 18.265,    nan, 17.152, 16.889, 15.848, 15.34 , 15.064, 18.265, 0.927771)],\n",
       "         dtype=(numpy.record, [('Gaia_ID', 'S29'), ('ra', '>f8'), ('ra_error', '>f8'), ('dec', '>f8'), ('dec_error', '>f8'), ('pmra', '>f8'), ('pmdec', '>f8'), ('parallax', '>f8'), ('parallax_error', '>f8'), ('phot_g_mean_mag', '>f8'), ('phot_bp_mean_mag', '>f8'), ('phot_rp_mean_mag', '>f8'), ('KIC', '>i4'), ('umag', '>f4'), ('gmag', '>f4'), ('rmag', '>f4'), ('imag', '>f4'), ('zmag', '>f4'), ('Jmag', '>f4'), ('Hmag', '>f4'), ('Kmag', '>f4'), ('kepmag', '>f4'), ('angDist', '>f8')]))"
      ]
     },
     "execution_count": 266,
     "metadata": {},
     "output_type": "execute_result"
    }
   ],
   "source": [
    "hdul_new[1].data"
   ]
  },
  {
   "cell_type": "code",
   "execution_count": 272,
   "metadata": {},
   "outputs": [
    {
     "data": {
      "text/plain": [
       "SIMPLE  =                    T / Standard FITS format                           \n",
       "BITPIX  =                    8 / Character data                                 \n",
       "NAXIS   =                    0 / No image, just extensions                      \n",
       "EXTEND  =                    T / There are standard extensions                  \n",
       "DOI     = '' / Digital Object Identifier for the HLSP data collection           \n",
       "EQUINOX =               2000.0 / Equinox of the celestial coordinate system     \n",
       "HLSPID  = 'kbonus-apexba'      / The identifier for this HLSP collection        \n",
       "HLSPLEAD= 'Jorge Martinez-Palomera' / Full name of HLSP project lead            \n",
       "HLSPNAME= 'Kepler Bonus: Aperture EXBA' / Title for HLSP project, long form     \n",
       "HLSPTARG= 'Kepler EXBA'        / Designation of the field(s) for this HLSP      \n",
       "HLSPVER = '1.0     '           / HLSP version                                   \n",
       "OBSERVAT= 'Kepler  '           / Observatory used to obtain this observation    \n",
       "TELESCOP= 'Kepler  '           / Telescope used for this observation            \n",
       "INSTRUME= 'Kepler Photometer'  / Instrument used for this observation           \n",
       "LICENSE = 'CC BY 4.0'          / License for use of these data                  \n",
       "LICENURL= 'https://creativecommons.org/licenses/by/4.0/' / Data license URL     \n",
       "MJD-BEG =     2455276.49016845 / Start time of observation, quarter 5, in MJD   \n",
       "MJD-END =    2456424.001507975 / End time of observation, quarter 17, in MJD    \n",
       "MJD-MID =    2455850.245838213 / Mid time of observation in MJD                 \n",
       "XPOSURE =                 1625 / Duration of exposure [s]                       \n",
       "RADESYS = 'ICRS    '           / Reference frame of celestial coordinates       \n",
       "CHECKSUM= 'hcFhkbDfhbDfhbDf'   / HDU checksum updated 2021-07-01T12:10:24       \n",
       "DATASUM = '0       '           / data unit checksum updated 2021-07-01T12:10:24 \n",
       "COMMENT Dummy header; see following table extension                             "
      ]
     },
     "execution_count": 272,
     "metadata": {},
     "output_type": "execute_result"
    }
   ],
   "source": [
    "hdu[0].header"
   ]
  },
  {
   "cell_type": "code",
   "execution_count": 273,
   "metadata": {},
   "outputs": [],
   "source": [
    "final_hdul = fits.HDUList([hdu[0], hdul_new[1]])\n",
    "\n",
    "final_hdul.writeto(\"../../EXBA_LCFs/data_v2/hlsp_kbonus-apexba_kepler_kepler_source-list_kepler_v1.0_cat.fits\", \n",
    "                   overwrite=True, checksum=True)"
   ]
  },
  {
   "cell_type": "code",
   "execution_count": 275,
   "metadata": {},
   "outputs": [],
   "source": [
    "test_cat = fits.open(\"../../EXBA_LCFs/data_v2/hlsp_kbonus-apexba_kepler_kepler_source-list_kepler_v1.0_cat.fits\")"
   ]
  },
  {
   "cell_type": "code",
   "execution_count": 276,
   "metadata": {},
   "outputs": [
    {
     "name": "stdout",
     "output_type": "stream",
     "text": [
      "Filename: ../../EXBA_LCFs/data_v2/hlsp_kbonus-apexba_kepler_kepler_source-list_kepler_v1.0_cat.fits\n",
      "No.    Name      Ver    Type      Cards   Dimensions   Format\n",
      "  0  PRIMARY       1 PrimaryHDU      24   ()      \n",
      "  1  EXBA-SOURCE-LIST    1 BinTableHDU    103   9327R x 23C   [29A, D, D, D, D, D, D, D, D, D, D, D, J, E, E, E, E, E, E, E, E, E, D]   \n"
     ]
    }
   ],
   "source": [
    "test_cat.info()"
   ]
  },
  {
   "cell_type": "code",
   "execution_count": 277,
   "metadata": {},
   "outputs": [
    {
     "data": {
      "text/plain": [
       "SIMPLE  =                    T / Standard FITS format                           \n",
       "BITPIX  =                    8 / Character data                                 \n",
       "NAXIS   =                    0 / No image, just extensions                      \n",
       "EXTEND  =                    T / There are standard extensions                  \n",
       "DOI     = '' / Digital Object Identifier for the HLSP data collection           \n",
       "EQUINOX =               2000.0 / Equinox of the celestial coordinate system     \n",
       "HLSPID  = 'kbonus-apexba'      / The identifier for this HLSP collection        \n",
       "HLSPLEAD= 'Jorge Martinez-Palomera' / Full name of HLSP project lead            \n",
       "HLSPNAME= 'Kepler Bonus: Aperture EXBA' / Title for HLSP project, long form     \n",
       "HLSPTARG= 'Kepler EXBA'        / Designation of the field(s) for this HLSP      \n",
       "HLSPVER = '1.0     '           / HLSP version                                   \n",
       "OBSERVAT= 'Kepler  '           / Observatory used to obtain this observation    \n",
       "TELESCOP= 'Kepler  '           / Telescope used for this observation            \n",
       "INSTRUME= 'Kepler Photometer'  / Instrument used for this observation           \n",
       "LICENSE = 'CC BY 4.0'          / License for use of these data                  \n",
       "LICENURL= 'https://creativecommons.org/licenses/by/4.0/' / Data license URL     \n",
       "MJD-BEG =     2455276.49016845 / Start time of observation, quarter 5, in MJD   \n",
       "MJD-END =    2456424.001507975 / End time of observation, quarter 17, in MJD    \n",
       "MJD-MID =    2455850.245838213 / Mid time of observation in MJD                 \n",
       "XPOSURE =                 1625 / Duration of exposure [s]                       \n",
       "RADESYS = 'ICRS    '           / Reference frame of celestial coordinates       \n",
       "CHECKSUM= 'iaFfjT9ciYCciY9c'   / HDU checksum updated 2021-09-23T18:56:18       \n",
       "DATASUM = '0       '           / data unit checksum updated 2021-09-23T18:56:18 \n",
       "COMMENT Dummy header; see following table extension                             "
      ]
     },
     "execution_count": 277,
     "metadata": {},
     "output_type": "execute_result"
    }
   ],
   "source": [
    "test_cat[0].header"
   ]
  },
  {
   "cell_type": "code",
   "execution_count": 278,
   "metadata": {},
   "outputs": [
    {
     "data": {
      "text/plain": [
       "XTENSION= 'BINTABLE'           / binary table extension                         \n",
       "BITPIX  =                    8 / 8-bit bytes                                    \n",
       "NAXIS   =                    2 / 2-dimensional table                            \n",
       "NAXIS1  =                  165 / width of table in bytes                        \n",
       "NAXIS2  =                 9327 / number of rows in table                        \n",
       "PCOUNT  =                    0 / size of special data area                      \n",
       "GCOUNT  =                    1 / one data group                                 \n",
       "TFIELDS =                   23 / number of columns                              \n",
       "EXTNAME = 'EXBA-SOURCE-LIST'   / table name                                     \n",
       "TTYPE1  = 'Gaia_ID '           / label for column 1                             \n",
       "TFORM1  = '29A     '           / format for column 1                            \n",
       "TCOMM1  = 'Gaia designation ID'                                                 \n",
       "TTYPE2  = 'ra      '           / label for column 2                             \n",
       "TFORM2  = 'D       '           / format for column 2                            \n",
       "TUNIT2  = 'deg     '           / units for column 2                             \n",
       "TCOMM2  = 'Gaia Right ascension'                                                \n",
       "TTYPE3  = 'ra_error'           / label for column 3                             \n",
       "TFORM3  = 'D       '           / format for column 3                            \n",
       "TUNIT3  = 'mas     '           / units for column 3                             \n",
       "TCOMM3  = 'Gaia Standard error of right ascension'                              \n",
       "TTYPE4  = 'dec     '           / label for column 4                             \n",
       "TFORM4  = 'D       '           / format for column 4                            \n",
       "TUNIT4  = 'deg     '           / units for column 4                             \n",
       "TCOMM4  = 'Gaia Declination'                                                    \n",
       "TTYPE5  = 'dec_error'          / label for column 5                             \n",
       "TFORM5  = 'D       '           / format for column 5                            \n",
       "TUNIT5  = 'mas     '           / units for column 5                             \n",
       "TCOMM5  = 'Gaia Standard error of declination'                                  \n",
       "TTYPE6  = 'pmra    '           / label for column 6                             \n",
       "TFORM6  = 'D       '           / format for column 6                            \n",
       "TUNIT6  = 'mas yr-1'           / units for column 6                             \n",
       "TCOMM6  = 'Gaia Proper motion in right ascension direction'                     \n",
       "TTYPE7  = 'pmdec   '           / label for column 7                             \n",
       "TFORM7  = 'D       '           / format for column 7                            \n",
       "TUNIT7  = 'mas yr-1'           / units for column 7                             \n",
       "TCOMM7  = 'Gaia Proper motion in declination'                                   \n",
       "TTYPE8  = 'parallax'           / label for column 8                             \n",
       "TFORM8  = 'D       '           / format for column 8                            \n",
       "TUNIT8  = 'mas     '           / units for column 8                             \n",
       "TCOMM8  = 'Gaia Parallax'                                                       \n",
       "TTYPE9  = 'parallax_error'     / label for column 9                             \n",
       "TFORM9  = 'D       '           / format for column 9                            \n",
       "TUNIT9  = 'mas     '           / units for column 9                             \n",
       "TCOMM9  = 'Gaia Standard error of parallax'                                     \n",
       "TTYPE10 = 'phot_g_mean_mag'    / label for column 10                            \n",
       "TFORM10 = 'D       '           / format for column 10                           \n",
       "TUNIT10 = 'mag     '           / units for column 10                            \n",
       "TCOMM10 = 'Gaia G-band mean magnitude'                                          \n",
       "TTYPE11 = 'phot_bp_mean_mag'   / label for column 11                            \n",
       "TFORM11 = 'D       '           / format for column 11                           \n",
       "TUNIT11 = 'mag     '           / units for column 11                            \n",
       "TCOMM11 = 'Gaia Integrated BP mean magnitude'                                   \n",
       "TTYPE12 = 'phot_rp_mean_mag'   / label for column 12                            \n",
       "TFORM12 = 'D       '           / format for column 12                           \n",
       "TUNIT12 = 'mag     '           / units for column 12                            \n",
       "TCOMM12 = 'Gaia Integrated RP mean magnitude'                                   \n",
       "TTYPE13 = 'KIC     '           / label for column 13                            \n",
       "TFORM13 = 'J       '           / format for column 13                           \n",
       "TNULL13 =          -2147483648 / blank value for column 13                      \n",
       "TCOMM13 = 'Kepler Input Catalog'                                                \n",
       "TTYPE14 = 'umag    '           / label for column 14                            \n",
       "TFORM14 = 'E       '           / format for column 14                           \n",
       "TUNIT14 = 'mag     '           / units for column 14                            \n",
       "TCOMM14 = 'KIC Magnitude umag'                                                  \n",
       "TTYPE15 = 'gmag    '           / label for column 15                            \n",
       "TFORM15 = 'E       '           / format for column 15                           \n",
       "TUNIT15 = 'mag     '           / units for column 15                            \n",
       "TCOMM15 = 'KIC Magnitude gmag'                                                  \n",
       "TTYPE16 = 'rmag    '           / label for column 16                            \n",
       "TFORM16 = 'E       '           / format for column 16                           \n",
       "TUNIT16 = 'mag     '           / units for column 16                            \n",
       "TCOMM16 = 'KIC Magnitude rmag'                                                  \n",
       "TTYPE17 = 'imag    '           / label for column 17                            \n",
       "TFORM17 = 'E       '           / format for column 17                           \n",
       "TUNIT17 = 'mag     '           / units for column 17                            \n",
       "TCOMM17 = 'KIC Magnitude imag'                                                  \n",
       "TTYPE18 = 'zmag    '           / label for column 18                            \n",
       "TFORM18 = 'E       '           / format for column 18                           \n",
       "TUNIT18 = 'mag     '           / units for column 18                            \n",
       "TCOMM18 = 'KIC Magnitude zmag'                                                  \n",
       "TTYPE19 = 'Jmag    '           / label for column 19                            \n",
       "TFORM19 = 'E       '           / format for column 19                           \n",
       "TUNIT19 = 'mag     '           / units for column 19                            \n",
       "TCOMM19 = 'KIC Magnitude Jmag'                                                  \n",
       "TTYPE20 = 'Hmag    '           / label for column 20                            \n",
       "TFORM20 = 'E       '           / format for column 20                           \n",
       "TUNIT20 = 'mag     '           / units for column 20                            \n",
       "TCOMM20 = 'KIC Magnitude Hmag'                                                  \n",
       "TTYPE21 = 'Kmag    '           / label for column 21                            \n",
       "TFORM21 = 'E       '           / format for column 21                           \n",
       "TUNIT21 = 'mag     '           / units for column 21                            \n",
       "TCOMM21 = 'KIC Magnitude Kmag'                                                  \n",
       "TTYPE22 = 'kepmag  '           / label for column 22                            \n",
       "TFORM22 = 'E       '           / format for column 22                           \n",
       "TUNIT22 = 'mag     '           / units for column 22                            \n",
       "TCOMM22 = 'KIC Magnitude kepmag'                                                \n",
       "TTYPE23 = 'angDist '           / label for column 23                            \n",
       "TFORM23 = 'D       '           / format for column 23                           \n",
       "TUNIT23 = 'arcsec  '           / units for column 23                            \n",
       "TCOMM23 = 'Gaia EDR3-KIC crossmatch distance'                                   \n",
       "DATE-HDU= '2021-09-24T01:50:09' / Date of HDU creation (UTC)                    \n",
       "CHECKSUM= 'ZaVKfYUKZaUKdWUK'   / HDU checksum updated 2021-09-23T18:56:18       \n",
       "DATASUM = '3099157036'         / data unit checksum updated 2021-09-23T18:56:18 "
      ]
     },
     "execution_count": 278,
     "metadata": {},
     "output_type": "execute_result"
    }
   ],
   "source": [
    "test_cat[1].header"
   ]
  },
  {
   "cell_type": "code",
   "execution_count": 36,
   "metadata": {},
   "outputs": [],
   "source": [
    "df = Table.read(\"../../EXBA_LCFs/data/hlsp_kbonus-apexba_kepler_kepler_source-list_kepler_v1.0_cat.fits\").to_pandas()"
   ]
  },
  {
   "cell_type": "code",
   "execution_count": 37,
   "metadata": {},
   "outputs": [],
   "source": [
    "import matplotlib.pyplot as plt"
   ]
  },
  {
   "cell_type": "code",
   "execution_count": 44,
   "metadata": {},
   "outputs": [
    {
     "data": {
      "image/png": "[encoded data removed]",
      "text/plain": [
       "<Figure size 864x648 with 1 Axes>"
      ]
     },
     "metadata": {
      "needs_background": "light"
     },
     "output_type": "display_data"
    }
   ],
   "source": [
    "plt.figure(figsize=(12,9))\n",
    "plt.title(\"Kepler's EXBA mask objects\", fontsize=15)\n",
    "plt.scatter(df.ra, df.dec, s=1, alpha=.6)\n",
    "plt.xlabel(\"R.A. [deg]\", fontsize=15)\n",
    "plt.ylabel(\"Dec. [deg]\", fontsize=15)\n",
    "plt.savefig(\"../../EXBA_LCFs/sky_map.png\", bbox_inches=\"tight\")\n",
    "plt.show()"
   ]
  },
  {
   "cell_type": "code",
   "execution_count": null,
   "metadata": {},
   "outputs": [],
   "source": []
  }
 ],
 "metadata": {
  "kernelspec": {
   "display_name": "adap",
   "language": "python",
   "name": "adap"
  },
  "language_info": {
   "codemirror_mode": {
    "name": "ipython",
    "version": 3
   },
   "file_extension": ".py",
   "mimetype": "text/x-python",
   "name": "python",
   "nbconvert_exporter": "python",
   "pygments_lexer": "ipython3",
   "version": "3.8.6"
  }
 },
 "nbformat": 4,
 "nbformat_minor": 4
}
