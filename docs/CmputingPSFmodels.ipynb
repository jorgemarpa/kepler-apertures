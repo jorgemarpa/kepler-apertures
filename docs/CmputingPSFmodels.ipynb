{
 "cells": [
  {
   "cell_type": "code",
   "execution_count": 2,
   "metadata": {},
   "outputs": [],
   "source": [
    "import os\n",
    "import sys\n",
    "import numpy as np\n",
    "from scipy import sparse\n",
    "import matplotlib.pyplot as plt\n",
    "path = os.path.dirname(os.getcwd())\n",
    "\n",
    "sys.path.append(path)\n",
    "from kepler_apertures import KeplerPSF"
   ]
  },
  {
   "cell_type": "code",
   "execution_count": 99,
   "metadata": {},
   "outputs": [
    {
     "name": "stdout",
     "output_type": "stream",
     "text": [
      "Will query with this (ra, dec, radius, epoch):  [285.43118529] [39.10079411] [1.1006722233109667] 2010.302574605832\n",
      "Loading query from file...\n",
      "../data/catalogs/5/channel_12_gaia_xmatch.csv\n",
      "Cleaning sources table:\n"
     ]
    },
    {
     "name": "stderr",
     "output_type": "stream",
     "text": [
      "Gaia sources: 100%|██████████| 10812/10812 [02:27<00:00, 73.26it/s]\n"
     ]
    },
    {
     "name": "stdout",
     "output_type": "stream",
     "text": [
      "to polar coordinates...\n",
      "Computing PSF edges...\n",
      "Computing PSF model...\n",
      "# Contaminated pixels:  8252\n"
     ]
    },
    {
     "data": {
      "text/plain": [
       "<Figure size 1008x360 with 0 Axes>"
      ]
     },
     "metadata": {},
     "output_type": "display_data"
    },
    {
     "data": {
      "text/plain": [
       "<Figure size 864x576 with 0 Axes>"
      ]
     },
     "metadata": {},
     "output_type": "display_data"
    }
   ],
   "source": [
    "psf = KeplerPSF(quarter=5, channel=12, plot=True)"
   ]
  },
  {
   "cell_type": "code",
   "execution_count": 101,
   "metadata": {},
   "outputs": [
    {
     "name": "stdout",
     "output_type": "stream",
     "text": [
      "KeplerPSF\t Path\t fi\t fj\t flux\t fv\t gf\t inot\t json\t \n",
      "jupyter_lab_consumable_path\t mi\t mj\t mv\t nnz_i_f_tuple\t nnz_i_m_tuple\t nnz_inds_f\t nnz_inds_m\t nonz_i_f\t \n",
      "nonz_i_phi\t nonz_i_r\t nonz_idx\t np\t path\t plt\t psf\t rad_mask\t sparse\t \n",
      "temp_mask\t \n"
     ]
    }
   ],
   "source": [
    "%who"
   ]
  },
  {
   "cell_type": "code",
   "execution_count": null,
   "metadata": {},
   "outputs": [],
   "source": []
  }
 ],
 "metadata": {
  "kernelspec": {
   "display_name": "adap",
   "language": "python",
   "name": "adap"
  },
  "language_info": {
   "codemirror_mode": {
    "name": "ipython",
    "version": 3
   },
   "file_extension": ".py",
   "mimetype": "text/x-python",
   "name": "python",
   "nbconvert_exporter": "python",
   "pygments_lexer": "ipython3",
   "version": "3.8.6"
  }
 },
 "nbformat": 4,
 "nbformat_minor": 4
}
