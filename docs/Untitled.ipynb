{
 "cells": [
  {
   "cell_type": "code",
   "execution_count": 5,
   "metadata": {},
   "outputs": [],
   "source": [
    "import os, sys\n",
    "path = os.path.dirname(os.getcwd()) \n",
    "\n",
    "sys.path.append(path)\n",
    "from kepler_apertures import KeplerPSF"
   ]
  },
  {
   "cell_type": "code",
   "execution_count": 34,
   "metadata": {},
   "outputs": [
    {
     "name": "stdout",
     "output_type": "stream",
     "text": [
      "Will query with this (ra, dec, radius, epoch):  [299.06298909] [40.81170978] [1.119688140546584] 2010.3025716162076\n",
      "INFO: Query finished. [astroquery.utils.tap.core]\n",
      "Saving query to file...\n",
      "../data/catalogs/5/channel_71_gaia_xmatch.csv\n",
      "Cleaning sources table:\n"
     ]
    },
    {
     "name": "stderr",
     "output_type": "stream",
     "text": [
      "Gaia sources: 100%|██████████| 32354/32354 [05:16<00:00, 102.09it/s]\n"
     ]
    },
    {
     "name": "stdout",
     "output_type": "stream",
     "text": [
      "to polar coordinates...\n",
      "Computing PSF edges...\n",
      "Computing PSF model...\n",
      "# Contaminated pixels:  201058\n"
     ]
    },
    {
     "data": {
      "text/plain": [
       "<Figure size 1008x360 with 0 Axes>"
      ]
     },
     "metadata": {},
     "output_type": "display_data"
    },
    {
     "data": {
      "text/plain": [
       "<Figure size 864x576 with 0 Axes>"
      ]
     },
     "metadata": {},
     "output_type": "display_data"
    }
   ],
   "source": [
    "psf = KeplerPSF(quarter=5, channel=71\n",
    "            , plot=True)"
   ]
  },
  {
   "cell_type": "code",
   "execution_count": null,
   "metadata": {},
   "outputs": [],
   "source": []
  }
 ],
 "metadata": {
  "kernelspec": {
   "display_name": "adap",
   "language": "python",
   "name": "adap"
  },
  "language_info": {
   "codemirror_mode": {
    "name": "ipython",
    "version": 3
   },
   "file_extension": ".py",
   "mimetype": "text/x-python",
   "name": "python",
   "nbconvert_exporter": "python",
   "pygments_lexer": "ipython3",
   "version": "3.8.6"
  }
 },
 "nbformat": 4,
 "nbformat_minor": 4
}
